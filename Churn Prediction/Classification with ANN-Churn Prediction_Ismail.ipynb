{
 "cells": [
  {
   "cell_type": "markdown",
   "metadata": {},
   "source": [
    "<h1 style=\"text-align: center;\"><br>Churn Prediction for Bank Customer<br><h1>"
   ]
  },
  {
   "cell_type": "markdown",
   "metadata": {},
   "source": [
    "# Dataset Info"
   ]
  },
  {
   "cell_type": "markdown",
   "metadata": {},
   "source": [
    "We have a dataset in which there are details of a bank's customers and the target variable is a binary variable reflecting the fact whether the customer left the bank (closed his account) or he continues to be a customer.\n",
    "\n",
    "The features in the given dataset are:\n",
    "- **rownumber:** Row Numbers from 1 to 10000.\n",
    "- **customerid:** A unique ID that identifies each customer.\n",
    "- **surname:** The customer’s surname.\n",
    "- **creditscore:** A credit score is a number between 300–850 that depicts a consumer's creditworthiness.\n",
    "- **geography:** The country from which the customer belongs to.\n",
    "- **Gender:** The customer’s gender: Male, Female\n",
    "- **Age:** The customer’s current age, in years, at the time of being customer.\n",
    "- **tenure:** The number of years for which the customer has been with the bank.\n",
    "- **balance:** Bank balance of the customer.\n",
    "- **numofproducts:** the number of bank products the customer is utilising.\n",
    "- **hascrcard:** The number of credit cards given to the customer by the bank.\n",
    "- **isactivemember:** Binary Flag for indicating if the client is active or not with the bank before the moment where the client exits the company (recorded in the variable \"exited\")\n",
    "- **exited:** Binary flag 1 if the customer closed account with bank and 0 if the customer is retained."
   ]
  },
  {
   "cell_type": "markdown",
   "metadata": {},
   "source": [
    "# Improt Libraries & Data"
   ]
  },
  {
   "cell_type": "code",
   "execution_count": 184,
   "metadata": {
    "ExecuteTime": {
     "end_time": "2022-10-04T17:14:15.642195Z",
     "start_time": "2022-10-04T17:14:15.618211Z"
    }
   },
   "outputs": [],
   "source": [
    "import numpy as np\n",
    "import pandas as pd\n",
    "import matplotlib.pyplot as plt\n",
    "import seaborn as sns\n",
    "\n",
    "import warnings\n",
    "warnings.filterwarnings(\"ignore\")\n",
    "warnings.warn(\"this will not show\")\n",
    "\n",
    "plt.rcParams[\"figure.figsize\"] = (10,6)\n",
    "\n",
    "sns.set_style(\"whitegrid\")\n",
    "pd.set_option('display.float_format', lambda x: '%.3f' % x)\n",
    "\n",
    "# Set it None to display all rows in the dataframe\n",
    "# pd.set_option('display.max_rows', None)\n",
    "\n",
    "# Set it to None to display all columns in the dataframe\n",
    "pd.set_option('display.max_columns', None)"
   ]
  },
  {
   "cell_type": "code",
   "execution_count": 185,
   "metadata": {
    "ExecuteTime": {
     "end_time": "2022-10-04T17:14:15.798154Z",
     "start_time": "2022-10-04T17:14:15.647191Z"
    }
   },
   "outputs": [
    {
     "data": {
      "text/html": [
       "<div>\n",
       "<style scoped>\n",
       "    .dataframe tbody tr th:only-of-type {\n",
       "        vertical-align: middle;\n",
       "    }\n",
       "\n",
       "    .dataframe tbody tr th {\n",
       "        vertical-align: top;\n",
       "    }\n",
       "\n",
       "    .dataframe thead th {\n",
       "        text-align: right;\n",
       "    }\n",
       "</style>\n",
       "<table border=\"1\" class=\"dataframe\">\n",
       "  <thead>\n",
       "    <tr style=\"text-align: right;\">\n",
       "      <th></th>\n",
       "      <th>RowNumber</th>\n",
       "      <th>CustomerId</th>\n",
       "      <th>Surname</th>\n",
       "      <th>CreditScore</th>\n",
       "      <th>Geography</th>\n",
       "      <th>Gender</th>\n",
       "      <th>Age</th>\n",
       "      <th>Tenure</th>\n",
       "      <th>Balance</th>\n",
       "      <th>NumOfProducts</th>\n",
       "      <th>HasCrCard</th>\n",
       "      <th>IsActiveMember</th>\n",
       "      <th>EstimatedSalary</th>\n",
       "      <th>Exited</th>\n",
       "    </tr>\n",
       "  </thead>\n",
       "  <tbody>\n",
       "    <tr>\n",
       "      <th>0</th>\n",
       "      <td>1</td>\n",
       "      <td>15634602</td>\n",
       "      <td>Hargrave</td>\n",
       "      <td>619</td>\n",
       "      <td>France</td>\n",
       "      <td>Female</td>\n",
       "      <td>42</td>\n",
       "      <td>2</td>\n",
       "      <td>0.000</td>\n",
       "      <td>1</td>\n",
       "      <td>1</td>\n",
       "      <td>1</td>\n",
       "      <td>101348.880</td>\n",
       "      <td>1</td>\n",
       "    </tr>\n",
       "    <tr>\n",
       "      <th>1</th>\n",
       "      <td>2</td>\n",
       "      <td>15647311</td>\n",
       "      <td>Hill</td>\n",
       "      <td>608</td>\n",
       "      <td>Spain</td>\n",
       "      <td>Female</td>\n",
       "      <td>41</td>\n",
       "      <td>1</td>\n",
       "      <td>83807.860</td>\n",
       "      <td>1</td>\n",
       "      <td>0</td>\n",
       "      <td>1</td>\n",
       "      <td>112542.580</td>\n",
       "      <td>0</td>\n",
       "    </tr>\n",
       "    <tr>\n",
       "      <th>2</th>\n",
       "      <td>3</td>\n",
       "      <td>15619304</td>\n",
       "      <td>Onio</td>\n",
       "      <td>502</td>\n",
       "      <td>France</td>\n",
       "      <td>Female</td>\n",
       "      <td>42</td>\n",
       "      <td>8</td>\n",
       "      <td>159660.800</td>\n",
       "      <td>3</td>\n",
       "      <td>1</td>\n",
       "      <td>0</td>\n",
       "      <td>113931.570</td>\n",
       "      <td>1</td>\n",
       "    </tr>\n",
       "    <tr>\n",
       "      <th>3</th>\n",
       "      <td>4</td>\n",
       "      <td>15701354</td>\n",
       "      <td>Boni</td>\n",
       "      <td>699</td>\n",
       "      <td>France</td>\n",
       "      <td>Female</td>\n",
       "      <td>39</td>\n",
       "      <td>1</td>\n",
       "      <td>0.000</td>\n",
       "      <td>2</td>\n",
       "      <td>0</td>\n",
       "      <td>0</td>\n",
       "      <td>93826.630</td>\n",
       "      <td>0</td>\n",
       "    </tr>\n",
       "    <tr>\n",
       "      <th>4</th>\n",
       "      <td>5</td>\n",
       "      <td>15737888</td>\n",
       "      <td>Mitchell</td>\n",
       "      <td>850</td>\n",
       "      <td>Spain</td>\n",
       "      <td>Female</td>\n",
       "      <td>43</td>\n",
       "      <td>2</td>\n",
       "      <td>125510.820</td>\n",
       "      <td>1</td>\n",
       "      <td>1</td>\n",
       "      <td>1</td>\n",
       "      <td>79084.100</td>\n",
       "      <td>0</td>\n",
       "    </tr>\n",
       "  </tbody>\n",
       "</table>\n",
       "</div>"
      ],
      "text/plain": [
       "   RowNumber  CustomerId   Surname  CreditScore Geography  Gender  Age  \\\n",
       "0          1    15634602  Hargrave          619    France  Female   42   \n",
       "1          2    15647311      Hill          608     Spain  Female   41   \n",
       "2          3    15619304      Onio          502    France  Female   42   \n",
       "3          4    15701354      Boni          699    France  Female   39   \n",
       "4          5    15737888  Mitchell          850     Spain  Female   43   \n",
       "\n",
       "   Tenure    Balance  NumOfProducts  HasCrCard  IsActiveMember  \\\n",
       "0       2      0.000              1          1               1   \n",
       "1       1  83807.860              1          0               1   \n",
       "2       8 159660.800              3          1               0   \n",
       "3       1      0.000              2          0               0   \n",
       "4       2 125510.820              1          1               1   \n",
       "\n",
       "   EstimatedSalary  Exited  \n",
       "0       101348.880       1  \n",
       "1       112542.580       0  \n",
       "2       113931.570       1  \n",
       "3        93826.630       0  \n",
       "4        79084.100       0  "
      ]
     },
     "execution_count": 185,
     "metadata": {},
     "output_type": "execute_result"
    }
   ],
   "source": [
    "df_main = pd.read_csv(\"Churn_Modelling.csv\")\n",
    "df = df_main.copy()\n",
    "df.head()"
   ]
  },
  {
   "cell_type": "markdown",
   "metadata": {},
   "source": [
    "# Exploratory Data Analysis and Visualization"
   ]
  },
  {
   "cell_type": "markdown",
   "metadata": {},
   "source": [
    "1. Implement basic steps to see how is your data looks like\n",
    "2. Check for missing values\n",
    "3. Drop the features that not suitable for modelling\n",
    "4. Implement basic visualization steps such as histogram, countplot, heatmap\n",
    "5. Convert categorical variables to dummy variables"
   ]
  },
  {
   "cell_type": "code",
   "execution_count": 186,
   "metadata": {
    "ExecuteTime": {
     "end_time": "2022-10-04T17:14:15.872111Z",
     "start_time": "2022-10-04T17:14:15.805153Z"
    }
   },
   "outputs": [
    {
     "name": "stdout",
     "output_type": "stream",
     "text": [
      "<class 'pandas.core.frame.DataFrame'>\n",
      "RangeIndex: 10000 entries, 0 to 9999\n",
      "Data columns (total 14 columns):\n",
      " #   Column           Non-Null Count  Dtype  \n",
      "---  ------           --------------  -----  \n",
      " 0   RowNumber        10000 non-null  int64  \n",
      " 1   CustomerId       10000 non-null  int64  \n",
      " 2   Surname          10000 non-null  object \n",
      " 3   CreditScore      10000 non-null  int64  \n",
      " 4   Geography        10000 non-null  object \n",
      " 5   Gender           10000 non-null  object \n",
      " 6   Age              10000 non-null  int64  \n",
      " 7   Tenure           10000 non-null  int64  \n",
      " 8   Balance          10000 non-null  float64\n",
      " 9   NumOfProducts    10000 non-null  int64  \n",
      " 10  HasCrCard        10000 non-null  int64  \n",
      " 11  IsActiveMember   10000 non-null  int64  \n",
      " 12  EstimatedSalary  10000 non-null  float64\n",
      " 13  Exited           10000 non-null  int64  \n",
      "dtypes: float64(2), int64(9), object(3)\n",
      "memory usage: 1.1+ MB\n"
     ]
    }
   ],
   "source": [
    "df.info()"
   ]
  },
  {
   "cell_type": "code",
   "execution_count": 187,
   "metadata": {
    "ExecuteTime": {
     "end_time": "2022-10-04T17:14:15.903094Z",
     "start_time": "2022-10-04T17:14:15.876109Z"
    }
   },
   "outputs": [
    {
     "data": {
      "text/plain": [
       "2932"
      ]
     },
     "execution_count": 187,
     "metadata": {},
     "output_type": "execute_result"
    }
   ],
   "source": [
    "df[\"Surname\"].nunique()"
   ]
  },
  {
   "cell_type": "code",
   "execution_count": 188,
   "metadata": {
    "ExecuteTime": {
     "end_time": "2022-10-04T17:14:15.951579Z",
     "start_time": "2022-10-04T17:14:15.911089Z"
    }
   },
   "outputs": [],
   "source": [
    "df = df.drop(columns=[\"RowNumber\",\"CustomerId\",\"Surname\"])"
   ]
  },
  {
   "cell_type": "code",
   "execution_count": 189,
   "metadata": {
    "ExecuteTime": {
     "end_time": "2022-10-04T17:14:16.163458Z",
     "start_time": "2022-10-04T17:14:15.966573Z"
    }
   },
   "outputs": [
    {
     "data": {
      "text/html": [
       "<div>\n",
       "<style scoped>\n",
       "    .dataframe tbody tr th:only-of-type {\n",
       "        vertical-align: middle;\n",
       "    }\n",
       "\n",
       "    .dataframe tbody tr th {\n",
       "        vertical-align: top;\n",
       "    }\n",
       "\n",
       "    .dataframe thead th {\n",
       "        text-align: right;\n",
       "    }\n",
       "</style>\n",
       "<table border=\"1\" class=\"dataframe\">\n",
       "  <thead>\n",
       "    <tr style=\"text-align: right;\">\n",
       "      <th></th>\n",
       "      <th>count</th>\n",
       "      <th>mean</th>\n",
       "      <th>std</th>\n",
       "      <th>min</th>\n",
       "      <th>25%</th>\n",
       "      <th>50%</th>\n",
       "      <th>75%</th>\n",
       "      <th>max</th>\n",
       "    </tr>\n",
       "  </thead>\n",
       "  <tbody>\n",
       "    <tr>\n",
       "      <th>CreditScore</th>\n",
       "      <td>10000.000</td>\n",
       "      <td>650.529</td>\n",
       "      <td>96.653</td>\n",
       "      <td>350.000</td>\n",
       "      <td>584.000</td>\n",
       "      <td>652.000</td>\n",
       "      <td>718.000</td>\n",
       "      <td>850.000</td>\n",
       "    </tr>\n",
       "    <tr>\n",
       "      <th>Age</th>\n",
       "      <td>10000.000</td>\n",
       "      <td>38.922</td>\n",
       "      <td>10.488</td>\n",
       "      <td>18.000</td>\n",
       "      <td>32.000</td>\n",
       "      <td>37.000</td>\n",
       "      <td>44.000</td>\n",
       "      <td>92.000</td>\n",
       "    </tr>\n",
       "    <tr>\n",
       "      <th>Tenure</th>\n",
       "      <td>10000.000</td>\n",
       "      <td>5.013</td>\n",
       "      <td>2.892</td>\n",
       "      <td>0.000</td>\n",
       "      <td>3.000</td>\n",
       "      <td>5.000</td>\n",
       "      <td>7.000</td>\n",
       "      <td>10.000</td>\n",
       "    </tr>\n",
       "    <tr>\n",
       "      <th>Balance</th>\n",
       "      <td>10000.000</td>\n",
       "      <td>76485.889</td>\n",
       "      <td>62397.405</td>\n",
       "      <td>0.000</td>\n",
       "      <td>0.000</td>\n",
       "      <td>97198.540</td>\n",
       "      <td>127644.240</td>\n",
       "      <td>250898.090</td>\n",
       "    </tr>\n",
       "    <tr>\n",
       "      <th>NumOfProducts</th>\n",
       "      <td>10000.000</td>\n",
       "      <td>1.530</td>\n",
       "      <td>0.582</td>\n",
       "      <td>1.000</td>\n",
       "      <td>1.000</td>\n",
       "      <td>1.000</td>\n",
       "      <td>2.000</td>\n",
       "      <td>4.000</td>\n",
       "    </tr>\n",
       "    <tr>\n",
       "      <th>HasCrCard</th>\n",
       "      <td>10000.000</td>\n",
       "      <td>0.706</td>\n",
       "      <td>0.456</td>\n",
       "      <td>0.000</td>\n",
       "      <td>0.000</td>\n",
       "      <td>1.000</td>\n",
       "      <td>1.000</td>\n",
       "      <td>1.000</td>\n",
       "    </tr>\n",
       "    <tr>\n",
       "      <th>IsActiveMember</th>\n",
       "      <td>10000.000</td>\n",
       "      <td>0.515</td>\n",
       "      <td>0.500</td>\n",
       "      <td>0.000</td>\n",
       "      <td>0.000</td>\n",
       "      <td>1.000</td>\n",
       "      <td>1.000</td>\n",
       "      <td>1.000</td>\n",
       "    </tr>\n",
       "    <tr>\n",
       "      <th>EstimatedSalary</th>\n",
       "      <td>10000.000</td>\n",
       "      <td>100090.240</td>\n",
       "      <td>57510.493</td>\n",
       "      <td>11.580</td>\n",
       "      <td>51002.110</td>\n",
       "      <td>100193.915</td>\n",
       "      <td>149388.247</td>\n",
       "      <td>199992.480</td>\n",
       "    </tr>\n",
       "    <tr>\n",
       "      <th>Exited</th>\n",
       "      <td>10000.000</td>\n",
       "      <td>0.204</td>\n",
       "      <td>0.403</td>\n",
       "      <td>0.000</td>\n",
       "      <td>0.000</td>\n",
       "      <td>0.000</td>\n",
       "      <td>0.000</td>\n",
       "      <td>1.000</td>\n",
       "    </tr>\n",
       "  </tbody>\n",
       "</table>\n",
       "</div>"
      ],
      "text/plain": [
       "                    count       mean       std     min       25%        50%  \\\n",
       "CreditScore     10000.000    650.529    96.653 350.000   584.000    652.000   \n",
       "Age             10000.000     38.922    10.488  18.000    32.000     37.000   \n",
       "Tenure          10000.000      5.013     2.892   0.000     3.000      5.000   \n",
       "Balance         10000.000  76485.889 62397.405   0.000     0.000  97198.540   \n",
       "NumOfProducts   10000.000      1.530     0.582   1.000     1.000      1.000   \n",
       "HasCrCard       10000.000      0.706     0.456   0.000     0.000      1.000   \n",
       "IsActiveMember  10000.000      0.515     0.500   0.000     0.000      1.000   \n",
       "EstimatedSalary 10000.000 100090.240 57510.493  11.580 51002.110 100193.915   \n",
       "Exited          10000.000      0.204     0.403   0.000     0.000      0.000   \n",
       "\n",
       "                       75%        max  \n",
       "CreditScore        718.000    850.000  \n",
       "Age                 44.000     92.000  \n",
       "Tenure               7.000     10.000  \n",
       "Balance         127644.240 250898.090  \n",
       "NumOfProducts        2.000      4.000  \n",
       "HasCrCard            1.000      1.000  \n",
       "IsActiveMember       1.000      1.000  \n",
       "EstimatedSalary 149388.247 199992.480  \n",
       "Exited               0.000      1.000  "
      ]
     },
     "execution_count": 189,
     "metadata": {},
     "output_type": "execute_result"
    }
   ],
   "source": [
    "df.describe().T"
   ]
  },
  {
   "cell_type": "code",
   "execution_count": 190,
   "metadata": {
    "ExecuteTime": {
     "end_time": "2022-10-04T17:14:16.288387Z",
     "start_time": "2022-10-04T17:14:16.177449Z"
    }
   },
   "outputs": [
    {
     "data": {
      "text/plain": [
       "0    7963\n",
       "1    2037\n",
       "Name: Exited, dtype: int64"
      ]
     },
     "execution_count": 190,
     "metadata": {},
     "output_type": "execute_result"
    }
   ],
   "source": [
    "df[\"Exited\"].value_counts()\n",
    "\n",
    "# Data is unbalanced"
   ]
  },
  {
   "cell_type": "code",
   "execution_count": 191,
   "metadata": {
    "ExecuteTime": {
     "end_time": "2022-10-04T17:14:16.305377Z",
     "start_time": "2022-10-04T17:14:16.293384Z"
    }
   },
   "outputs": [],
   "source": [
    "def categorical_look(column1):\n",
    "    print(f\"Column : {column1}\")\n",
    "    print(\"----DESCRIBE : --------\")\n",
    "    print(df[column1].describe())\n",
    "    print(\"----TOTAL NULL : --------\")\n",
    "    print(df[column1].isnull().sum())\n",
    "    print(\"----PERCENTAGE OF NULL : --------\")\n",
    "    print(\"%\",round(df[column1].isnull().sum() / df.shape[0]*100, 2))\n",
    "    print(\"----VALUE COUNTS : --------\")\n",
    "    print(df[column1].value_counts(dropna=False))\n",
    "    print(\"----NUMBER OF UNIQUES : --------\")\n",
    "    print(df[column1].nunique())   "
   ]
  },
  {
   "cell_type": "code",
   "execution_count": 192,
   "metadata": {
    "ExecuteTime": {
     "end_time": "2022-10-04T17:14:16.414322Z",
     "start_time": "2022-10-04T17:14:16.310373Z"
    }
   },
   "outputs": [],
   "source": [
    "def numeric_look(column1):\n",
    "    print(f\"Column : {column1}\")\n",
    "    print(\"----DESCRIBE : --------\")\n",
    "    print(df[column1].describe())\n",
    "    print(\"----TOTAL NULL : --------\")\n",
    "    print(df[column1].isnull().sum())\n",
    "    print(\"----PERCENTAGE OF NULL : --------\")\n",
    "    print(\"%\",round(df[column1].isnull().sum() / df.shape[0]*100, 2))\n",
    "    print(\"----CORELATION : --------\")\n",
    "    print(df.corr()[column1].abs())\n",
    "    print(\"----VALUE COUNTS : --------\")\n",
    "    print(df[column1].value_counts(dropna=False))"
   ]
  },
  {
   "cell_type": "code",
   "execution_count": 193,
   "metadata": {
    "ExecuteTime": {
     "end_time": "2022-10-04T17:14:17.854317Z",
     "start_time": "2022-10-04T17:14:16.420310Z"
    }
   },
   "outputs": [
    {
     "name": "stdout",
     "output_type": "stream",
     "text": [
      "Column : CreditScore\n",
      "----DESCRIBE : --------\n",
      "count   10000.000\n",
      "mean      650.529\n",
      "std        96.653\n",
      "min       350.000\n",
      "25%       584.000\n",
      "50%       652.000\n",
      "75%       718.000\n",
      "max       850.000\n",
      "Name: CreditScore, dtype: float64\n",
      "----TOTAL NULL : --------\n",
      "0\n",
      "----PERCENTAGE OF NULL : --------\n",
      "% 0.0\n",
      "----CORELATION : --------\n",
      "CreditScore       1.000\n",
      "Age               0.004\n",
      "Tenure            0.001\n",
      "Balance           0.006\n",
      "NumOfProducts     0.012\n",
      "HasCrCard         0.005\n",
      "IsActiveMember    0.026\n",
      "EstimatedSalary   0.001\n",
      "Exited            0.027\n",
      "Name: CreditScore, dtype: float64\n",
      "----VALUE COUNTS : --------\n",
      "850    233\n",
      "678     63\n",
      "655     54\n",
      "705     53\n",
      "667     53\n",
      "      ... \n",
      "404      1\n",
      "351      1\n",
      "365      1\n",
      "417      1\n",
      "419      1\n",
      "Name: CreditScore, Length: 460, dtype: int64\n",
      "Column : Age\n",
      "----DESCRIBE : --------\n",
      "count   10000.000\n",
      "mean       38.922\n",
      "std        10.488\n",
      "min        18.000\n",
      "25%        32.000\n",
      "50%        37.000\n",
      "75%        44.000\n",
      "max        92.000\n",
      "Name: Age, dtype: float64\n",
      "----TOTAL NULL : --------\n",
      "0\n",
      "----PERCENTAGE OF NULL : --------\n",
      "% 0.0\n",
      "----CORELATION : --------\n",
      "CreditScore       0.004\n",
      "Age               1.000\n",
      "Tenure            0.010\n",
      "Balance           0.028\n",
      "NumOfProducts     0.031\n",
      "HasCrCard         0.012\n",
      "IsActiveMember    0.085\n",
      "EstimatedSalary   0.007\n",
      "Exited            0.285\n",
      "Name: Age, dtype: float64\n",
      "----VALUE COUNTS : --------\n",
      "37    478\n",
      "38    477\n",
      "35    474\n",
      "36    456\n",
      "34    447\n",
      "     ... \n",
      "92      2\n",
      "82      1\n",
      "88      1\n",
      "85      1\n",
      "83      1\n",
      "Name: Age, Length: 70, dtype: int64\n",
      "Column : Tenure\n",
      "----DESCRIBE : --------\n",
      "count   10000.000\n",
      "mean        5.013\n",
      "std         2.892\n",
      "min         0.000\n",
      "25%         3.000\n",
      "50%         5.000\n",
      "75%         7.000\n",
      "max        10.000\n",
      "Name: Tenure, dtype: float64\n",
      "----TOTAL NULL : --------\n",
      "0\n",
      "----PERCENTAGE OF NULL : --------\n",
      "% 0.0\n",
      "----CORELATION : --------\n",
      "CreditScore       0.001\n",
      "Age               0.010\n",
      "Tenure            1.000\n",
      "Balance           0.012\n",
      "NumOfProducts     0.013\n",
      "HasCrCard         0.023\n",
      "IsActiveMember    0.028\n",
      "EstimatedSalary   0.008\n",
      "Exited            0.014\n",
      "Name: Tenure, dtype: float64\n",
      "----VALUE COUNTS : --------\n",
      "2     1048\n",
      "1     1035\n",
      "7     1028\n",
      "8     1025\n",
      "5     1012\n",
      "3     1009\n",
      "4      989\n",
      "9      984\n",
      "6      967\n",
      "10     490\n",
      "0      413\n",
      "Name: Tenure, dtype: int64\n",
      "Column : Balance\n",
      "----DESCRIBE : --------\n",
      "count    10000.000\n",
      "mean     76485.889\n",
      "std      62397.405\n",
      "min          0.000\n",
      "25%          0.000\n",
      "50%      97198.540\n",
      "75%     127644.240\n",
      "max     250898.090\n",
      "Name: Balance, dtype: float64\n",
      "----TOTAL NULL : --------\n",
      "0\n",
      "----PERCENTAGE OF NULL : --------\n",
      "% 0.0\n",
      "----CORELATION : --------\n",
      "CreditScore       0.006\n",
      "Age               0.028\n",
      "Tenure            0.012\n",
      "Balance           1.000\n",
      "NumOfProducts     0.304\n",
      "HasCrCard         0.015\n",
      "IsActiveMember    0.010\n",
      "EstimatedSalary   0.013\n",
      "Exited            0.119\n",
      "Name: Balance, dtype: float64\n",
      "----VALUE COUNTS : --------\n",
      "0.000         3617\n",
      "130170.820       2\n",
      "105473.740       2\n",
      "85304.270        1\n",
      "159397.750       1\n",
      "              ... \n",
      "81556.890        1\n",
      "112687.690       1\n",
      "108698.960       1\n",
      "238387.560       1\n",
      "130142.790       1\n",
      "Name: Balance, Length: 6382, dtype: int64\n",
      "Column : NumOfProducts\n",
      "----DESCRIBE : --------\n",
      "count   10000.000\n",
      "mean        1.530\n",
      "std         0.582\n",
      "min         1.000\n",
      "25%         1.000\n",
      "50%         1.000\n",
      "75%         2.000\n",
      "max         4.000\n",
      "Name: NumOfProducts, dtype: float64\n",
      "----TOTAL NULL : --------\n",
      "0\n",
      "----PERCENTAGE OF NULL : --------\n",
      "% 0.0\n",
      "----CORELATION : --------\n",
      "CreditScore       0.012\n",
      "Age               0.031\n",
      "Tenure            0.013\n",
      "Balance           0.304\n",
      "NumOfProducts     1.000\n",
      "HasCrCard         0.003\n",
      "IsActiveMember    0.010\n",
      "EstimatedSalary   0.014\n",
      "Exited            0.048\n",
      "Name: NumOfProducts, dtype: float64\n",
      "----VALUE COUNTS : --------\n",
      "1    5084\n",
      "2    4590\n",
      "3     266\n",
      "4      60\n",
      "Name: NumOfProducts, dtype: int64\n",
      "Column : HasCrCard\n",
      "----DESCRIBE : --------\n",
      "count   10000.000\n",
      "mean        0.706\n",
      "std         0.456\n",
      "min         0.000\n",
      "25%         0.000\n",
      "50%         1.000\n",
      "75%         1.000\n",
      "max         1.000\n",
      "Name: HasCrCard, dtype: float64\n",
      "----TOTAL NULL : --------\n",
      "0\n",
      "----PERCENTAGE OF NULL : --------\n",
      "% 0.0\n",
      "----CORELATION : --------\n",
      "CreditScore       0.005\n",
      "Age               0.012\n",
      "Tenure            0.023\n",
      "Balance           0.015\n",
      "NumOfProducts     0.003\n",
      "HasCrCard         1.000\n",
      "IsActiveMember    0.012\n",
      "EstimatedSalary   0.010\n",
      "Exited            0.007\n",
      "Name: HasCrCard, dtype: float64\n",
      "----VALUE COUNTS : --------\n",
      "1    7055\n",
      "0    2945\n",
      "Name: HasCrCard, dtype: int64\n",
      "Column : IsActiveMember\n",
      "----DESCRIBE : --------\n",
      "count   10000.000\n",
      "mean        0.515\n",
      "std         0.500\n",
      "min         0.000\n",
      "25%         0.000\n",
      "50%         1.000\n",
      "75%         1.000\n",
      "max         1.000\n",
      "Name: IsActiveMember, dtype: float64\n",
      "----TOTAL NULL : --------\n",
      "0\n",
      "----PERCENTAGE OF NULL : --------\n",
      "% 0.0\n",
      "----CORELATION : --------\n",
      "CreditScore       0.026\n",
      "Age               0.085\n",
      "Tenure            0.028\n",
      "Balance           0.010\n",
      "NumOfProducts     0.010\n",
      "HasCrCard         0.012\n",
      "IsActiveMember    1.000\n",
      "EstimatedSalary   0.011\n",
      "Exited            0.156\n",
      "Name: IsActiveMember, dtype: float64\n",
      "----VALUE COUNTS : --------\n",
      "1    5151\n",
      "0    4849\n",
      "Name: IsActiveMember, dtype: int64\n",
      "Column : EstimatedSalary\n",
      "----DESCRIBE : --------\n",
      "count    10000.000\n",
      "mean    100090.240\n",
      "std      57510.493\n",
      "min         11.580\n",
      "25%      51002.110\n",
      "50%     100193.915\n",
      "75%     149388.247\n",
      "max     199992.480\n",
      "Name: EstimatedSalary, dtype: float64\n",
      "----TOTAL NULL : --------\n",
      "0\n",
      "----PERCENTAGE OF NULL : --------\n",
      "% 0.0\n",
      "----CORELATION : --------\n",
      "CreditScore       0.001\n",
      "Age               0.007\n",
      "Tenure            0.008\n",
      "Balance           0.013\n",
      "NumOfProducts     0.014\n",
      "HasCrCard         0.010\n",
      "IsActiveMember    0.011\n",
      "EstimatedSalary   1.000\n",
      "Exited            0.012\n",
      "Name: EstimatedSalary, dtype: float64\n",
      "----VALUE COUNTS : --------\n",
      "24924.920     2\n",
      "101348.880    1\n",
      "55313.440     1\n",
      "72500.680     1\n",
      "182692.800    1\n",
      "             ..\n",
      "120893.070    1\n",
      "188377.210    1\n",
      "55902.930     1\n",
      "4523.740      1\n",
      "38190.780     1\n",
      "Name: EstimatedSalary, Length: 9999, dtype: int64\n",
      "Column : Exited\n",
      "----DESCRIBE : --------\n",
      "count   10000.000\n",
      "mean        0.204\n",
      "std         0.403\n",
      "min         0.000\n",
      "25%         0.000\n",
      "50%         0.000\n",
      "75%         0.000\n",
      "max         1.000\n",
      "Name: Exited, dtype: float64\n",
      "----TOTAL NULL : --------\n",
      "0\n",
      "----PERCENTAGE OF NULL : --------\n",
      "% 0.0\n",
      "----CORELATION : --------\n",
      "CreditScore       0.027\n",
      "Age               0.285\n",
      "Tenure            0.014\n",
      "Balance           0.119\n",
      "NumOfProducts     0.048\n",
      "HasCrCard         0.007\n",
      "IsActiveMember    0.156\n",
      "EstimatedSalary   0.012\n",
      "Exited            1.000\n",
      "Name: Exited, dtype: float64\n",
      "----VALUE COUNTS : --------\n",
      "0    7963\n",
      "1    2037\n",
      "Name: Exited, dtype: int64\n"
     ]
    }
   ],
   "source": [
    "for i in df.select_dtypes(exclude=\"object\").columns:\n",
    "    numeric_look(i)"
   ]
  },
  {
   "cell_type": "code",
   "execution_count": 194,
   "metadata": {
    "ExecuteTime": {
     "end_time": "2022-10-04T17:14:31.559039Z",
     "start_time": "2022-10-04T17:14:17.866305Z"
    }
   },
   "outputs": [
    {
     "data": {
      "image/png": "[encoded data removed]",
      "text/plain": [
       "<Figure size 1080x864 with 9 Axes>"
      ]
     },
     "metadata": {},
     "output_type": "display_data"
    }
   ],
   "source": [
    "df.hist(figsize=(15, 12), bins=15);"
   ]
  },
  {
   "cell_type": "code",
   "execution_count": 195,
   "metadata": {
    "ExecuteTime": {
     "end_time": "2022-10-04T17:14:31.650986Z",
     "start_time": "2022-10-04T17:14:31.565038Z"
    }
   },
   "outputs": [
    {
     "name": "stdout",
     "output_type": "stream",
     "text": [
      "Column : Geography\n",
      "----DESCRIBE : --------\n",
      "count      10000\n",
      "unique         3\n",
      "top       France\n",
      "freq        5014\n",
      "Name: Geography, dtype: object\n",
      "----TOTAL NULL : --------\n",
      "0\n",
      "----PERCENTAGE OF NULL : --------\n",
      "% 0.0\n",
      "----VALUE COUNTS : --------\n",
      "France     5014\n",
      "Germany    2509\n",
      "Spain      2477\n",
      "Name: Geography, dtype: int64\n",
      "----NUMBER OF UNIQUES : --------\n",
      "3\n",
      "Column : Gender\n",
      "----DESCRIBE : --------\n",
      "count     10000\n",
      "unique        2\n",
      "top        Male\n",
      "freq       5457\n",
      "Name: Gender, dtype: object\n",
      "----TOTAL NULL : --------\n",
      "0\n",
      "----PERCENTAGE OF NULL : --------\n",
      "% 0.0\n",
      "----VALUE COUNTS : --------\n",
      "Male      5457\n",
      "Female    4543\n",
      "Name: Gender, dtype: int64\n",
      "----NUMBER OF UNIQUES : --------\n",
      "2\n"
     ]
    }
   ],
   "source": [
    "for i in df.select_dtypes(\"object\").columns:\n",
    "    categorical_look(i)"
   ]
  },
  {
   "cell_type": "code",
   "execution_count": 196,
   "metadata": {
    "ExecuteTime": {
     "end_time": "2022-10-04T17:14:33.997842Z",
     "start_time": "2022-10-04T17:14:31.656983Z"
    }
   },
   "outputs": [
    {
     "data": {
      "image/png": "[encoded data removed]",
      "text/plain": [
       "<Figure size 1152x864 with 4 Axes>"
      ]
     },
     "metadata": {},
     "output_type": "display_data"
    }
   ],
   "source": [
    "cat_list = [\"Gender\", \"HasCrCard\", \"IsActiveMember\", \"Geography\"]\n",
    "index = 0\n",
    "plt.figure(figsize=(16, 12))\n",
    "for i in cat_list:\n",
    "    index += 1\n",
    "    plt.subplot(2, 2, index)\n",
    "    sns.countplot(data=df, x=i, hue=\"Exited\")"
   ]
  },
  {
   "cell_type": "code",
   "execution_count": 197,
   "metadata": {
    "ExecuteTime": {
     "end_time": "2022-10-04T17:14:37.160032Z",
     "start_time": "2022-10-04T17:14:34.003840Z"
    }
   },
   "outputs": [
    {
     "data": {
      "image/png": "[encoded data removed]",
      "text/plain": [
       "<Figure size 720x432 with 2 Axes>"
      ]
     },
     "metadata": {},
     "output_type": "display_data"
    }
   ],
   "source": [
    "sns.heatmap(df.corr(), annot=True);"
   ]
  },
  {
   "cell_type": "code",
   "execution_count": 198,
   "metadata": {
    "ExecuteTime": {
     "end_time": "2022-10-04T17:14:38.362344Z",
     "start_time": "2022-10-04T17:14:37.165029Z"
    }
   },
   "outputs": [
    {
     "data": {
      "image/png": "[encoded data removed]",
      "text/plain": [
       "<Figure size 720x432 with 1 Axes>"
      ]
     },
     "metadata": {},
     "output_type": "display_data"
    }
   ],
   "source": [
    "df.corr()['Exited'].sort_values().drop(\"Exited\").plot(kind = \"barh\");"
   ]
  },
  {
   "cell_type": "markdown",
   "metadata": {},
   "source": [
    "# Preprocessing of Data\n",
    "- Train | Test Split, Scalling"
   ]
  },
  {
   "cell_type": "code",
   "execution_count": 199,
   "metadata": {
    "ExecuteTime": {
     "end_time": "2022-10-04T17:14:38.409322Z",
     "start_time": "2022-10-04T17:14:38.367342Z"
    }
   },
   "outputs": [],
   "source": [
    "X = df.drop(columns=[\"Exited\"])\n",
    "y = df['Exited']"
   ]
  },
  {
   "cell_type": "code",
   "execution_count": 200,
   "metadata": {
    "ExecuteTime": {
     "end_time": "2022-10-04T17:14:38.485274Z",
     "start_time": "2022-10-04T17:14:38.425308Z"
    }
   },
   "outputs": [
    {
     "name": "stdout",
     "output_type": "stream",
     "text": [
      "Train set: (9000, 10) (9000,)\n",
      "Test set: (1000, 10) (1000,)\n"
     ]
    }
   ],
   "source": [
    "from sklearn.model_selection import train_test_split\n",
    "\n",
    "seed = 42\n",
    "\n",
    "X_train, X_test, y_train, y_test = train_test_split(X, y, stratify = y, test_size = 0.10, random_state = seed)\n",
    "\n",
    "print ('Train set:', X_train.shape,  y_train.shape)\n",
    "print ('Test set:', X_test.shape,  y_test.shape)"
   ]
  },
  {
   "cell_type": "code",
   "execution_count": 201,
   "metadata": {
    "ExecuteTime": {
     "end_time": "2022-10-04T17:14:38.515257Z",
     "start_time": "2022-10-04T17:14:38.493276Z"
    }
   },
   "outputs": [],
   "source": [
    "# from sklearn.preprocessing import OneHotEncoder\n",
    "# def trans_onehot(X_train, X_test):\n",
    "    \n",
    "#     cat = X_train.select_dtypes(\"object\").columns\n",
    "#     cat = list(cat)\n",
    "    \n",
    "#     enc = OneHotEncoder(handle_unknown=\"ignore\", sparse=False)\n",
    "    \n",
    "#     X_train_cat = pd.DataFrame(enc.fit_transform(X_train[cat]), index = X_train.index, \n",
    "#                            columns = enc.get_feature_names(cat))\n",
    "    \n",
    "#     X_test_cat  = pd.DataFrame(enc.transform(X_test[cat]), index = X_test.index, \n",
    "#                                columns = enc.get_feature_names(cat))\n",
    "    \n",
    "#     X_train = X_train_cat.join(X_train.select_dtypes(\"number\"))\n",
    "#     X_test = X_test_cat.join(X_test.select_dtypes(\"number\"))\n",
    "    \n",
    "    \n",
    "#     return X_train, X_test\n",
    "\n",
    "# X_train, X_test = trans_onehot(X_train, X_test)\n",
    "# print(X_train.shape)\n",
    "# print(X_test.shape)"
   ]
  },
  {
   "cell_type": "code",
   "execution_count": 202,
   "metadata": {
    "ExecuteTime": {
     "end_time": "2022-10-04T17:14:38.547247Z",
     "start_time": "2022-10-04T17:14:38.526254Z"
    }
   },
   "outputs": [],
   "source": [
    "# from sklearn.preprocessing import StandardScaler, MinMaxScaler, RobustScaler\n",
    "# scaler = MinMaxScaler()\n",
    "\n",
    "# X_train = scaler.fit_transform(X_train)\n",
    "# X_test = scaler.transform(X_test)"
   ]
  },
  {
   "cell_type": "code",
   "execution_count": 203,
   "metadata": {
    "ExecuteTime": {
     "end_time": "2022-10-04T17:14:38.765122Z",
     "start_time": "2022-10-04T17:14:38.555234Z"
    }
   },
   "outputs": [
    {
     "name": "stdout",
     "output_type": "stream",
     "text": [
      "(9000, 11)\n",
      "(1000, 11)\n"
     ]
    }
   ],
   "source": [
    "from sklearn.compose import make_column_transformer\n",
    "from sklearn.preprocessing import OneHotEncoder\n",
    "from sklearn.preprocessing import StandardScaler, MinMaxScaler, RobustScaler\n",
    "\n",
    "\n",
    "cat = list(X_train.select_dtypes(\"object\").columns)\n",
    "column_trans = make_column_transformer((OneHotEncoder(handle_unknown=\"error\", sparse=False ,drop=\"first\"), cat), \n",
    "                                       remainder=MinMaxScaler())\n",
    "X_train = column_trans.fit_transform(X_train)\n",
    "X_test = column_trans.transform(X_test)\n",
    "print(X_train.shape)\n",
    "print(X_test.shape)"
   ]
  },
  {
   "cell_type": "markdown",
   "metadata": {
    "id": "Ha9hDt_AoGaE"
   },
   "source": [
    "# Modelling & Model Performance"
   ]
  },
  {
   "cell_type": "markdown",
   "metadata": {},
   "source": [
    "## without class_weigth"
   ]
  },
  {
   "cell_type": "markdown",
   "metadata": {},
   "source": [
    "### Create The Model"
   ]
  },
  {
   "cell_type": "code",
   "execution_count": 223,
   "metadata": {
    "ExecuteTime": {
     "end_time": "2022-10-04T17:36:57.847969Z",
     "start_time": "2022-10-04T17:36:57.829981Z"
    }
   },
   "outputs": [],
   "source": [
    "import tensorflow as tf\n",
    "from tensorflow.keras.models import Sequential\n",
    "from tensorflow.keras.layers import Dense, Activation, Dropout\n",
    "from tensorflow.keras.optimizers import Adam\n",
    "from tensorflow.keras.callbacks import EarlyStopping\n",
    "from sklearn.metrics import classification_report, confusion_matrix\n",
    "from sklearn.metrics import plot_roc_curve, roc_auc_score, roc_curve, precision_recall_curve, average_precision_score\n",
    "from sklearn.model_selection import cross_val_score, cross_validate\n",
    "from sklearn.model_selection import GridSearchCV"
   ]
  },
  {
   "cell_type": "code",
   "execution_count": 224,
   "metadata": {
    "ExecuteTime": {
     "end_time": "2022-10-04T17:36:59.046797Z",
     "start_time": "2022-10-04T17:36:58.818684Z"
    }
   },
   "outputs": [],
   "source": [
    "tf.random.set_seed(seed)\n",
    "\n",
    "model = Sequential()\n",
    "model.add(Dense(20, activation=\"relu\", input_dim = X_train.shape[1]))\n",
    "model.add(Dense(15, activation=\"relu\"))\n",
    "model.add(Dense(10, activation=\"relu\"))\n",
    "model.add(Dense(1, activation=\"sigmoid\"))\n",
    "\n",
    "model.compile(optimizer=\"Adam\", \n",
    "              loss=\"binary_crossentropy\",\n",
    "              metrics=[\"Recall\"])"
   ]
  },
  {
   "cell_type": "code",
   "execution_count": 225,
   "metadata": {
    "ExecuteTime": {
     "end_time": "2022-10-04T17:41:17.648119Z",
     "start_time": "2022-10-04T17:37:00.210982Z"
    }
   },
   "outputs": [
    {
     "name": "stdout",
     "output_type": "stream",
     "text": [
      "Epoch 1/200\n",
      "270/270 [==============================] - 7s 13ms/step - loss: 0.5099 - recall: 0.0042 - val_loss: 0.4624 - val_recall: 0.0000e+00\n",
      "Epoch 2/200\n",
      "270/270 [==============================] - 3s 10ms/step - loss: 0.4623 - recall: 0.0115 - val_loss: 0.4341 - val_recall: 0.1105\n",
      "Epoch 3/200\n",
      "270/270 [==============================] - 2s 9ms/step - loss: 0.4362 - recall: 0.1683 - val_loss: 0.3959 - val_recall: 0.2762\n",
      "Epoch 4/200\n",
      "270/270 [==============================] - 2s 9ms/step - loss: 0.4152 - recall: 0.2657 - val_loss: 0.3750 - val_recall: 0.3812\n",
      "Epoch 5/200\n",
      "270/270 [==============================] - 2s 8ms/step - loss: 0.4017 - recall: 0.3245 - val_loss: 0.3626 - val_recall: 0.3591\n",
      "Epoch 6/200\n",
      "270/270 [==============================] - 2s 7ms/step - loss: 0.3901 - recall: 0.3426 - val_loss: 0.3460 - val_recall: 0.4365\n",
      "Epoch 7/200\n",
      "270/270 [==============================] - 2s 7ms/step - loss: 0.3795 - recall: 0.3789 - val_loss: 0.3349 - val_recall: 0.4033\n",
      "Epoch 8/200\n",
      "270/270 [==============================] - 2s 7ms/step - loss: 0.3723 - recall: 0.3838 - val_loss: 0.3310 - val_recall: 0.4972\n",
      "Epoch 9/200\n",
      "270/270 [==============================] - 2s 8ms/step - loss: 0.3652 - recall: 0.3935 - val_loss: 0.3226 - val_recall: 0.4254\n",
      "Epoch 10/200\n",
      "270/270 [==============================] - 2s 7ms/step - loss: 0.3613 - recall: 0.3995 - val_loss: 0.3113 - val_recall: 0.4862\n",
      "Epoch 11/200\n",
      "270/270 [==============================] - 2s 9ms/step - loss: 0.3570 - recall: 0.4050 - val_loss: 0.3166 - val_recall: 0.5580\n",
      "Epoch 12/200\n",
      "270/270 [==============================] - 2s 8ms/step - loss: 0.3553 - recall: 0.4231 - val_loss: 0.3087 - val_recall: 0.4862\n",
      "Epoch 13/200\n",
      "270/270 [==============================] - 2s 9ms/step - loss: 0.3526 - recall: 0.4225 - val_loss: 0.3049 - val_recall: 0.5083\n",
      "Epoch 14/200\n",
      "270/270 [==============================] - 2s 6ms/step - loss: 0.3517 - recall: 0.4183 - val_loss: 0.3108 - val_recall: 0.5525\n",
      "Epoch 15/200\n",
      "270/270 [==============================] - 1s 5ms/step - loss: 0.3505 - recall: 0.4322 - val_loss: 0.3099 - val_recall: 0.5414\n",
      "Epoch 16/200\n",
      "270/270 [==============================] - 2s 6ms/step - loss: 0.3497 - recall: 0.4165 - val_loss: 0.2985 - val_recall: 0.5138\n",
      "Epoch 17/200\n",
      "270/270 [==============================] - 2s 8ms/step - loss: 0.3475 - recall: 0.4328 - val_loss: 0.3013 - val_recall: 0.5138\n",
      "Epoch 18/200\n",
      "270/270 [==============================] - 2s 7ms/step - loss: 0.3478 - recall: 0.4201 - val_loss: 0.3006 - val_recall: 0.5304\n",
      "Epoch 19/200\n",
      "270/270 [==============================] - 2s 7ms/step - loss: 0.3472 - recall: 0.4286 - val_loss: 0.3023 - val_recall: 0.4862\n",
      "Epoch 20/200\n",
      "270/270 [==============================] - 3s 10ms/step - loss: 0.3465 - recall: 0.4304 - val_loss: 0.3024 - val_recall: 0.4475\n",
      "Epoch 21/200\n",
      "270/270 [==============================] - 2s 8ms/step - loss: 0.3447 - recall: 0.4413 - val_loss: 0.3011 - val_recall: 0.5138\n",
      "Epoch 22/200\n",
      "270/270 [==============================] - 2s 8ms/step - loss: 0.3453 - recall: 0.4322 - val_loss: 0.3031 - val_recall: 0.5580\n",
      "Epoch 23/200\n",
      "270/270 [==============================] - 2s 7ms/step - loss: 0.3457 - recall: 0.4292 - val_loss: 0.2999 - val_recall: 0.4751\n",
      "Epoch 24/200\n",
      "270/270 [==============================] - 2s 9ms/step - loss: 0.3430 - recall: 0.4461 - val_loss: 0.3052 - val_recall: 0.5801\n",
      "Epoch 25/200\n",
      "270/270 [==============================] - 2s 8ms/step - loss: 0.3432 - recall: 0.4522 - val_loss: 0.3029 - val_recall: 0.4475\n",
      "Epoch 26/200\n",
      "270/270 [==============================] - 2s 9ms/step - loss: 0.3419 - recall: 0.4431 - val_loss: 0.2992 - val_recall: 0.5028\n",
      "Epoch 27/200\n",
      "270/270 [==============================] - 2s 8ms/step - loss: 0.3419 - recall: 0.4310 - val_loss: 0.3004 - val_recall: 0.5028\n",
      "Epoch 28/200\n",
      "270/270 [==============================] - 2s 8ms/step - loss: 0.3389 - recall: 0.4546 - val_loss: 0.2985 - val_recall: 0.4917\n",
      "Epoch 29/200\n",
      "270/270 [==============================] - 2s 9ms/step - loss: 0.3388 - recall: 0.4510 - val_loss: 0.2971 - val_recall: 0.5028\n",
      "Epoch 30/200\n",
      "270/270 [==============================] - 2s 9ms/step - loss: 0.3374 - recall: 0.4558 - val_loss: 0.2977 - val_recall: 0.5028\n",
      "Epoch 31/200\n",
      "270/270 [==============================] - 2s 8ms/step - loss: 0.3377 - recall: 0.4498 - val_loss: 0.2968 - val_recall: 0.4917\n",
      "Epoch 32/200\n",
      "270/270 [==============================] - 2s 7ms/step - loss: 0.3372 - recall: 0.4570 - val_loss: 0.2954 - val_recall: 0.5028\n",
      "Epoch 33/200\n",
      "270/270 [==============================] - 3s 9ms/step - loss: 0.3366 - recall: 0.4613 - val_loss: 0.2960 - val_recall: 0.5028\n",
      "Epoch 34/200\n",
      "270/270 [==============================] - 2s 6ms/step - loss: 0.3384 - recall: 0.4461 - val_loss: 0.2995 - val_recall: 0.5525\n",
      "Epoch 35/200\n",
      "270/270 [==============================] - 2s 8ms/step - loss: 0.3365 - recall: 0.4534 - val_loss: 0.2971 - val_recall: 0.4696\n",
      "Epoch 36/200\n",
      "270/270 [==============================] - 2s 6ms/step - loss: 0.3359 - recall: 0.4625 - val_loss: 0.2950 - val_recall: 0.5470\n",
      "Epoch 37/200\n",
      "270/270 [==============================] - 1s 5ms/step - loss: 0.3351 - recall: 0.4643 - val_loss: 0.2930 - val_recall: 0.5414\n",
      "Epoch 38/200\n",
      "270/270 [==============================] - 1s 5ms/step - loss: 0.3372 - recall: 0.4485 - val_loss: 0.3026 - val_recall: 0.6133\n",
      "Epoch 39/200\n",
      "270/270 [==============================] - 2s 7ms/step - loss: 0.3348 - recall: 0.4540 - val_loss: 0.2917 - val_recall: 0.5249\n",
      "Epoch 40/200\n",
      "270/270 [==============================] - 1s 5ms/step - loss: 0.3339 - recall: 0.4643 - val_loss: 0.3017 - val_recall: 0.4586\n",
      "Epoch 41/200\n",
      "270/270 [==============================] - 1s 5ms/step - loss: 0.3338 - recall: 0.4564 - val_loss: 0.2954 - val_recall: 0.5359\n",
      "Epoch 42/200\n",
      "270/270 [==============================] - 2s 6ms/step - loss: 0.3342 - recall: 0.4576 - val_loss: 0.2945 - val_recall: 0.5691\n",
      "Epoch 43/200\n",
      "270/270 [==============================] - 2s 6ms/step - loss: 0.3336 - recall: 0.4600 - val_loss: 0.2945 - val_recall: 0.5580\n",
      "Epoch 44/200\n",
      "270/270 [==============================] - 2s 6ms/step - loss: 0.3331 - recall: 0.4564 - val_loss: 0.2981 - val_recall: 0.5856\n",
      "Epoch 45/200\n",
      "270/270 [==============================] - 1s 4ms/step - loss: 0.3329 - recall: 0.4655 - val_loss: 0.2944 - val_recall: 0.5249\n",
      "Epoch 46/200\n",
      "270/270 [==============================] - 1s 4ms/step - loss: 0.3322 - recall: 0.4564 - val_loss: 0.3008 - val_recall: 0.5525\n",
      "Epoch 47/200\n",
      "270/270 [==============================] - 1s 4ms/step - loss: 0.3325 - recall: 0.4655 - val_loss: 0.2948 - val_recall: 0.5304\n",
      "Epoch 48/200\n",
      "270/270 [==============================] - 1s 4ms/step - loss: 0.3324 - recall: 0.4558 - val_loss: 0.2975 - val_recall: 0.5193\n",
      "Epoch 49/200\n",
      "270/270 [==============================] - 1s 4ms/step - loss: 0.3311 - recall: 0.4649 - val_loss: 0.2916 - val_recall: 0.5635\n",
      "Epoch 50/200\n",
      "270/270 [==============================] - 1s 4ms/step - loss: 0.3326 - recall: 0.4691 - val_loss: 0.2980 - val_recall: 0.5746\n",
      "Epoch 51/200\n",
      "270/270 [==============================] - 1s 4ms/step - loss: 0.3311 - recall: 0.4582 - val_loss: 0.2928 - val_recall: 0.4917\n",
      "Epoch 52/200\n",
      "270/270 [==============================] - 1s 4ms/step - loss: 0.3307 - recall: 0.4558 - val_loss: 0.2926 - val_recall: 0.5746\n",
      "Epoch 53/200\n",
      "270/270 [==============================] - 1s 4ms/step - loss: 0.3308 - recall: 0.4734 - val_loss: 0.2950 - val_recall: 0.5967\n",
      "Epoch 54/200\n",
      "270/270 [==============================] - 1s 4ms/step - loss: 0.3313 - recall: 0.4661 - val_loss: 0.2876 - val_recall: 0.5801\n",
      "Epoch 55/200\n",
      "270/270 [==============================] - 1s 4ms/step - loss: 0.3311 - recall: 0.4558 - val_loss: 0.2913 - val_recall: 0.5801\n",
      "Epoch 56/200\n",
      "270/270 [==============================] - 1s 4ms/step - loss: 0.3301 - recall: 0.4728 - val_loss: 0.2984 - val_recall: 0.5083\n",
      "Epoch 57/200\n",
      "270/270 [==============================] - 1s 4ms/step - loss: 0.3306 - recall: 0.4504 - val_loss: 0.2906 - val_recall: 0.5525\n",
      "Epoch 58/200\n",
      "270/270 [==============================] - 1s 4ms/step - loss: 0.3292 - recall: 0.4594 - val_loss: 0.2931 - val_recall: 0.5470\n",
      "Epoch 59/200\n"
     ]
    },
    {
     "name": "stdout",
     "output_type": "stream",
     "text": [
      "270/270 [==============================] - 1s 4ms/step - loss: 0.3294 - recall: 0.4600 - val_loss: 0.2967 - val_recall: 0.5138\n",
      "Epoch 60/200\n",
      "270/270 [==============================] - 1s 4ms/step - loss: 0.3301 - recall: 0.4661 - val_loss: 0.2985 - val_recall: 0.4917\n",
      "Epoch 61/200\n",
      "270/270 [==============================] - 1s 4ms/step - loss: 0.3291 - recall: 0.4540 - val_loss: 0.2900 - val_recall: 0.4917\n",
      "Epoch 62/200\n",
      "270/270 [==============================] - 1s 4ms/step - loss: 0.3286 - recall: 0.4625 - val_loss: 0.2930 - val_recall: 0.5470\n",
      "Epoch 63/200\n",
      "270/270 [==============================] - 1s 4ms/step - loss: 0.3277 - recall: 0.4655 - val_loss: 0.3004 - val_recall: 0.5912\n",
      "Epoch 64/200\n",
      "270/270 [==============================] - 1s 4ms/step - loss: 0.3291 - recall: 0.4607 - val_loss: 0.2935 - val_recall: 0.5138\n",
      "Epoch 65/200\n",
      "270/270 [==============================] - 1s 4ms/step - loss: 0.3265 - recall: 0.4588 - val_loss: 0.2912 - val_recall: 0.5635\n",
      "Epoch 66/200\n",
      "270/270 [==============================] - 1s 4ms/step - loss: 0.3283 - recall: 0.4691 - val_loss: 0.2991 - val_recall: 0.5580\n",
      "Epoch 67/200\n",
      "270/270 [==============================] - 1s 4ms/step - loss: 0.3284 - recall: 0.4631 - val_loss: 0.2922 - val_recall: 0.4917\n",
      "Epoch 68/200\n",
      "270/270 [==============================] - 1s 4ms/step - loss: 0.3279 - recall: 0.4679 - val_loss: 0.2899 - val_recall: 0.4972\n",
      "Epoch 69/200\n",
      "270/270 [==============================] - 1s 4ms/step - loss: 0.3268 - recall: 0.4673 - val_loss: 0.2964 - val_recall: 0.5193\n",
      "Epoch 70/200\n",
      "270/270 [==============================] - 1s 4ms/step - loss: 0.3269 - recall: 0.4631 - val_loss: 0.2939 - val_recall: 0.5580\n",
      "Epoch 71/200\n",
      "270/270 [==============================] - 1s 4ms/step - loss: 0.3273 - recall: 0.4673 - val_loss: 0.2910 - val_recall: 0.5525\n",
      "Epoch 72/200\n",
      "270/270 [==============================] - 1s 4ms/step - loss: 0.3257 - recall: 0.4728 - val_loss: 0.2960 - val_recall: 0.5138\n",
      "Epoch 73/200\n",
      "270/270 [==============================] - 1s 5ms/step - loss: 0.3257 - recall: 0.4715 - val_loss: 0.2953 - val_recall: 0.5083\n",
      "Epoch 74/200\n",
      "270/270 [==============================] - 2s 6ms/step - loss: 0.3260 - recall: 0.4764 - val_loss: 0.2953 - val_recall: 0.4862\n",
      "Epoch 75/200\n",
      "270/270 [==============================] - 2s 6ms/step - loss: 0.3252 - recall: 0.4697 - val_loss: 0.2931 - val_recall: 0.4807\n",
      "Epoch 76/200\n",
      "270/270 [==============================] - 2s 7ms/step - loss: 0.3267 - recall: 0.4637 - val_loss: 0.2906 - val_recall: 0.5249\n",
      "Epoch 77/200\n",
      "270/270 [==============================] - 1s 5ms/step - loss: 0.3256 - recall: 0.4812 - val_loss: 0.2938 - val_recall: 0.5028\n",
      "Epoch 78/200\n",
      "270/270 [==============================] - 1s 5ms/step - loss: 0.3260 - recall: 0.4691 - val_loss: 0.2994 - val_recall: 0.4696\n",
      "Epoch 79/200\n",
      "270/270 [==============================] - 1s 5ms/step - loss: 0.3249 - recall: 0.4667 - val_loss: 0.2904 - val_recall: 0.4917\n",
      "Epoch 80/200\n",
      "270/270 [==============================] - 1s 5ms/step - loss: 0.3242 - recall: 0.4709 - val_loss: 0.2945 - val_recall: 0.4696\n",
      "Epoch 81/200\n",
      "270/270 [==============================] - 1s 5ms/step - loss: 0.3244 - recall: 0.4728 - val_loss: 0.2980 - val_recall: 0.5414\n",
      "Epoch 82/200\n",
      "270/270 [==============================] - 1s 5ms/step - loss: 0.3239 - recall: 0.4740 - val_loss: 0.2979 - val_recall: 0.5193\n",
      "Epoch 83/200\n",
      "270/270 [==============================] - 1s 5ms/step - loss: 0.3245 - recall: 0.4788 - val_loss: 0.2928 - val_recall: 0.5414\n",
      "Epoch 84/200\n",
      "270/270 [==============================] - 1s 5ms/step - loss: 0.3245 - recall: 0.4649 - val_loss: 0.2935 - val_recall: 0.5580\n",
      "Epoch 85/200\n",
      "270/270 [==============================] - 2s 6ms/step - loss: 0.3227 - recall: 0.4800 - val_loss: 0.2925 - val_recall: 0.5525\n",
      "Epoch 86/200\n",
      "270/270 [==============================] - 1s 5ms/step - loss: 0.3252 - recall: 0.4722 - val_loss: 0.2911 - val_recall: 0.5083\n",
      "Epoch 87/200\n",
      "270/270 [==============================] - 1s 5ms/step - loss: 0.3249 - recall: 0.4685 - val_loss: 0.2941 - val_recall: 0.5193\n",
      "Epoch 88/200\n",
      "270/270 [==============================] - 1s 4ms/step - loss: 0.3233 - recall: 0.4746 - val_loss: 0.2950 - val_recall: 0.5359\n",
      "Epoch 89/200\n",
      "270/270 [==============================] - 1s 4ms/step - loss: 0.3244 - recall: 0.4734 - val_loss: 0.2886 - val_recall: 0.5359\n",
      "Epoch 90/200\n",
      "270/270 [==============================] - 1s 4ms/step - loss: 0.3240 - recall: 0.4691 - val_loss: 0.2910 - val_recall: 0.5359\n",
      "Epoch 91/200\n",
      "270/270 [==============================] - 1s 5ms/step - loss: 0.3227 - recall: 0.4764 - val_loss: 0.3044 - val_recall: 0.5414\n",
      "Epoch 92/200\n",
      "270/270 [==============================] - 1s 4ms/step - loss: 0.3230 - recall: 0.4752 - val_loss: 0.2943 - val_recall: 0.5801\n",
      "Epoch 93/200\n",
      "270/270 [==============================] - 1s 5ms/step - loss: 0.3222 - recall: 0.4685 - val_loss: 0.2869 - val_recall: 0.5580\n",
      "Epoch 94/200\n",
      "270/270 [==============================] - 1s 5ms/step - loss: 0.3220 - recall: 0.4812 - val_loss: 0.2960 - val_recall: 0.5304\n",
      "Epoch 95/200\n",
      "270/270 [==============================] - 1s 5ms/step - loss: 0.3226 - recall: 0.4637 - val_loss: 0.2951 - val_recall: 0.5193\n",
      "Epoch 96/200\n",
      "270/270 [==============================] - 1s 5ms/step - loss: 0.3226 - recall: 0.4794 - val_loss: 0.2925 - val_recall: 0.5028\n",
      "Epoch 97/200\n",
      "270/270 [==============================] - 1s 5ms/step - loss: 0.3247 - recall: 0.4673 - val_loss: 0.2940 - val_recall: 0.5912\n",
      "Epoch 98/200\n",
      "270/270 [==============================] - 1s 5ms/step - loss: 0.3229 - recall: 0.4788 - val_loss: 0.2938 - val_recall: 0.5414\n",
      "Epoch 99/200\n",
      "270/270 [==============================] - 1s 5ms/step - loss: 0.3219 - recall: 0.4843 - val_loss: 0.2919 - val_recall: 0.5083\n",
      "Epoch 100/200\n",
      "270/270 [==============================] - 1s 5ms/step - loss: 0.3229 - recall: 0.4740 - val_loss: 0.2948 - val_recall: 0.5801\n",
      "Epoch 101/200\n",
      "270/270 [==============================] - 1s 5ms/step - loss: 0.3201 - recall: 0.4788 - val_loss: 0.2920 - val_recall: 0.5691\n",
      "Epoch 102/200\n",
      "270/270 [==============================] - 1s 4ms/step - loss: 0.3214 - recall: 0.4776 - val_loss: 0.2936 - val_recall: 0.5359\n",
      "Epoch 103/200\n",
      "270/270 [==============================] - 1s 3ms/step - loss: 0.3219 - recall: 0.4831 - val_loss: 0.2937 - val_recall: 0.5304\n",
      "Epoch 104/200\n",
      "270/270 [==============================] - 1s 4ms/step - loss: 0.3214 - recall: 0.4782 - val_loss: 0.2953 - val_recall: 0.5856\n",
      "Epoch 105/200\n",
      "270/270 [==============================] - 1s 4ms/step - loss: 0.3220 - recall: 0.4824 - val_loss: 0.2910 - val_recall: 0.5249\n",
      "Epoch 106/200\n",
      "270/270 [==============================] - 1s 4ms/step - loss: 0.3204 - recall: 0.4837 - val_loss: 0.2875 - val_recall: 0.5746\n",
      "Epoch 107/200\n",
      "270/270 [==============================] - 1s 4ms/step - loss: 0.3211 - recall: 0.4812 - val_loss: 0.2952 - val_recall: 0.5580\n",
      "Epoch 108/200\n",
      "270/270 [==============================] - 1s 4ms/step - loss: 0.3213 - recall: 0.4758 - val_loss: 0.2928 - val_recall: 0.5746\n",
      "Epoch 109/200\n",
      "270/270 [==============================] - 1s 4ms/step - loss: 0.3205 - recall: 0.4788 - val_loss: 0.2902 - val_recall: 0.5193\n",
      "Epoch 110/200\n",
      "270/270 [==============================] - 1s 4ms/step - loss: 0.3205 - recall: 0.4837 - val_loss: 0.2884 - val_recall: 0.5525\n",
      "Epoch 111/200\n",
      "270/270 [==============================] - 1s 4ms/step - loss: 0.3199 - recall: 0.4897 - val_loss: 0.2935 - val_recall: 0.5083\n",
      "Epoch 112/200\n",
      "270/270 [==============================] - 1s 4ms/step - loss: 0.3224 - recall: 0.4752 - val_loss: 0.2975 - val_recall: 0.5359\n",
      "Epoch 113/200\n",
      "270/270 [==============================] - 1s 4ms/step - loss: 0.3200 - recall: 0.4776 - val_loss: 0.2997 - val_recall: 0.6077\n",
      "Epoch 114/200\n",
      "270/270 [==============================] - 1s 3ms/step - loss: 0.3209 - recall: 0.4740 - val_loss: 0.2915 - val_recall: 0.5801\n",
      "Epoch 115/200\n",
      "270/270 [==============================] - 1s 3ms/step - loss: 0.3194 - recall: 0.4873 - val_loss: 0.2915 - val_recall: 0.5525\n",
      "Epoch 116/200\n",
      "270/270 [==============================] - 1s 3ms/step - loss: 0.3193 - recall: 0.4818 - val_loss: 0.2944 - val_recall: 0.5359\n",
      "Epoch 117/200\n"
     ]
    },
    {
     "name": "stdout",
     "output_type": "stream",
     "text": [
      "270/270 [==============================] - 1s 3ms/step - loss: 0.3194 - recall: 0.4818 - val_loss: 0.2973 - val_recall: 0.5635\n",
      "Epoch 118/200\n",
      "270/270 [==============================] - 1s 4ms/step - loss: 0.3194 - recall: 0.4776 - val_loss: 0.2964 - val_recall: 0.5525\n",
      "Epoch 119/200\n",
      "270/270 [==============================] - 1s 4ms/step - loss: 0.3200 - recall: 0.4746 - val_loss: 0.2919 - val_recall: 0.5580\n",
      "Epoch 120/200\n",
      "270/270 [==============================] - 1s 4ms/step - loss: 0.3209 - recall: 0.4867 - val_loss: 0.2958 - val_recall: 0.5414\n",
      "Epoch 121/200\n",
      "270/270 [==============================] - 1s 3ms/step - loss: 0.3187 - recall: 0.4806 - val_loss: 0.3100 - val_recall: 0.6077\n",
      "Epoch 122/200\n",
      "270/270 [==============================] - 1s 4ms/step - loss: 0.3199 - recall: 0.4843 - val_loss: 0.2971 - val_recall: 0.4751\n",
      "Epoch 123/200\n",
      "270/270 [==============================] - 1s 4ms/step - loss: 0.3195 - recall: 0.4794 - val_loss: 0.3023 - val_recall: 0.5580\n",
      "Epoch 124/200\n",
      "270/270 [==============================] - 1s 4ms/step - loss: 0.3208 - recall: 0.4837 - val_loss: 0.2927 - val_recall: 0.5193\n",
      "Epoch 125/200\n",
      "270/270 [==============================] - 1s 4ms/step - loss: 0.3192 - recall: 0.4788 - val_loss: 0.3015 - val_recall: 0.4530\n",
      "Epoch 126/200\n",
      "270/270 [==============================] - 1s 4ms/step - loss: 0.3198 - recall: 0.4764 - val_loss: 0.2980 - val_recall: 0.6022\n",
      "Epoch 127/200\n",
      "270/270 [==============================] - 1s 4ms/step - loss: 0.3201 - recall: 0.4794 - val_loss: 0.2887 - val_recall: 0.5193\n",
      "Epoch 128/200\n",
      "270/270 [==============================] - 1s 3ms/step - loss: 0.3196 - recall: 0.4776 - val_loss: 0.2917 - val_recall: 0.5028\n",
      "Epoch 129/200\n",
      "270/270 [==============================] - 1s 3ms/step - loss: 0.3182 - recall: 0.4867 - val_loss: 0.2945 - val_recall: 0.5083\n",
      "Epoch 130/200\n",
      "270/270 [==============================] - 1s 3ms/step - loss: 0.3194 - recall: 0.4758 - val_loss: 0.2934 - val_recall: 0.5083\n",
      "Epoch 131/200\n",
      "270/270 [==============================] - 1s 3ms/step - loss: 0.3188 - recall: 0.4758 - val_loss: 0.2945 - val_recall: 0.5856\n",
      "Epoch 132/200\n",
      "270/270 [==============================] - 1s 3ms/step - loss: 0.3196 - recall: 0.4800 - val_loss: 0.3007 - val_recall: 0.6022\n",
      "Epoch 133/200\n",
      "270/270 [==============================] - 1s 3ms/step - loss: 0.3200 - recall: 0.4837 - val_loss: 0.2975 - val_recall: 0.4696\n",
      "Epoch 134/200\n",
      "270/270 [==============================] - 1s 3ms/step - loss: 0.3190 - recall: 0.4812 - val_loss: 0.2971 - val_recall: 0.5635\n",
      "Epoch 135/200\n",
      "270/270 [==============================] - 1s 3ms/step - loss: 0.3176 - recall: 0.4728 - val_loss: 0.2941 - val_recall: 0.5691\n",
      "Epoch 136/200\n",
      "270/270 [==============================] - 1s 3ms/step - loss: 0.3193 - recall: 0.4782 - val_loss: 0.2905 - val_recall: 0.5580\n",
      "Epoch 137/200\n",
      "270/270 [==============================] - 1s 3ms/step - loss: 0.3184 - recall: 0.4806 - val_loss: 0.3007 - val_recall: 0.5746\n",
      "Epoch 138/200\n",
      "270/270 [==============================] - 1s 3ms/step - loss: 0.3200 - recall: 0.4867 - val_loss: 0.2903 - val_recall: 0.5083\n",
      "Epoch 139/200\n",
      "270/270 [==============================] - 1s 3ms/step - loss: 0.3184 - recall: 0.4776 - val_loss: 0.2965 - val_recall: 0.5083\n",
      "Epoch 140/200\n",
      "270/270 [==============================] - 1s 3ms/step - loss: 0.3176 - recall: 0.4873 - val_loss: 0.2976 - val_recall: 0.5691\n",
      "Epoch 141/200\n",
      "270/270 [==============================] - 1s 3ms/step - loss: 0.3182 - recall: 0.4770 - val_loss: 0.2911 - val_recall: 0.5304\n",
      "Epoch 142/200\n",
      "270/270 [==============================] - 1s 3ms/step - loss: 0.3187 - recall: 0.4843 - val_loss: 0.2931 - val_recall: 0.5414\n",
      "Epoch 143/200\n",
      "270/270 [==============================] - 1s 3ms/step - loss: 0.3188 - recall: 0.4728 - val_loss: 0.2880 - val_recall: 0.5691\n",
      "Epoch 144/200\n",
      "270/270 [==============================] - 1s 3ms/step - loss: 0.3181 - recall: 0.4855 - val_loss: 0.2900 - val_recall: 0.5470\n",
      "Epoch 145/200\n",
      "270/270 [==============================] - 1s 3ms/step - loss: 0.3184 - recall: 0.4849 - val_loss: 0.2905 - val_recall: 0.5470\n",
      "Epoch 146/200\n",
      "270/270 [==============================] - 1s 3ms/step - loss: 0.3197 - recall: 0.4794 - val_loss: 0.2924 - val_recall: 0.5691\n",
      "Epoch 147/200\n",
      "270/270 [==============================] - 1s 3ms/step - loss: 0.3178 - recall: 0.4758 - val_loss: 0.2883 - val_recall: 0.5801\n",
      "Epoch 148/200\n",
      "270/270 [==============================] - 1s 3ms/step - loss: 0.3177 - recall: 0.4837 - val_loss: 0.2956 - val_recall: 0.6077\n",
      "Epoch 149/200\n",
      "270/270 [==============================] - 1s 3ms/step - loss: 0.3178 - recall: 0.4806 - val_loss: 0.3018 - val_recall: 0.6077\n",
      "Epoch 150/200\n",
      "270/270 [==============================] - 1s 3ms/step - loss: 0.3167 - recall: 0.4879 - val_loss: 0.2896 - val_recall: 0.5193\n",
      "Epoch 151/200\n",
      "270/270 [==============================] - 1s 3ms/step - loss: 0.3169 - recall: 0.4824 - val_loss: 0.2942 - val_recall: 0.5691\n",
      "Epoch 152/200\n",
      "270/270 [==============================] - 1s 3ms/step - loss: 0.3167 - recall: 0.4927 - val_loss: 0.2927 - val_recall: 0.5746\n",
      "Epoch 153/200\n",
      "270/270 [==============================] - 1s 3ms/step - loss: 0.3172 - recall: 0.4800 - val_loss: 0.2944 - val_recall: 0.4862\n",
      "Epoch 154/200\n",
      "270/270 [==============================] - 1s 3ms/step - loss: 0.3172 - recall: 0.4891 - val_loss: 0.2909 - val_recall: 0.5801\n",
      "Epoch 155/200\n",
      "270/270 [==============================] - 1s 3ms/step - loss: 0.3190 - recall: 0.4855 - val_loss: 0.2913 - val_recall: 0.5470\n",
      "Epoch 156/200\n",
      "270/270 [==============================] - 1s 3ms/step - loss: 0.3184 - recall: 0.4806 - val_loss: 0.2992 - val_recall: 0.5470\n",
      "Epoch 157/200\n",
      "270/270 [==============================] - 1s 3ms/step - loss: 0.3180 - recall: 0.4867 - val_loss: 0.2944 - val_recall: 0.5414\n",
      "Epoch 158/200\n",
      "270/270 [==============================] - 1s 3ms/step - loss: 0.3175 - recall: 0.4909 - val_loss: 0.2888 - val_recall: 0.5083\n",
      "Epoch 159/200\n",
      "270/270 [==============================] - 1s 3ms/step - loss: 0.3177 - recall: 0.4903 - val_loss: 0.2943 - val_recall: 0.4807\n",
      "Epoch 160/200\n",
      "270/270 [==============================] - 1s 3ms/step - loss: 0.3169 - recall: 0.4722 - val_loss: 0.2972 - val_recall: 0.5414\n",
      "Epoch 161/200\n",
      "270/270 [==============================] - 1s 3ms/step - loss: 0.3169 - recall: 0.4843 - val_loss: 0.2977 - val_recall: 0.4696\n",
      "Epoch 162/200\n",
      "270/270 [==============================] - 1s 3ms/step - loss: 0.3173 - recall: 0.4740 - val_loss: 0.2925 - val_recall: 0.4917\n",
      "Epoch 163/200\n",
      "270/270 [==============================] - 1s 3ms/step - loss: 0.3158 - recall: 0.4824 - val_loss: 0.2869 - val_recall: 0.5470\n",
      "Epoch 164/200\n",
      "270/270 [==============================] - 1s 5ms/step - loss: 0.3165 - recall: 0.4861 - val_loss: 0.3012 - val_recall: 0.5967\n",
      "Epoch 165/200\n",
      "270/270 [==============================] - 1s 4ms/step - loss: 0.3173 - recall: 0.4824 - val_loss: 0.2881 - val_recall: 0.5359\n",
      "Epoch 166/200\n",
      "270/270 [==============================] - 1s 3ms/step - loss: 0.3170 - recall: 0.4867 - val_loss: 0.2932 - val_recall: 0.4917\n",
      "Epoch 167/200\n",
      "270/270 [==============================] - 1s 3ms/step - loss: 0.3168 - recall: 0.4812 - val_loss: 0.3015 - val_recall: 0.5414\n",
      "Epoch 168/200\n",
      "270/270 [==============================] - 1s 4ms/step - loss: 0.3180 - recall: 0.4921 - val_loss: 0.3013 - val_recall: 0.5525\n",
      "Epoch 169/200\n",
      "270/270 [==============================] - 1s 4ms/step - loss: 0.3156 - recall: 0.4897 - val_loss: 0.2923 - val_recall: 0.5856\n",
      "Epoch 170/200\n",
      "270/270 [==============================] - 1s 3ms/step - loss: 0.3163 - recall: 0.4939 - val_loss: 0.3038 - val_recall: 0.5691\n",
      "Epoch 171/200\n",
      "270/270 [==============================] - 1s 3ms/step - loss: 0.3163 - recall: 0.4885 - val_loss: 0.2927 - val_recall: 0.6022\n",
      "Epoch 172/200\n",
      "270/270 [==============================] - 1s 4ms/step - loss: 0.3153 - recall: 0.4867 - val_loss: 0.2959 - val_recall: 0.4807\n",
      "Epoch 173/200\n",
      "270/270 [==============================] - 1s 4ms/step - loss: 0.3162 - recall: 0.4867 - val_loss: 0.2924 - val_recall: 0.5801\n",
      "Epoch 174/200\n",
      "270/270 [==============================] - 1s 5ms/step - loss: 0.3166 - recall: 0.4818 - val_loss: 0.2905 - val_recall: 0.5028\n",
      "Epoch 175/200\n"
     ]
    },
    {
     "name": "stdout",
     "output_type": "stream",
     "text": [
      "270/270 [==============================] - 1s 4ms/step - loss: 0.3152 - recall: 0.4927 - val_loss: 0.2949 - val_recall: 0.5083\n",
      "Epoch 176/200\n",
      "270/270 [==============================] - 1s 3ms/step - loss: 0.3166 - recall: 0.4879 - val_loss: 0.2966 - val_recall: 0.4696\n",
      "Epoch 177/200\n",
      "270/270 [==============================] - 1s 3ms/step - loss: 0.3155 - recall: 0.4903 - val_loss: 0.2920 - val_recall: 0.5691\n",
      "Epoch 178/200\n",
      "270/270 [==============================] - 1s 3ms/step - loss: 0.3142 - recall: 0.4946 - val_loss: 0.2939 - val_recall: 0.5635\n",
      "Epoch 179/200\n",
      "270/270 [==============================] - 1s 4ms/step - loss: 0.3153 - recall: 0.4861 - val_loss: 0.2903 - val_recall: 0.5525\n",
      "Epoch 180/200\n",
      "270/270 [==============================] - 1s 3ms/step - loss: 0.3148 - recall: 0.4818 - val_loss: 0.2990 - val_recall: 0.6077\n",
      "Epoch 181/200\n",
      "270/270 [==============================] - 1s 3ms/step - loss: 0.3156 - recall: 0.4915 - val_loss: 0.2955 - val_recall: 0.5746\n",
      "Epoch 182/200\n",
      "270/270 [==============================] - 1s 3ms/step - loss: 0.3150 - recall: 0.4879 - val_loss: 0.2952 - val_recall: 0.5801\n",
      "Epoch 183/200\n",
      "270/270 [==============================] - 1s 4ms/step - loss: 0.3151 - recall: 0.4994 - val_loss: 0.2891 - val_recall: 0.5193\n",
      "Epoch 184/200\n",
      "270/270 [==============================] - 1s 4ms/step - loss: 0.3159 - recall: 0.4837 - val_loss: 0.2921 - val_recall: 0.5470\n",
      "Epoch 185/200\n",
      "270/270 [==============================] - 1s 4ms/step - loss: 0.3157 - recall: 0.4921 - val_loss: 0.2898 - val_recall: 0.5525\n",
      "Epoch 186/200\n",
      "270/270 [==============================] - 1s 3ms/step - loss: 0.3152 - recall: 0.4927 - val_loss: 0.2938 - val_recall: 0.5304\n",
      "Epoch 187/200\n",
      "270/270 [==============================] - 1s 3ms/step - loss: 0.3150 - recall: 0.4885 - val_loss: 0.2923 - val_recall: 0.5635\n",
      "Epoch 188/200\n",
      "270/270 [==============================] - 1s 3ms/step - loss: 0.3162 - recall: 0.4885 - val_loss: 0.2920 - val_recall: 0.5138\n",
      "Epoch 189/200\n",
      "270/270 [==============================] - 1s 3ms/step - loss: 0.3158 - recall: 0.4855 - val_loss: 0.2975 - val_recall: 0.5580\n",
      "Epoch 190/200\n",
      "270/270 [==============================] - 1s 3ms/step - loss: 0.3149 - recall: 0.4885 - val_loss: 0.2922 - val_recall: 0.5580\n",
      "Epoch 191/200\n",
      "270/270 [==============================] - 1s 3ms/step - loss: 0.3152 - recall: 0.4861 - val_loss: 0.2946 - val_recall: 0.5691\n",
      "Epoch 192/200\n",
      "270/270 [==============================] - 1s 3ms/step - loss: 0.3140 - recall: 0.4867 - val_loss: 0.2936 - val_recall: 0.5525\n",
      "Epoch 193/200\n",
      "270/270 [==============================] - 1s 3ms/step - loss: 0.3150 - recall: 0.4818 - val_loss: 0.2944 - val_recall: 0.5028\n",
      "Epoch 194/200\n",
      "270/270 [==============================] - 1s 4ms/step - loss: 0.3157 - recall: 0.4855 - val_loss: 0.2944 - val_recall: 0.5746\n",
      "Epoch 195/200\n",
      "270/270 [==============================] - 1s 4ms/step - loss: 0.3143 - recall: 0.4867 - val_loss: 0.2988 - val_recall: 0.5746\n",
      "Epoch 196/200\n",
      "270/270 [==============================] - 1s 5ms/step - loss: 0.3163 - recall: 0.4933 - val_loss: 0.2945 - val_recall: 0.5525\n",
      "Epoch 197/200\n",
      "270/270 [==============================] - 1s 4ms/step - loss: 0.3158 - recall: 0.4867 - val_loss: 0.3006 - val_recall: 0.5691\n",
      "Epoch 198/200\n",
      "270/270 [==============================] - 1s 5ms/step - loss: 0.3137 - recall: 0.4921 - val_loss: 0.2980 - val_recall: 0.5635\n",
      "Epoch 199/200\n",
      "270/270 [==============================] - 1s 3ms/step - loss: 0.3143 - recall: 0.4915 - val_loss: 0.2957 - val_recall: 0.5359\n",
      "Epoch 200/200\n",
      "270/270 [==============================] - 1s 4ms/step - loss: 0.3154 - recall: 0.4970 - val_loss: 0.2938 - val_recall: 0.4862\n"
     ]
    },
    {
     "data": {
      "text/plain": [
       "<keras.callbacks.History at 0x20c753f0e20>"
      ]
     },
     "execution_count": 225,
     "metadata": {},
     "output_type": "execute_result"
    }
   ],
   "source": [
    "model.fit(x = X_train, y = y_train, validation_split = 0.1, batch_size = 30, epochs = 200, verbose=1)"
   ]
  },
  {
   "cell_type": "code",
   "execution_count": 226,
   "metadata": {
    "ExecuteTime": {
     "end_time": "2022-10-04T17:41:17.696091Z",
     "start_time": "2022-10-04T17:41:17.655114Z"
    }
   },
   "outputs": [
    {
     "name": "stdout",
     "output_type": "stream",
     "text": [
      "Model: \"sequential_2\"\n",
      "_________________________________________________________________\n",
      " Layer (type)                Output Shape              Param #   \n",
      "=================================================================\n",
      " dense_8 (Dense)             (None, 20)                240       \n",
      "                                                                 \n",
      " dense_9 (Dense)             (None, 15)                315       \n",
      "                                                                 \n",
      " dense_10 (Dense)            (None, 10)                160       \n",
      "                                                                 \n",
      " dense_11 (Dense)            (None, 1)                 11        \n",
      "                                                                 \n",
      "=================================================================\n",
      "Total params: 726\n",
      "Trainable params: 726\n",
      "Non-trainable params: 0\n",
      "_________________________________________________________________\n"
     ]
    }
   ],
   "source": [
    "model.summary()"
   ]
  },
  {
   "cell_type": "code",
   "execution_count": 227,
   "metadata": {
    "ExecuteTime": {
     "end_time": "2022-10-04T17:41:17.742066Z",
     "start_time": "2022-10-04T17:41:17.702091Z"
    }
   },
   "outputs": [
    {
     "data": {
      "text/html": [
       "<div>\n",
       "<style scoped>\n",
       "    .dataframe tbody tr th:only-of-type {\n",
       "        vertical-align: middle;\n",
       "    }\n",
       "\n",
       "    .dataframe tbody tr th {\n",
       "        vertical-align: top;\n",
       "    }\n",
       "\n",
       "    .dataframe thead th {\n",
       "        text-align: right;\n",
       "    }\n",
       "</style>\n",
       "<table border=\"1\" class=\"dataframe\">\n",
       "  <thead>\n",
       "    <tr style=\"text-align: right;\">\n",
       "      <th></th>\n",
       "      <th>loss</th>\n",
       "      <th>recall</th>\n",
       "      <th>val_loss</th>\n",
       "      <th>val_recall</th>\n",
       "    </tr>\n",
       "  </thead>\n",
       "  <tbody>\n",
       "    <tr>\n",
       "      <th>0</th>\n",
       "      <td>0.510</td>\n",
       "      <td>0.004</td>\n",
       "      <td>0.462</td>\n",
       "      <td>0.000</td>\n",
       "    </tr>\n",
       "    <tr>\n",
       "      <th>1</th>\n",
       "      <td>0.462</td>\n",
       "      <td>0.012</td>\n",
       "      <td>0.434</td>\n",
       "      <td>0.110</td>\n",
       "    </tr>\n",
       "    <tr>\n",
       "      <th>2</th>\n",
       "      <td>0.436</td>\n",
       "      <td>0.168</td>\n",
       "      <td>0.396</td>\n",
       "      <td>0.276</td>\n",
       "    </tr>\n",
       "    <tr>\n",
       "      <th>3</th>\n",
       "      <td>0.415</td>\n",
       "      <td>0.266</td>\n",
       "      <td>0.375</td>\n",
       "      <td>0.381</td>\n",
       "    </tr>\n",
       "    <tr>\n",
       "      <th>4</th>\n",
       "      <td>0.402</td>\n",
       "      <td>0.324</td>\n",
       "      <td>0.363</td>\n",
       "      <td>0.359</td>\n",
       "    </tr>\n",
       "  </tbody>\n",
       "</table>\n",
       "</div>"
      ],
      "text/plain": [
       "   loss  recall  val_loss  val_recall\n",
       "0 0.510   0.004     0.462       0.000\n",
       "1 0.462   0.012     0.434       0.110\n",
       "2 0.436   0.168     0.396       0.276\n",
       "3 0.415   0.266     0.375       0.381\n",
       "4 0.402   0.324     0.363       0.359"
      ]
     },
     "execution_count": 227,
     "metadata": {},
     "output_type": "execute_result"
    }
   ],
   "source": [
    "loss_df = pd.DataFrame(model.history.history)\n",
    "loss_df.head()"
   ]
  },
  {
   "cell_type": "code",
   "execution_count": 228,
   "metadata": {
    "ExecuteTime": {
     "end_time": "2022-10-04T17:41:18.301150Z",
     "start_time": "2022-10-04T17:41:17.752059Z"
    }
   },
   "outputs": [
    {
     "data": {
      "image/png": "[encoded data removed]",
      "text/plain": [
       "<Figure size 720x432 with 1 Axes>"
      ]
     },
     "metadata": {},
     "output_type": "display_data"
    }
   ],
   "source": [
    "loss_df = pd.DataFrame(model.history.history)\n",
    "loss_df.plot()\n",
    "plt.show()"
   ]
  },
  {
   "cell_type": "markdown",
   "metadata": {},
   "source": [
    "### Evaluate The Model\n",
    "\n",
    "- Plot the model history to observe the changing of metrics\n",
    "- Make prediction to see \"confusion matrix\" and \"classification report\"\n",
    "- Check ROC (Receiver Operating Curve) and AUC (Area Under Curve) for the model"
   ]
  },
  {
   "cell_type": "code",
   "execution_count": 229,
   "metadata": {
    "ExecuteTime": {
     "end_time": "2022-10-04T17:41:19.081704Z",
     "start_time": "2022-10-04T17:41:18.305151Z"
    }
   },
   "outputs": [
    {
     "name": "stdout",
     "output_type": "stream",
     "text": [
      "loss :  0.3645097017288208\n",
      "recall :  0.37254902720451355\n"
     ]
    }
   ],
   "source": [
    "loss, recall = model.evaluate(X_test, y_test, verbose=0)\n",
    "print(\"loss : \", loss)\n",
    "print(\"recall : \", recall)"
   ]
  },
  {
   "cell_type": "code",
   "execution_count": 230,
   "metadata": {
    "ExecuteTime": {
     "end_time": "2022-10-04T17:41:19.361002Z",
     "start_time": "2022-10-04T17:41:19.085701Z"
    }
   },
   "outputs": [
    {
     "name": "stdout",
     "output_type": "stream",
     "text": [
      "32/32 [==============================] - 0s 2ms/step\n",
      "[[769  27]\n",
      " [128  76]]\n",
      "              precision    recall  f1-score   support\n",
      "\n",
      "           0       0.86      0.97      0.91       796\n",
      "           1       0.74      0.37      0.50       204\n",
      "\n",
      "    accuracy                           0.84      1000\n",
      "   macro avg       0.80      0.67      0.70      1000\n",
      "weighted avg       0.83      0.84      0.82      1000\n",
      "\n"
     ]
    }
   ],
   "source": [
    "y_pred = model.predict(X_test) > 0.5\n",
    "print(confusion_matrix(y_test, y_pred))\n",
    "print(classification_report(y_test, y_pred))"
   ]
  },
  {
   "cell_type": "code",
   "execution_count": 231,
   "metadata": {
    "ExecuteTime": {
     "end_time": "2022-10-04T17:41:19.975648Z",
     "start_time": "2022-10-04T17:41:19.366000Z"
    }
   },
   "outputs": [
    {
     "name": "stdout",
     "output_type": "stream",
     "text": [
      "32/32 [==============================] - 0s 2ms/step\n"
     ]
    },
    {
     "data": {
      "image/png": "[encoded data removed]",
      "text/plain": [
       "<Figure size 720x432 with 1 Axes>"
      ]
     },
     "metadata": {},
     "output_type": "display_data"
    }
   ],
   "source": [
    "y_pred_proba = model.predict(X_test)\n",
    "precisions, recalls, thresholds = precision_recall_curve(y_test, y_pred_proba)\n",
    "plt.plot(recalls, precisions, label='ANN')\n",
    "plt.xlabel('recalls')\n",
    "plt.ylabel('precisions')\n",
    "plt.title('Precision-Recall curve')\n",
    "plt.show()"
   ]
  },
  {
   "cell_type": "code",
   "execution_count": 232,
   "metadata": {
    "ExecuteTime": {
     "end_time": "2022-10-04T17:41:19.991641Z",
     "start_time": "2022-10-04T17:41:19.979648Z"
    }
   },
   "outputs": [
    {
     "data": {
      "text/plain": [
       "0.6560336281270599"
      ]
     },
     "execution_count": 232,
     "metadata": {},
     "output_type": "execute_result"
    }
   ],
   "source": [
    "average_precision_score(y_test, y_pred_proba)"
   ]
  },
  {
   "cell_type": "markdown",
   "metadata": {},
   "source": [
    "## with class_weigth\n",
    "\n",
    "Investigate how the \"class_weight\" hyper-parameter is used in a Neural Network."
   ]
  },
  {
   "cell_type": "markdown",
   "metadata": {},
   "source": [
    "### Create The Model"
   ]
  },
  {
   "cell_type": "code",
   "execution_count": 233,
   "metadata": {
    "ExecuteTime": {
     "end_time": "2022-10-04T17:41:20.022623Z",
     "start_time": "2022-10-04T17:41:19.996640Z"
    }
   },
   "outputs": [
    {
     "data": {
      "text/plain": [
       "{0: 0.6278777731268314, 1: 2.454991816693944}"
      ]
     },
     "execution_count": 233,
     "metadata": {},
     "output_type": "execute_result"
    }
   ],
   "source": [
    "from sklearn.utils import class_weight\n",
    "\n",
    "class_weights = class_weight.compute_class_weight('balanced',\n",
    "                                                  classes=np.unique(y_train),\n",
    "                                                  y=y_train)\n",
    "\n",
    "class_weights = {0: class_weights[0], 1: class_weights[1]}\n",
    "class_weights"
   ]
  },
  {
   "cell_type": "code",
   "execution_count": 234,
   "metadata": {
    "ExecuteTime": {
     "end_time": "2022-10-04T17:42:30.874192Z",
     "start_time": "2022-10-04T17:42:30.743499Z"
    }
   },
   "outputs": [],
   "source": [
    "tf.random.set_seed(seed)\n",
    "\n",
    "model = Sequential()\n",
    "model.add(Dense(20, activation=\"relu\", input_dim = X_train.shape[1]))\n",
    "model.add(Dense(15, activation=\"relu\"))\n",
    "model.add(Dense(10, activation=\"relu\"))\n",
    "model.add(Dense(1, activation=\"sigmoid\"))\n",
    "\n",
    "model.compile(optimizer=\"Adam\", \n",
    "              loss=\"binary_crossentropy\",\n",
    "              metrics=[\"Recall\"])"
   ]
  },
  {
   "cell_type": "code",
   "execution_count": 235,
   "metadata": {
    "ExecuteTime": {
     "end_time": "2022-10-04T17:45:37.565318Z",
     "start_time": "2022-10-04T17:42:34.382928Z"
    }
   },
   "outputs": [
    {
     "name": "stdout",
     "output_type": "stream",
     "text": [
      "Epoch 1/200\n",
      "Epoch 2/200\n",
      "Epoch 3/200\n",
      "Epoch 4/200\n",
      "Epoch 5/200\n",
      "Epoch 6/200\n",
      "Epoch 7/200\n",
      "Epoch 8/200\n",
      "Epoch 9/200\n",
      "Epoch 10/200\n",
      "Epoch 11/200\n",
      "Epoch 12/200\n",
      "Epoch 13/200\n",
      "Epoch 14/200\n",
      "Epoch 15/200\n",
      "Epoch 16/200\n",
      "Epoch 17/200\n",
      "Epoch 18/200\n",
      "Epoch 19/200\n",
      "Epoch 20/200\n",
      "Epoch 21/200\n",
      "Epoch 22/200\n",
      "Epoch 23/200\n",
      "Epoch 24/200\n",
      "Epoch 25/200\n",
      "Epoch 26/200\n",
      "Epoch 27/200\n",
      "Epoch 28/200\n",
      "Epoch 29/200\n",
      "Epoch 30/200\n",
      "Epoch 31/200\n",
      "Epoch 32/200\n",
      "Epoch 33/200\n",
      "Epoch 34/200\n",
      "Epoch 35/200\n",
      "Epoch 36/200\n",
      "Epoch 37/200\n",
      "Epoch 38/200\n",
      "Epoch 39/200\n",
      "Epoch 40/200\n",
      "Epoch 41/200\n",
      "Epoch 42/200\n",
      "Epoch 43/200\n",
      "Epoch 44/200\n",
      "Epoch 45/200\n",
      "Epoch 46/200\n",
      "Epoch 47/200\n",
      "Epoch 48/200\n",
      "Epoch 49/200\n",
      "Epoch 50/200\n",
      "Epoch 51/200\n",
      "Epoch 52/200\n",
      "Epoch 53/200\n",
      "Epoch 54/200\n",
      "Epoch 55/200\n",
      "Epoch 56/200\n",
      "Epoch 57/200\n",
      "Epoch 58/200\n",
      "Epoch 59/200\n",
      "Epoch 60/200\n",
      "Epoch 61/200\n",
      "Epoch 62/200\n",
      "Epoch 63/200\n",
      "Epoch 64/200\n",
      "Epoch 65/200\n",
      "Epoch 66/200\n",
      "Epoch 67/200\n",
      "Epoch 68/200\n",
      "Epoch 69/200\n",
      "Epoch 70/200\n",
      "Epoch 71/200\n",
      "Epoch 72/200\n",
      "Epoch 73/200\n",
      "Epoch 74/200\n",
      "Epoch 75/200\n",
      "Epoch 76/200\n",
      "Epoch 77/200\n",
      "Epoch 78/200\n",
      "Epoch 79/200\n",
      "Epoch 80/200\n",
      "Epoch 81/200\n",
      "Epoch 82/200\n",
      "Epoch 83/200\n",
      "Epoch 84/200\n",
      "Epoch 85/200\n",
      "Epoch 86/200\n",
      "Epoch 87/200\n",
      "Epoch 88/200\n",
      "Epoch 89/200\n",
      "Epoch 90/200\n",
      "Epoch 91/200\n",
      "Epoch 92/200\n",
      "Epoch 93/200\n",
      "Epoch 94/200\n",
      "Epoch 95/200\n",
      "Epoch 96/200\n",
      "Epoch 97/200\n",
      "Epoch 98/200\n",
      "Epoch 99/200\n",
      "Epoch 100/200\n",
      "Epoch 101/200\n",
      "Epoch 102/200\n",
      "Epoch 103/200\n",
      "Epoch 104/200\n",
      "Epoch 105/200\n",
      "Epoch 106/200\n",
      "Epoch 107/200\n",
      "Epoch 108/200\n",
      "Epoch 109/200\n",
      "Epoch 110/200\n",
      "Epoch 111/200\n",
      "Epoch 112/200\n",
      "Epoch 113/200\n",
      "Epoch 114/200\n",
      "Epoch 115/200\n",
      "Epoch 116/200\n",
      "Epoch 117/200\n",
      "Epoch 118/200\n",
      "Epoch 119/200\n",
      "Epoch 120/200\n",
      "Epoch 121/200\n",
      "Epoch 122/200\n",
      "Epoch 123/200\n",
      "Epoch 124/200\n",
      "Epoch 125/200\n",
      "Epoch 126/200\n",
      "Epoch 127/200\n",
      "Epoch 128/200\n",
      "Epoch 129/200\n",
      "Epoch 130/200\n",
      "Epoch 131/200\n",
      "Epoch 132/200\n",
      "Epoch 133/200\n",
      "Epoch 134/200\n",
      "Epoch 135/200\n",
      "Epoch 136/200\n",
      "Epoch 137/200\n",
      "Epoch 138/200\n",
      "Epoch 139/200\n",
      "Epoch 140/200\n",
      "Epoch 141/200\n",
      "Epoch 142/200\n",
      "Epoch 143/200\n",
      "Epoch 144/200\n",
      "Epoch 145/200\n",
      "Epoch 146/200\n",
      "Epoch 147/200\n",
      "Epoch 148/200\n",
      "Epoch 149/200\n",
      "Epoch 150/200\n",
      "Epoch 151/200\n",
      "Epoch 152/200\n",
      "Epoch 153/200\n",
      "Epoch 154/200\n",
      "Epoch 155/200\n",
      "Epoch 156/200\n",
      "Epoch 157/200\n",
      "Epoch 158/200\n",
      "Epoch 159/200\n",
      "Epoch 160/200\n",
      "Epoch 161/200\n",
      "Epoch 162/200\n",
      "Epoch 163/200\n",
      "Epoch 164/200\n",
      "Epoch 165/200\n",
      "Epoch 166/200\n",
      "Epoch 167/200\n",
      "Epoch 168/200\n",
      "Epoch 169/200\n",
      "Epoch 170/200\n",
      "Epoch 171/200\n",
      "Epoch 172/200\n",
      "Epoch 173/200\n",
      "Epoch 174/200\n",
      "Epoch 175/200\n",
      "Epoch 176/200\n",
      "Epoch 177/200\n",
      "Epoch 178/200\n",
      "Epoch 179/200\n",
      "Epoch 180/200\n",
      "Epoch 181/200\n",
      "Epoch 182/200\n",
      "Epoch 183/200\n",
      "Epoch 184/200\n",
      "Epoch 185/200\n",
      "Epoch 186/200\n",
      "Epoch 187/200\n",
      "Epoch 188/200\n",
      "Epoch 189/200\n",
      "Epoch 190/200\n",
      "Epoch 191/200\n",
      "Epoch 192/200\n",
      "Epoch 193/200\n",
      "Epoch 194/200\n",
      "Epoch 195/200\n",
      "Epoch 196/200\n",
      "Epoch 197/200\n",
      "Epoch 198/200\n",
      "Epoch 199/200\n",
      "Epoch 200/200\n"
     ]
    },
    {
     "data": {
      "text/plain": [
       "<keras.callbacks.History at 0x20c72d5dca0>"
      ]
     },
     "execution_count": 235,
     "metadata": {},
     "output_type": "execute_result"
    }
   ],
   "source": [
    "model.fit(x = X_train, y = y_train, validation_split = 0.1, batch_size = 30, epochs = 200, verbose=5, class_weight=class_weights)"
   ]
  },
  {
   "cell_type": "code",
   "execution_count": 236,
   "metadata": {
    "ExecuteTime": {
     "end_time": "2022-10-04T17:45:37.612274Z",
     "start_time": "2022-10-04T17:45:37.569300Z"
    }
   },
   "outputs": [
    {
     "name": "stdout",
     "output_type": "stream",
     "text": [
      "Model: \"sequential_3\"\n",
      "_________________________________________________________________\n",
      " Layer (type)                Output Shape              Param #   \n",
      "=================================================================\n",
      " dense_12 (Dense)            (None, 20)                240       \n",
      "                                                                 \n",
      " dense_13 (Dense)            (None, 15)                315       \n",
      "                                                                 \n",
      " dense_14 (Dense)            (None, 10)                160       \n",
      "                                                                 \n",
      " dense_15 (Dense)            (None, 1)                 11        \n",
      "                                                                 \n",
      "=================================================================\n",
      "Total params: 726\n",
      "Trainable params: 726\n",
      "Non-trainable params: 0\n",
      "_________________________________________________________________\n"
     ]
    }
   ],
   "source": [
    "model.summary()"
   ]
  },
  {
   "cell_type": "markdown",
   "metadata": {},
   "source": [
    "### Evaluate The Model\n",
    "\n",
    "- Plot the model history to observe the changing of metrics\n",
    "- Make prediction to see \"confusion matrix\" and \"classification report\"\n",
    "- Check ROC (Receiver Operating Curve) and AUC (Area Under Curve) for the model"
   ]
  },
  {
   "cell_type": "code",
   "execution_count": 237,
   "metadata": {
    "ExecuteTime": {
     "end_time": "2022-10-04T17:45:38.203940Z",
     "start_time": "2022-10-04T17:45:37.621269Z"
    }
   },
   "outputs": [
    {
     "data": {
      "image/png": "[encoded data removed]",
      "text/plain": [
       "<Figure size 720x432 with 1 Axes>"
      ]
     },
     "metadata": {},
     "output_type": "display_data"
    }
   ],
   "source": [
    "loss_df = pd.DataFrame(model.history.history)\n",
    "loss_df.plot()\n",
    "plt.show()"
   ]
  },
  {
   "cell_type": "code",
   "execution_count": 238,
   "metadata": {
    "ExecuteTime": {
     "end_time": "2022-10-04T17:45:38.829954Z",
     "start_time": "2022-10-04T17:45:38.210940Z"
    }
   },
   "outputs": [
    {
     "name": "stdout",
     "output_type": "stream",
     "text": [
      "loss :  0.42963647842407227\n",
      "recall :  0.7254902124404907\n"
     ]
    }
   ],
   "source": [
    "loss, recall = model.evaluate(X_test, y_test, verbose=0)\n",
    "print(\"loss : \", loss)\n",
    "print(\"recall : \", recall)"
   ]
  },
  {
   "cell_type": "code",
   "execution_count": 239,
   "metadata": {
    "ExecuteTime": {
     "end_time": "2022-10-04T17:45:39.130506Z",
     "start_time": "2022-10-04T17:45:38.832951Z"
    }
   },
   "outputs": [
    {
     "name": "stdout",
     "output_type": "stream",
     "text": [
      "32/32 [==============================] - 0s 3ms/step\n",
      "[[659 137]\n",
      " [ 56 148]]\n",
      "              precision    recall  f1-score   support\n",
      "\n",
      "           0       0.92      0.83      0.87       796\n",
      "           1       0.52      0.73      0.61       204\n",
      "\n",
      "    accuracy                           0.81      1000\n",
      "   macro avg       0.72      0.78      0.74      1000\n",
      "weighted avg       0.84      0.81      0.82      1000\n",
      "\n"
     ]
    }
   ],
   "source": [
    "y_pred = model.predict(X_test) > 0.5\n",
    "print(confusion_matrix(y_test, y_pred))\n",
    "print(classification_report(y_test, y_pred))"
   ]
  },
  {
   "cell_type": "code",
   "execution_count": 240,
   "metadata": {
    "ExecuteTime": {
     "end_time": "2022-10-04T17:45:39.661203Z",
     "start_time": "2022-10-04T17:45:39.135502Z"
    }
   },
   "outputs": [
    {
     "name": "stdout",
     "output_type": "stream",
     "text": [
      "32/32 [==============================] - 0s 2ms/step\n"
     ]
    },
    {
     "data": {
      "image/png": "[encoded data removed]",
      "text/plain": [
       "<Figure size 720x432 with 1 Axes>"
      ]
     },
     "metadata": {},
     "output_type": "display_data"
    }
   ],
   "source": [
    "y_pred_proba = model.predict(X_test)\n",
    "precisions, recalls, thresholds = precision_recall_curve(y_test, y_pred_proba)\n",
    "plt.plot(recalls, precisions, label='ANN')\n",
    "plt.xlabel('recalls')\n",
    "plt.ylabel('precisions')\n",
    "plt.title('Precision-Recall curve')\n",
    "plt.show()"
   ]
  },
  {
   "cell_type": "code",
   "execution_count": 241,
   "metadata": {
    "ExecuteTime": {
     "end_time": "2022-10-04T17:45:39.692225Z",
     "start_time": "2022-10-04T17:45:39.665198Z"
    }
   },
   "outputs": [
    {
     "data": {
      "text/plain": [
       "0.6736436147537431"
      ]
     },
     "execution_count": 241,
     "metadata": {},
     "output_type": "execute_result"
    }
   ],
   "source": [
    "average_precision_score(y_test, y_pred_proba)"
   ]
  },
  {
   "cell_type": "markdown",
   "metadata": {},
   "source": [
    "## Implementation Different Methods to Develop The Model\n",
    "\n",
    "- Implement the following methods on model creating with \"class_weight\" parameter\n",
    "- Create and evaluate model for each method "
   ]
  },
  {
   "cell_type": "markdown",
   "metadata": {},
   "source": [
    "### Increase The Learning Rate and Observe The Results"
   ]
  },
  {
   "cell_type": "code",
   "execution_count": 249,
   "metadata": {
    "ExecuteTime": {
     "end_time": "2022-10-04T17:59:17.724879Z",
     "start_time": "2022-10-04T17:55:41.007259Z"
    }
   },
   "outputs": [
    {
     "name": "stdout",
     "output_type": "stream",
     "text": [
      "Epoch 1/200\n",
      "270/270 [==============================] - 3s 7ms/step - loss: 0.6274 - recall: 0.6495 - val_loss: 0.4659 - val_recall: 0.5249\n",
      "Epoch 2/200\n",
      "270/270 [==============================] - 1s 4ms/step - loss: 0.5549 - recall: 0.7149 - val_loss: 0.4246 - val_recall: 0.6851\n",
      "Epoch 3/200\n",
      "270/270 [==============================] - 1s 4ms/step - loss: 0.5210 - recall: 0.7458 - val_loss: 0.4908 - val_recall: 0.8287\n",
      "Epoch 4/200\n",
      "270/270 [==============================] - 1s 5ms/step - loss: 0.5075 - recall: 0.7615 - val_loss: 0.4380 - val_recall: 0.7845\n",
      "Epoch 5/200\n",
      "270/270 [==============================] - 1s 4ms/step - loss: 0.5021 - recall: 0.7476 - val_loss: 0.4592 - val_recall: 0.8122\n",
      "Epoch 6/200\n",
      "270/270 [==============================] - 1s 4ms/step - loss: 0.4953 - recall: 0.7573 - val_loss: 0.3910 - val_recall: 0.7403\n",
      "Epoch 7/200\n",
      "270/270 [==============================] - 2s 6ms/step - loss: 0.4890 - recall: 0.7615 - val_loss: 0.4225 - val_recall: 0.7956\n",
      "Epoch 8/200\n",
      "270/270 [==============================] - 1s 4ms/step - loss: 0.4901 - recall: 0.7567 - val_loss: 0.5164 - val_recall: 0.8564\n",
      "Epoch 9/200\n",
      "270/270 [==============================] - 1s 5ms/step - loss: 0.4878 - recall: 0.7530 - val_loss: 0.3674 - val_recall: 0.7182\n",
      "Epoch 10/200\n",
      "270/270 [==============================] - 1s 4ms/step - loss: 0.4860 - recall: 0.7573 - val_loss: 0.4413 - val_recall: 0.7956\n",
      "Epoch 11/200\n",
      "270/270 [==============================] - 1s 4ms/step - loss: 0.4788 - recall: 0.7530 - val_loss: 0.4488 - val_recall: 0.8343\n",
      "Epoch 12/200\n",
      "270/270 [==============================] - 1s 4ms/step - loss: 0.4815 - recall: 0.7415 - val_loss: 0.4267 - val_recall: 0.7901\n",
      "Epoch 13/200\n",
      "270/270 [==============================] - 1s 3ms/step - loss: 0.4760 - recall: 0.7318 - val_loss: 0.4629 - val_recall: 0.8232\n",
      "Epoch 14/200\n",
      "270/270 [==============================] - 1s 3ms/step - loss: 0.4715 - recall: 0.7391 - val_loss: 0.5972 - val_recall: 0.9061\n",
      "Epoch 15/200\n",
      "270/270 [==============================] - 1s 4ms/step - loss: 0.4708 - recall: 0.7367 - val_loss: 0.4210 - val_recall: 0.7514\n",
      "Epoch 16/200\n",
      "270/270 [==============================] - 1s 4ms/step - loss: 0.4712 - recall: 0.7409 - val_loss: 0.3922 - val_recall: 0.7569\n",
      "Epoch 17/200\n",
      "270/270 [==============================] - 1s 5ms/step - loss: 0.4667 - recall: 0.7373 - val_loss: 0.4139 - val_recall: 0.8177\n",
      "Epoch 18/200\n",
      "270/270 [==============================] - 1s 4ms/step - loss: 0.4693 - recall: 0.7482 - val_loss: 0.4374 - val_recall: 0.8122\n",
      "Epoch 19/200\n",
      "270/270 [==============================] - 1s 4ms/step - loss: 0.4655 - recall: 0.7488 - val_loss: 0.3791 - val_recall: 0.7680\n",
      "Epoch 20/200\n",
      "270/270 [==============================] - 1s 4ms/step - loss: 0.4661 - recall: 0.7603 - val_loss: 0.3735 - val_recall: 0.7569\n",
      "Epoch 21/200\n",
      "270/270 [==============================] - 1s 4ms/step - loss: 0.4655 - recall: 0.7524 - val_loss: 0.4642 - val_recall: 0.8232\n",
      "Epoch 22/200\n",
      "270/270 [==============================] - 1s 4ms/step - loss: 0.4644 - recall: 0.7500 - val_loss: 0.4652 - val_recall: 0.8398\n",
      "Epoch 23/200\n",
      "270/270 [==============================] - 1s 3ms/step - loss: 0.4644 - recall: 0.7494 - val_loss: 0.3852 - val_recall: 0.7569\n",
      "Epoch 24/200\n",
      "270/270 [==============================] - 1s 3ms/step - loss: 0.4611 - recall: 0.7506 - val_loss: 0.4631 - val_recall: 0.8287\n",
      "Epoch 25/200\n",
      "270/270 [==============================] - 1s 4ms/step - loss: 0.4615 - recall: 0.7536 - val_loss: 0.4149 - val_recall: 0.7845\n",
      "Epoch 26/200\n",
      "270/270 [==============================] - 1s 4ms/step - loss: 0.4591 - recall: 0.7542 - val_loss: 0.4903 - val_recall: 0.8619\n",
      "Epoch 27/200\n",
      "270/270 [==============================] - 1s 3ms/step - loss: 0.4622 - recall: 0.7603 - val_loss: 0.4544 - val_recall: 0.8508\n",
      "Epoch 28/200\n",
      "270/270 [==============================] - 1s 4ms/step - loss: 0.4573 - recall: 0.7530 - val_loss: 0.4183 - val_recall: 0.7956\n",
      "Epoch 29/200\n",
      "270/270 [==============================] - 1s 4ms/step - loss: 0.4547 - recall: 0.7573 - val_loss: 0.4251 - val_recall: 0.7790\n",
      "Epoch 30/200\n",
      "270/270 [==============================] - 1s 4ms/step - loss: 0.4553 - recall: 0.7512 - val_loss: 0.3966 - val_recall: 0.7956\n",
      "Epoch 31/200\n",
      "270/270 [==============================] - 1s 4ms/step - loss: 0.4562 - recall: 0.7536 - val_loss: 0.4437 - val_recall: 0.8011\n",
      "Epoch 32/200\n",
      "270/270 [==============================] - 1s 3ms/step - loss: 0.4544 - recall: 0.7542 - val_loss: 0.3754 - val_recall: 0.7514\n",
      "Epoch 33/200\n",
      "270/270 [==============================] - 1s 3ms/step - loss: 0.4540 - recall: 0.7488 - val_loss: 0.3783 - val_recall: 0.7790\n",
      "Epoch 34/200\n",
      "270/270 [==============================] - 1s 3ms/step - loss: 0.4551 - recall: 0.7554 - val_loss: 0.4389 - val_recall: 0.8066\n",
      "Epoch 35/200\n",
      "270/270 [==============================] - 1s 4ms/step - loss: 0.4523 - recall: 0.7730 - val_loss: 0.3738 - val_recall: 0.7569\n",
      "Epoch 36/200\n",
      "270/270 [==============================] - 1s 4ms/step - loss: 0.4523 - recall: 0.7609 - val_loss: 0.3912 - val_recall: 0.7569\n",
      "Epoch 37/200\n",
      "270/270 [==============================] - 1s 5ms/step - loss: 0.4510 - recall: 0.7530 - val_loss: 0.3934 - val_recall: 0.7735\n",
      "Epoch 38/200\n",
      "270/270 [==============================] - 1s 3ms/step - loss: 0.4545 - recall: 0.7573 - val_loss: 0.4419 - val_recall: 0.8177\n",
      "Epoch 39/200\n",
      "270/270 [==============================] - 1s 3ms/step - loss: 0.4514 - recall: 0.7597 - val_loss: 0.3849 - val_recall: 0.7845\n",
      "Epoch 40/200\n",
      "270/270 [==============================] - 1s 4ms/step - loss: 0.4500 - recall: 0.7548 - val_loss: 0.3931 - val_recall: 0.7514\n",
      "Epoch 41/200\n",
      "270/270 [==============================] - 1s 4ms/step - loss: 0.4509 - recall: 0.7579 - val_loss: 0.4459 - val_recall: 0.8232\n",
      "Epoch 42/200\n",
      "270/270 [==============================] - 1s 3ms/step - loss: 0.4494 - recall: 0.7639 - val_loss: 0.4252 - val_recall: 0.8287\n",
      "Epoch 43/200\n",
      "270/270 [==============================] - 1s 4ms/step - loss: 0.4519 - recall: 0.7585 - val_loss: 0.4142 - val_recall: 0.8011\n",
      "Epoch 44/200\n",
      "270/270 [==============================] - 1s 3ms/step - loss: 0.4477 - recall: 0.7615 - val_loss: 0.4374 - val_recall: 0.8066\n",
      "Epoch 45/200\n",
      "270/270 [==============================] - 1s 4ms/step - loss: 0.4493 - recall: 0.7657 - val_loss: 0.4101 - val_recall: 0.7845\n",
      "Epoch 46/200\n",
      "270/270 [==============================] - 1s 3ms/step - loss: 0.4491 - recall: 0.7639 - val_loss: 0.4483 - val_recall: 0.8066\n",
      "Epoch 47/200\n",
      "270/270 [==============================] - 1s 4ms/step - loss: 0.4468 - recall: 0.7718 - val_loss: 0.4039 - val_recall: 0.7680\n",
      "Epoch 48/200\n",
      "270/270 [==============================] - 1s 5ms/step - loss: 0.4467 - recall: 0.7645 - val_loss: 0.3909 - val_recall: 0.7845\n",
      "Epoch 49/200\n",
      "270/270 [==============================] - 1s 4ms/step - loss: 0.4469 - recall: 0.7688 - val_loss: 0.4073 - val_recall: 0.7956\n",
      "Epoch 50/200\n",
      "270/270 [==============================] - 1s 5ms/step - loss: 0.4441 - recall: 0.7736 - val_loss: 0.4021 - val_recall: 0.7624\n",
      "Epoch 51/200\n",
      "270/270 [==============================] - 1s 5ms/step - loss: 0.4441 - recall: 0.7754 - val_loss: 0.4043 - val_recall: 0.7735\n",
      "Epoch 52/200\n",
      "270/270 [==============================] - 1s 5ms/step - loss: 0.4433 - recall: 0.7706 - val_loss: 0.4240 - val_recall: 0.8177\n",
      "Epoch 53/200\n",
      "270/270 [==============================] - 1s 4ms/step - loss: 0.4437 - recall: 0.7742 - val_loss: 0.4359 - val_recall: 0.8343\n",
      "Epoch 54/200\n",
      "270/270 [==============================] - 1s 4ms/step - loss: 0.4419 - recall: 0.7772 - val_loss: 0.3790 - val_recall: 0.7569\n",
      "Epoch 55/200\n",
      "270/270 [==============================] - 1s 5ms/step - loss: 0.4434 - recall: 0.7833 - val_loss: 0.4593 - val_recall: 0.8232\n",
      "Epoch 56/200\n",
      "270/270 [==============================] - 1s 3ms/step - loss: 0.4418 - recall: 0.7785 - val_loss: 0.4182 - val_recall: 0.7845\n",
      "Epoch 57/200\n",
      "270/270 [==============================] - 1s 3ms/step - loss: 0.4418 - recall: 0.7748 - val_loss: 0.4525 - val_recall: 0.8232\n",
      "Epoch 58/200\n",
      "270/270 [==============================] - 1s 4ms/step - loss: 0.4399 - recall: 0.7833 - val_loss: 0.4327 - val_recall: 0.8011\n",
      "Epoch 59/200\n"
     ]
    },
    {
     "name": "stdout",
     "output_type": "stream",
     "text": [
      "270/270 [==============================] - 1s 3ms/step - loss: 0.4388 - recall: 0.7754 - val_loss: 0.4585 - val_recall: 0.8122\n",
      "Epoch 60/200\n",
      "270/270 [==============================] - 1s 3ms/step - loss: 0.4392 - recall: 0.7760 - val_loss: 0.4464 - val_recall: 0.7845\n",
      "Epoch 61/200\n",
      "270/270 [==============================] - 1s 3ms/step - loss: 0.4382 - recall: 0.7797 - val_loss: 0.4013 - val_recall: 0.7624\n",
      "Epoch 62/200\n",
      "270/270 [==============================] - 1s 3ms/step - loss: 0.4389 - recall: 0.7706 - val_loss: 0.4404 - val_recall: 0.8287\n",
      "Epoch 63/200\n",
      "270/270 [==============================] - 1s 3ms/step - loss: 0.4381 - recall: 0.7718 - val_loss: 0.4583 - val_recall: 0.8453\n",
      "Epoch 64/200\n",
      "270/270 [==============================] - 1s 3ms/step - loss: 0.4413 - recall: 0.7760 - val_loss: 0.4043 - val_recall: 0.7956\n",
      "Epoch 65/200\n",
      "270/270 [==============================] - 1s 4ms/step - loss: 0.4368 - recall: 0.7833 - val_loss: 0.3919 - val_recall: 0.7459\n",
      "Epoch 66/200\n",
      "270/270 [==============================] - 1s 3ms/step - loss: 0.4374 - recall: 0.7772 - val_loss: 0.4746 - val_recall: 0.8453\n",
      "Epoch 67/200\n",
      "270/270 [==============================] - 1s 3ms/step - loss: 0.4380 - recall: 0.7797 - val_loss: 0.3704 - val_recall: 0.7459\n",
      "Epoch 68/200\n",
      "270/270 [==============================] - 1s 3ms/step - loss: 0.4392 - recall: 0.7736 - val_loss: 0.4155 - val_recall: 0.8011\n",
      "Epoch 69/200\n",
      "270/270 [==============================] - 1s 3ms/step - loss: 0.4377 - recall: 0.7881 - val_loss: 0.4138 - val_recall: 0.7624\n",
      "Epoch 70/200\n",
      "270/270 [==============================] - 1s 3ms/step - loss: 0.4373 - recall: 0.7821 - val_loss: 0.4168 - val_recall: 0.8011\n",
      "Epoch 71/200\n",
      "270/270 [==============================] - 1s 3ms/step - loss: 0.4362 - recall: 0.7778 - val_loss: 0.4305 - val_recall: 0.8232\n",
      "Epoch 72/200\n",
      "270/270 [==============================] - 1s 3ms/step - loss: 0.4363 - recall: 0.7700 - val_loss: 0.4230 - val_recall: 0.8011\n",
      "Epoch 73/200\n",
      "270/270 [==============================] - 1s 3ms/step - loss: 0.4343 - recall: 0.7785 - val_loss: 0.3863 - val_recall: 0.7845\n",
      "Epoch 74/200\n",
      "270/270 [==============================] - 1s 3ms/step - loss: 0.4330 - recall: 0.7803 - val_loss: 0.3780 - val_recall: 0.7680\n",
      "Epoch 75/200\n",
      "270/270 [==============================] - 1s 3ms/step - loss: 0.4337 - recall: 0.7730 - val_loss: 0.3921 - val_recall: 0.8011\n",
      "Epoch 76/200\n",
      "270/270 [==============================] - 1s 4ms/step - loss: 0.4352 - recall: 0.7803 - val_loss: 0.4255 - val_recall: 0.7901\n",
      "Epoch 77/200\n",
      "270/270 [==============================] - 1s 4ms/step - loss: 0.4363 - recall: 0.7791 - val_loss: 0.4032 - val_recall: 0.8011\n",
      "Epoch 78/200\n",
      "270/270 [==============================] - 1s 4ms/step - loss: 0.4323 - recall: 0.7772 - val_loss: 0.3862 - val_recall: 0.7790\n",
      "Epoch 79/200\n",
      "270/270 [==============================] - 1s 4ms/step - loss: 0.4348 - recall: 0.7797 - val_loss: 0.3848 - val_recall: 0.7735\n",
      "Epoch 80/200\n",
      "270/270 [==============================] - 1s 4ms/step - loss: 0.4305 - recall: 0.7791 - val_loss: 0.3763 - val_recall: 0.7735\n",
      "Epoch 81/200\n",
      "270/270 [==============================] - 1s 4ms/step - loss: 0.4325 - recall: 0.7736 - val_loss: 0.3840 - val_recall: 0.7790\n",
      "Epoch 82/200\n",
      "270/270 [==============================] - 1s 4ms/step - loss: 0.4285 - recall: 0.7839 - val_loss: 0.3862 - val_recall: 0.7624\n",
      "Epoch 83/200\n",
      "270/270 [==============================] - 1s 4ms/step - loss: 0.4305 - recall: 0.7778 - val_loss: 0.4601 - val_recall: 0.8343\n",
      "Epoch 84/200\n",
      "270/270 [==============================] - 1s 4ms/step - loss: 0.4357 - recall: 0.7718 - val_loss: 0.4203 - val_recall: 0.8066\n",
      "Epoch 85/200\n",
      "270/270 [==============================] - 1s 4ms/step - loss: 0.4281 - recall: 0.7827 - val_loss: 0.4197 - val_recall: 0.8287\n",
      "Epoch 86/200\n",
      "270/270 [==============================] - 1s 4ms/step - loss: 0.4293 - recall: 0.7887 - val_loss: 0.4131 - val_recall: 0.7735\n",
      "Epoch 87/200\n",
      "270/270 [==============================] - 1s 4ms/step - loss: 0.4325 - recall: 0.7857 - val_loss: 0.4409 - val_recall: 0.8177\n",
      "Epoch 88/200\n",
      "270/270 [==============================] - 1s 4ms/step - loss: 0.4297 - recall: 0.7893 - val_loss: 0.4303 - val_recall: 0.8177\n",
      "Epoch 89/200\n",
      "270/270 [==============================] - 2s 6ms/step - loss: 0.4332 - recall: 0.7766 - val_loss: 0.4234 - val_recall: 0.8066\n",
      "Epoch 90/200\n",
      "270/270 [==============================] - 1s 4ms/step - loss: 0.4288 - recall: 0.7906 - val_loss: 0.4227 - val_recall: 0.8232\n",
      "Epoch 91/200\n",
      "270/270 [==============================] - 1s 5ms/step - loss: 0.4282 - recall: 0.7815 - val_loss: 0.4326 - val_recall: 0.8122\n",
      "Epoch 92/200\n",
      "270/270 [==============================] - 1s 5ms/step - loss: 0.4243 - recall: 0.7863 - val_loss: 0.4559 - val_recall: 0.8122\n",
      "Epoch 93/200\n",
      "270/270 [==============================] - 1s 4ms/step - loss: 0.4306 - recall: 0.7924 - val_loss: 0.4123 - val_recall: 0.8177\n",
      "Epoch 94/200\n",
      "270/270 [==============================] - 1s 5ms/step - loss: 0.4274 - recall: 0.7887 - val_loss: 0.4181 - val_recall: 0.7956\n",
      "Epoch 95/200\n",
      "270/270 [==============================] - 1s 5ms/step - loss: 0.4294 - recall: 0.7821 - val_loss: 0.4665 - val_recall: 0.8287\n",
      "Epoch 96/200\n",
      "270/270 [==============================] - 1s 4ms/step - loss: 0.4278 - recall: 0.7942 - val_loss: 0.4404 - val_recall: 0.8232\n",
      "Epoch 97/200\n",
      "270/270 [==============================] - 1s 4ms/step - loss: 0.4283 - recall: 0.7924 - val_loss: 0.4388 - val_recall: 0.8066\n",
      "Epoch 98/200\n",
      "270/270 [==============================] - 1s 4ms/step - loss: 0.4251 - recall: 0.7857 - val_loss: 0.4408 - val_recall: 0.7956\n",
      "Epoch 99/200\n",
      "270/270 [==============================] - 1s 4ms/step - loss: 0.4278 - recall: 0.7815 - val_loss: 0.4112 - val_recall: 0.7790\n",
      "Epoch 100/200\n",
      "270/270 [==============================] - 1s 4ms/step - loss: 0.4251 - recall: 0.7778 - val_loss: 0.4174 - val_recall: 0.8011\n",
      "Epoch 101/200\n",
      "270/270 [==============================] - 1s 4ms/step - loss: 0.4244 - recall: 0.7900 - val_loss: 0.4336 - val_recall: 0.8177\n",
      "Epoch 102/200\n",
      "270/270 [==============================] - 1s 4ms/step - loss: 0.4234 - recall: 0.7887 - val_loss: 0.4116 - val_recall: 0.7956\n",
      "Epoch 103/200\n",
      "270/270 [==============================] - 1s 4ms/step - loss: 0.4279 - recall: 0.7766 - val_loss: 0.4256 - val_recall: 0.7901\n",
      "Epoch 104/200\n",
      "270/270 [==============================] - 1s 4ms/step - loss: 0.4176 - recall: 0.7863 - val_loss: 0.5032 - val_recall: 0.8674\n",
      "Epoch 105/200\n",
      "270/270 [==============================] - 1s 4ms/step - loss: 0.4236 - recall: 0.7863 - val_loss: 0.4152 - val_recall: 0.7845\n",
      "Epoch 106/200\n",
      "270/270 [==============================] - 1s 4ms/step - loss: 0.4231 - recall: 0.7948 - val_loss: 0.3946 - val_recall: 0.7956\n",
      "Epoch 107/200\n",
      "270/270 [==============================] - 1s 4ms/step - loss: 0.4226 - recall: 0.7809 - val_loss: 0.4363 - val_recall: 0.8177\n",
      "Epoch 108/200\n",
      "270/270 [==============================] - 1s 4ms/step - loss: 0.4283 - recall: 0.7821 - val_loss: 0.3934 - val_recall: 0.7901\n",
      "Epoch 109/200\n",
      "270/270 [==============================] - 1s 4ms/step - loss: 0.4272 - recall: 0.7912 - val_loss: 0.4365 - val_recall: 0.8122\n",
      "Epoch 110/200\n",
      "270/270 [==============================] - 1s 4ms/step - loss: 0.4214 - recall: 0.7851 - val_loss: 0.4138 - val_recall: 0.8011\n",
      "Epoch 111/200\n",
      "270/270 [==============================] - 1s 4ms/step - loss: 0.4218 - recall: 0.7827 - val_loss: 0.3969 - val_recall: 0.7514\n",
      "Epoch 112/200\n",
      "270/270 [==============================] - 1s 5ms/step - loss: 0.4237 - recall: 0.7845 - val_loss: 0.4673 - val_recall: 0.8453\n",
      "Epoch 113/200\n",
      "270/270 [==============================] - 1s 5ms/step - loss: 0.4177 - recall: 0.7887 - val_loss: 0.4366 - val_recall: 0.8122\n",
      "Epoch 114/200\n",
      "270/270 [==============================] - 1s 4ms/step - loss: 0.4184 - recall: 0.7942 - val_loss: 0.4462 - val_recall: 0.7901\n",
      "Epoch 115/200\n",
      "270/270 [==============================] - 1s 4ms/step - loss: 0.4208 - recall: 0.7887 - val_loss: 0.4056 - val_recall: 0.7735\n",
      "Epoch 116/200\n",
      "270/270 [==============================] - 1s 5ms/step - loss: 0.4228 - recall: 0.7857 - val_loss: 0.4536 - val_recall: 0.8177\n",
      "Epoch 117/200\n"
     ]
    },
    {
     "name": "stdout",
     "output_type": "stream",
     "text": [
      "270/270 [==============================] - 1s 5ms/step - loss: 0.4176 - recall: 0.7924 - val_loss: 0.4314 - val_recall: 0.8122\n",
      "Epoch 118/200\n",
      "270/270 [==============================] - 1s 4ms/step - loss: 0.4190 - recall: 0.7857 - val_loss: 0.4476 - val_recall: 0.8232\n",
      "Epoch 119/200\n",
      "270/270 [==============================] - 1s 4ms/step - loss: 0.4182 - recall: 0.7930 - val_loss: 0.4446 - val_recall: 0.8287\n",
      "Epoch 120/200\n",
      "270/270 [==============================] - 1s 4ms/step - loss: 0.4238 - recall: 0.7803 - val_loss: 0.4218 - val_recall: 0.7790\n",
      "Epoch 121/200\n",
      "270/270 [==============================] - 1s 4ms/step - loss: 0.4167 - recall: 0.7863 - val_loss: 0.4657 - val_recall: 0.8453\n",
      "Epoch 122/200\n",
      "270/270 [==============================] - 1s 5ms/step - loss: 0.4164 - recall: 0.7936 - val_loss: 0.3820 - val_recall: 0.7072\n",
      "Epoch 123/200\n",
      "270/270 [==============================] - 1s 4ms/step - loss: 0.4170 - recall: 0.7984 - val_loss: 0.4261 - val_recall: 0.8066\n",
      "Epoch 124/200\n",
      "270/270 [==============================] - 1s 4ms/step - loss: 0.4157 - recall: 0.7930 - val_loss: 0.4187 - val_recall: 0.7514\n",
      "Epoch 125/200\n",
      "270/270 [==============================] - 1s 4ms/step - loss: 0.4187 - recall: 0.7954 - val_loss: 0.4029 - val_recall: 0.7624\n",
      "Epoch 126/200\n",
      "270/270 [==============================] - 1s 4ms/step - loss: 0.4176 - recall: 0.7833 - val_loss: 0.4829 - val_recall: 0.8398\n",
      "Epoch 127/200\n",
      "270/270 [==============================] - 1s 4ms/step - loss: 0.4173 - recall: 0.7990 - val_loss: 0.3775 - val_recall: 0.7735\n",
      "Epoch 128/200\n",
      "270/270 [==============================] - 1s 4ms/step - loss: 0.4177 - recall: 0.8021 - val_loss: 0.4012 - val_recall: 0.7569\n",
      "Epoch 129/200\n",
      "270/270 [==============================] - 1s 4ms/step - loss: 0.4154 - recall: 0.7869 - val_loss: 0.4185 - val_recall: 0.7956\n",
      "Epoch 130/200\n",
      "270/270 [==============================] - 1s 4ms/step - loss: 0.4195 - recall: 0.7966 - val_loss: 0.3846 - val_recall: 0.7514\n",
      "Epoch 131/200\n",
      "270/270 [==============================] - 1s 4ms/step - loss: 0.4144 - recall: 0.7948 - val_loss: 0.4202 - val_recall: 0.7790\n",
      "Epoch 132/200\n",
      "270/270 [==============================] - 1s 4ms/step - loss: 0.4141 - recall: 0.7972 - val_loss: 0.5210 - val_recall: 0.8343\n",
      "Epoch 133/200\n",
      "270/270 [==============================] - 1s 4ms/step - loss: 0.4175 - recall: 0.7930 - val_loss: 0.3894 - val_recall: 0.7569\n",
      "Epoch 134/200\n",
      "270/270 [==============================] - 1s 4ms/step - loss: 0.4158 - recall: 0.7869 - val_loss: 0.4226 - val_recall: 0.8011\n",
      "Epoch 135/200\n",
      "270/270 [==============================] - 1s 4ms/step - loss: 0.4134 - recall: 0.7942 - val_loss: 0.4514 - val_recall: 0.7956\n",
      "Epoch 136/200\n",
      "270/270 [==============================] - 1s 4ms/step - loss: 0.4118 - recall: 0.7954 - val_loss: 0.4150 - val_recall: 0.7624\n",
      "Epoch 137/200\n",
      "270/270 [==============================] - 1s 4ms/step - loss: 0.4159 - recall: 0.7978 - val_loss: 0.4183 - val_recall: 0.7845\n",
      "Epoch 138/200\n",
      "270/270 [==============================] - 1s 4ms/step - loss: 0.4114 - recall: 0.8045 - val_loss: 0.3830 - val_recall: 0.7624\n",
      "Epoch 139/200\n",
      "270/270 [==============================] - 1s 5ms/step - loss: 0.4137 - recall: 0.7918 - val_loss: 0.4136 - val_recall: 0.7514\n",
      "Epoch 140/200\n",
      "270/270 [==============================] - 1s 4ms/step - loss: 0.4140 - recall: 0.7960 - val_loss: 0.4048 - val_recall: 0.7735\n",
      "Epoch 141/200\n",
      "270/270 [==============================] - 1s 4ms/step - loss: 0.4117 - recall: 0.8008 - val_loss: 0.3840 - val_recall: 0.7735\n",
      "Epoch 142/200\n",
      "270/270 [==============================] - 1s 4ms/step - loss: 0.4129 - recall: 0.7893 - val_loss: 0.4537 - val_recall: 0.8343\n",
      "Epoch 143/200\n",
      "270/270 [==============================] - 1s 4ms/step - loss: 0.4107 - recall: 0.7942 - val_loss: 0.4233 - val_recall: 0.8066\n",
      "Epoch 144/200\n",
      "270/270 [==============================] - 1s 4ms/step - loss: 0.4154 - recall: 0.7942 - val_loss: 0.4152 - val_recall: 0.7735\n",
      "Epoch 145/200\n",
      "270/270 [==============================] - 1s 4ms/step - loss: 0.4109 - recall: 0.7954 - val_loss: 0.3880 - val_recall: 0.7735\n",
      "Epoch 146/200\n",
      "270/270 [==============================] - 1s 5ms/step - loss: 0.4155 - recall: 0.8081 - val_loss: 0.4334 - val_recall: 0.8122\n",
      "Epoch 147/200\n",
      "270/270 [==============================] - 2s 6ms/step - loss: 0.4106 - recall: 0.8111 - val_loss: 0.3916 - val_recall: 0.7901\n",
      "Epoch 148/200\n",
      "270/270 [==============================] - 2s 7ms/step - loss: 0.4095 - recall: 0.7972 - val_loss: 0.4261 - val_recall: 0.8066\n",
      "Epoch 149/200\n",
      "270/270 [==============================] - 1s 5ms/step - loss: 0.4109 - recall: 0.8002 - val_loss: 0.4494 - val_recall: 0.8011\n",
      "Epoch 150/200\n",
      "270/270 [==============================] - 1s 4ms/step - loss: 0.4122 - recall: 0.7875 - val_loss: 0.3948 - val_recall: 0.7790\n",
      "Epoch 151/200\n",
      "270/270 [==============================] - 2s 7ms/step - loss: 0.4072 - recall: 0.8039 - val_loss: 0.4517 - val_recall: 0.8398\n",
      "Epoch 152/200\n",
      "270/270 [==============================] - 2s 6ms/step - loss: 0.4113 - recall: 0.8039 - val_loss: 0.4179 - val_recall: 0.8011\n",
      "Epoch 153/200\n",
      "270/270 [==============================] - 1s 4ms/step - loss: 0.4058 - recall: 0.7942 - val_loss: 0.4051 - val_recall: 0.7680\n",
      "Epoch 154/200\n",
      "270/270 [==============================] - 1s 4ms/step - loss: 0.4110 - recall: 0.8027 - val_loss: 0.4291 - val_recall: 0.8177\n",
      "Epoch 155/200\n",
      "270/270 [==============================] - 1s 4ms/step - loss: 0.4074 - recall: 0.7954 - val_loss: 0.4071 - val_recall: 0.7790\n",
      "Epoch 156/200\n",
      "270/270 [==============================] - 1s 5ms/step - loss: 0.4089 - recall: 0.8033 - val_loss: 0.4228 - val_recall: 0.7901\n",
      "Epoch 157/200\n",
      "270/270 [==============================] - 1s 5ms/step - loss: 0.4112 - recall: 0.7954 - val_loss: 0.4222 - val_recall: 0.7845\n",
      "Epoch 158/200\n",
      "270/270 [==============================] - 1s 5ms/step - loss: 0.4141 - recall: 0.7851 - val_loss: 0.4080 - val_recall: 0.7901\n",
      "Epoch 159/200\n",
      "270/270 [==============================] - 1s 5ms/step - loss: 0.4104 - recall: 0.8015 - val_loss: 0.4256 - val_recall: 0.7845\n",
      "Epoch 160/200\n",
      "270/270 [==============================] - 1s 5ms/step - loss: 0.4080 - recall: 0.7990 - val_loss: 0.4147 - val_recall: 0.7680\n",
      "Epoch 161/200\n",
      "270/270 [==============================] - 1s 5ms/step - loss: 0.4048 - recall: 0.8015 - val_loss: 0.3935 - val_recall: 0.7790\n",
      "Epoch 162/200\n",
      "270/270 [==============================] - 1s 3ms/step - loss: 0.4081 - recall: 0.7966 - val_loss: 0.4086 - val_recall: 0.7790\n",
      "Epoch 163/200\n",
      "270/270 [==============================] - 1s 3ms/step - loss: 0.4131 - recall: 0.8008 - val_loss: 0.4078 - val_recall: 0.7735\n",
      "Epoch 164/200\n",
      "270/270 [==============================] - 1s 5ms/step - loss: 0.4066 - recall: 0.8063 - val_loss: 0.4585 - val_recall: 0.8343\n",
      "Epoch 165/200\n",
      "270/270 [==============================] - 1s 4ms/step - loss: 0.4084 - recall: 0.8051 - val_loss: 0.4341 - val_recall: 0.8011\n",
      "Epoch 166/200\n",
      "270/270 [==============================] - 1s 3ms/step - loss: 0.4053 - recall: 0.8105 - val_loss: 0.4162 - val_recall: 0.7790\n",
      "Epoch 167/200\n",
      "270/270 [==============================] - 1s 4ms/step - loss: 0.4062 - recall: 0.8051 - val_loss: 0.4398 - val_recall: 0.8177\n",
      "Epoch 168/200\n",
      "270/270 [==============================] - 1s 3ms/step - loss: 0.4077 - recall: 0.8045 - val_loss: 0.4707 - val_recall: 0.8232\n",
      "Epoch 169/200\n",
      "270/270 [==============================] - 1s 3ms/step - loss: 0.4090 - recall: 0.7960 - val_loss: 0.4440 - val_recall: 0.8232\n",
      "Epoch 170/200\n",
      "270/270 [==============================] - 1s 5ms/step - loss: 0.4040 - recall: 0.8093 - val_loss: 0.4601 - val_recall: 0.8232\n",
      "Epoch 171/200\n",
      "270/270 [==============================] - 1s 4ms/step - loss: 0.4080 - recall: 0.8063 - val_loss: 0.4405 - val_recall: 0.8011\n",
      "Epoch 172/200\n",
      "270/270 [==============================] - 1s 4ms/step - loss: 0.4072 - recall: 0.8057 - val_loss: 0.3978 - val_recall: 0.7459\n",
      "Epoch 173/200\n",
      "270/270 [==============================] - 1s 4ms/step - loss: 0.4067 - recall: 0.8093 - val_loss: 0.4118 - val_recall: 0.7845\n",
      "Epoch 174/200\n",
      "270/270 [==============================] - 1s 4ms/step - loss: 0.4073 - recall: 0.8057 - val_loss: 0.4090 - val_recall: 0.8122\n",
      "Epoch 175/200\n"
     ]
    },
    {
     "name": "stdout",
     "output_type": "stream",
     "text": [
      "270/270 [==============================] - 1s 4ms/step - loss: 0.4106 - recall: 0.8075 - val_loss: 0.4193 - val_recall: 0.7845\n",
      "Epoch 176/200\n",
      "270/270 [==============================] - 1s 4ms/step - loss: 0.4076 - recall: 0.7972 - val_loss: 0.4243 - val_recall: 0.7624\n",
      "Epoch 177/200\n",
      "270/270 [==============================] - 1s 3ms/step - loss: 0.4080 - recall: 0.8008 - val_loss: 0.4383 - val_recall: 0.8122\n",
      "Epoch 178/200\n",
      "270/270 [==============================] - 1s 3ms/step - loss: 0.4014 - recall: 0.8015 - val_loss: 0.4257 - val_recall: 0.7901\n",
      "Epoch 179/200\n",
      "270/270 [==============================] - 1s 3ms/step - loss: 0.4061 - recall: 0.8063 - val_loss: 0.4358 - val_recall: 0.8232\n",
      "Epoch 180/200\n",
      "270/270 [==============================] - 1s 3ms/step - loss: 0.4044 - recall: 0.8045 - val_loss: 0.4689 - val_recall: 0.8398\n",
      "Epoch 181/200\n",
      "270/270 [==============================] - 1s 3ms/step - loss: 0.4046 - recall: 0.8093 - val_loss: 0.4300 - val_recall: 0.7901\n",
      "Epoch 182/200\n",
      "270/270 [==============================] - 1s 3ms/step - loss: 0.4052 - recall: 0.8087 - val_loss: 0.4232 - val_recall: 0.7790\n",
      "Epoch 183/200\n",
      "270/270 [==============================] - 1s 4ms/step - loss: 0.4030 - recall: 0.8039 - val_loss: 0.4144 - val_recall: 0.7901\n",
      "Epoch 184/200\n",
      "270/270 [==============================] - 1s 4ms/step - loss: 0.4051 - recall: 0.8117 - val_loss: 0.4348 - val_recall: 0.8122\n",
      "Epoch 185/200\n",
      "270/270 [==============================] - 1s 4ms/step - loss: 0.4054 - recall: 0.8075 - val_loss: 0.4245 - val_recall: 0.7901\n",
      "Epoch 186/200\n",
      "270/270 [==============================] - 1s 4ms/step - loss: 0.4051 - recall: 0.8051 - val_loss: 0.4477 - val_recall: 0.8066\n",
      "Epoch 187/200\n",
      "270/270 [==============================] - 1s 4ms/step - loss: 0.4048 - recall: 0.8087 - val_loss: 0.3993 - val_recall: 0.7735\n",
      "Epoch 188/200\n",
      "270/270 [==============================] - 1s 4ms/step - loss: 0.4039 - recall: 0.8087 - val_loss: 0.4352 - val_recall: 0.8232\n",
      "Epoch 189/200\n",
      "270/270 [==============================] - 1s 3ms/step - loss: 0.4054 - recall: 0.8057 - val_loss: 0.4347 - val_recall: 0.8066\n",
      "Epoch 190/200\n",
      "270/270 [==============================] - 1s 3ms/step - loss: 0.4043 - recall: 0.8051 - val_loss: 0.4297 - val_recall: 0.7845\n",
      "Epoch 191/200\n",
      "270/270 [==============================] - 1s 3ms/step - loss: 0.4094 - recall: 0.8081 - val_loss: 0.4363 - val_recall: 0.7735\n",
      "Epoch 192/200\n",
      "270/270 [==============================] - 1s 4ms/step - loss: 0.4033 - recall: 0.8099 - val_loss: 0.4212 - val_recall: 0.8122\n",
      "Epoch 193/200\n",
      "270/270 [==============================] - 1s 3ms/step - loss: 0.4003 - recall: 0.8142 - val_loss: 0.4204 - val_recall: 0.8011\n",
      "Epoch 194/200\n",
      "270/270 [==============================] - 1s 4ms/step - loss: 0.4075 - recall: 0.8057 - val_loss: 0.4356 - val_recall: 0.7901\n",
      "Epoch 195/200\n",
      "270/270 [==============================] - 1s 4ms/step - loss: 0.4043 - recall: 0.8081 - val_loss: 0.4529 - val_recall: 0.7901\n",
      "Epoch 196/200\n",
      "270/270 [==============================] - 1s 3ms/step - loss: 0.4042 - recall: 0.8069 - val_loss: 0.4240 - val_recall: 0.7901\n",
      "Epoch 197/200\n",
      "270/270 [==============================] - 1s 3ms/step - loss: 0.4005 - recall: 0.8039 - val_loss: 0.4449 - val_recall: 0.8122\n",
      "Epoch 198/200\n",
      "270/270 [==============================] - 1s 3ms/step - loss: 0.4061 - recall: 0.8057 - val_loss: 0.4071 - val_recall: 0.7901\n",
      "Epoch 199/200\n",
      "270/270 [==============================] - 1s 3ms/step - loss: 0.4004 - recall: 0.8160 - val_loss: 0.4134 - val_recall: 0.7956\n",
      "Epoch 200/200\n",
      "270/270 [==============================] - 1s 3ms/step - loss: 0.4016 - recall: 0.8117 - val_loss: 0.3949 - val_recall: 0.7735\n"
     ]
    },
    {
     "data": {
      "text/plain": [
       "<keras.callbacks.History at 0x20c808aa040>"
      ]
     },
     "execution_count": 249,
     "metadata": {},
     "output_type": "execute_result"
    }
   ],
   "source": [
    "tf.random.set_seed(seed)\n",
    "\n",
    "model = Sequential()\n",
    "model.add(Dense(20, activation=\"relu\", input_dim = X_train.shape[1]))\n",
    "model.add(Dense(15, activation=\"relu\"))\n",
    "model.add(Dense(10, activation=\"relu\"))\n",
    "model.add(Dense(1, activation=\"sigmoid\"))\n",
    "\n",
    "opt = Adam(learning_rate=0.005)\n",
    "model.compile(optimizer=opt, loss=\"binary_crossentropy\", metrics=[\"Recall\"])\n",
    "\n",
    "model.fit(x = X_train, y = y_train, validation_split = 0.1, batch_size = 30, epochs = 200, verbose=1, class_weight=class_weights)"
   ]
  },
  {
   "cell_type": "code",
   "execution_count": 251,
   "metadata": {
    "ExecuteTime": {
     "end_time": "2022-10-04T17:59:17.846814Z",
     "start_time": "2022-10-04T17:59:17.801845Z"
    }
   },
   "outputs": [
    {
     "name": "stdout",
     "output_type": "stream",
     "text": [
      "Model: \"sequential_5\"\n",
      "_________________________________________________________________\n",
      " Layer (type)                Output Shape              Param #   \n",
      "=================================================================\n",
      " dense_20 (Dense)            (None, 20)                240       \n",
      "                                                                 \n",
      " dense_21 (Dense)            (None, 15)                315       \n",
      "                                                                 \n",
      " dense_22 (Dense)            (None, 10)                160       \n",
      "                                                                 \n",
      " dense_23 (Dense)            (None, 1)                 11        \n",
      "                                                                 \n",
      "=================================================================\n",
      "Total params: 726\n",
      "Trainable params: 726\n",
      "Non-trainable params: 0\n",
      "_________________________________________________________________\n"
     ]
    }
   ],
   "source": [
    "model.summary()"
   ]
  },
  {
   "cell_type": "code",
   "execution_count": 252,
   "metadata": {
    "ExecuteTime": {
     "end_time": "2022-10-04T17:59:18.506953Z",
     "start_time": "2022-10-04T17:59:17.855812Z"
    }
   },
   "outputs": [
    {
     "data": {
      "image/png": "[encoded data removed]",
      "text/plain": [
       "<Figure size 720x432 with 1 Axes>"
      ]
     },
     "metadata": {},
     "output_type": "display_data"
    }
   ],
   "source": [
    "loss_df = pd.DataFrame(model.history.history)\n",
    "loss_df.plot()\n",
    "plt.show()"
   ]
  },
  {
   "cell_type": "code",
   "execution_count": 253,
   "metadata": {
    "ExecuteTime": {
     "end_time": "2022-10-04T17:59:19.369533Z",
     "start_time": "2022-10-04T17:59:18.512951Z"
    }
   },
   "outputs": [
    {
     "name": "stdout",
     "output_type": "stream",
     "text": [
      "loss :  0.46224865317344666\n",
      "recall :  0.7941176295280457\n",
      "----------------------------------------------------------------------------------------------------\n",
      "32/32 [==============================] - 0s 2ms/step\n",
      "[[621 175]\n",
      " [ 42 162]]\n",
      "              precision    recall  f1-score   support\n",
      "\n",
      "           0       0.94      0.78      0.85       796\n",
      "           1       0.48      0.79      0.60       204\n",
      "\n",
      "    accuracy                           0.78      1000\n",
      "   macro avg       0.71      0.79      0.73      1000\n",
      "weighted avg       0.84      0.78      0.80      1000\n",
      "\n"
     ]
    }
   ],
   "source": [
    "loss, recall = model.evaluate(X_test, y_test, verbose=0)\n",
    "print(\"loss : \", loss)\n",
    "print(\"recall : \", recall)\n",
    "print(\"-----\"*20)\n",
    "y_pred = model.predict(X_test) > 0.5\n",
    "print(confusion_matrix(y_test, y_pred))\n",
    "print(classification_report(y_test, y_pred))"
   ]
  },
  {
   "cell_type": "code",
   "execution_count": 254,
   "metadata": {
    "ExecuteTime": {
     "end_time": "2022-10-04T17:59:19.930260Z",
     "start_time": "2022-10-04T17:59:19.375530Z"
    }
   },
   "outputs": [
    {
     "name": "stdout",
     "output_type": "stream",
     "text": [
      "32/32 [==============================] - 0s 3ms/step\n"
     ]
    },
    {
     "data": {
      "image/png": "[encoded data removed]",
      "text/plain": [
       "<Figure size 720x432 with 1 Axes>"
      ]
     },
     "metadata": {},
     "output_type": "display_data"
    }
   ],
   "source": [
    "y_pred_proba = model.predict(X_test)\n",
    "precisions, recalls, thresholds = precision_recall_curve(y_test, y_pred_proba)\n",
    "plt.plot(recalls, precisions, label='ANN')\n",
    "plt.xlabel('recalls')\n",
    "plt.ylabel('precisions')\n",
    "plt.title('Precision-Recall curve')\n",
    "plt.show()"
   ]
  },
  {
   "cell_type": "code",
   "execution_count": 255,
   "metadata": {
    "ExecuteTime": {
     "end_time": "2022-10-04T17:59:19.961268Z",
     "start_time": "2022-10-04T17:59:19.938262Z"
    }
   },
   "outputs": [
    {
     "data": {
      "text/plain": [
       "0.6663102087795229"
      ]
     },
     "execution_count": 255,
     "metadata": {},
     "output_type": "execute_result"
    }
   ],
   "source": [
    "average_precision_score(y_test, y_pred_proba)"
   ]
  },
  {
   "cell_type": "markdown",
   "metadata": {},
   "source": [
    "### Add Dropout Layer"
   ]
  },
  {
   "cell_type": "code",
   "execution_count": 256,
   "metadata": {
    "ExecuteTime": {
     "end_time": "2022-10-04T18:03:01.929167Z",
     "start_time": "2022-10-04T17:59:23.207815Z"
    }
   },
   "outputs": [
    {
     "name": "stdout",
     "output_type": "stream",
     "text": [
      "Epoch 1/200\n",
      "270/270 [==============================] - 3s 5ms/step - loss: 0.6822 - recall: 0.4873 - val_loss: 0.6412 - val_recall: 0.6133\n",
      "Epoch 2/200\n",
      "270/270 [==============================] - 1s 4ms/step - loss: 0.6571 - recall: 0.5720 - val_loss: 0.6377 - val_recall: 0.7072\n",
      "Epoch 3/200\n",
      "270/270 [==============================] - 1s 4ms/step - loss: 0.6452 - recall: 0.6301 - val_loss: 0.5886 - val_recall: 0.6851\n",
      "Epoch 4/200\n",
      "270/270 [==============================] - 1s 4ms/step - loss: 0.6285 - recall: 0.6332 - val_loss: 0.5799 - val_recall: 0.7127\n",
      "Epoch 5/200\n",
      "270/270 [==============================] - 1s 4ms/step - loss: 0.6137 - recall: 0.6731 - val_loss: 0.5668 - val_recall: 0.7348\n",
      "Epoch 6/200\n",
      "270/270 [==============================] - 1s 4ms/step - loss: 0.6093 - recall: 0.6610 - val_loss: 0.5393 - val_recall: 0.6961\n",
      "Epoch 7/200\n",
      "270/270 [==============================] - 1s 4ms/step - loss: 0.5943 - recall: 0.6889 - val_loss: 0.5561 - val_recall: 0.7569\n",
      "Epoch 8/200\n",
      "270/270 [==============================] - 1s 4ms/step - loss: 0.5778 - recall: 0.6822 - val_loss: 0.5615 - val_recall: 0.8066\n",
      "Epoch 9/200\n",
      "270/270 [==============================] - 1s 4ms/step - loss: 0.5801 - recall: 0.6998 - val_loss: 0.5500 - val_recall: 0.8011\n",
      "Epoch 10/200\n",
      "270/270 [==============================] - 1s 4ms/step - loss: 0.5761 - recall: 0.6913 - val_loss: 0.5191 - val_recall: 0.7624\n",
      "Epoch 11/200\n",
      "270/270 [==============================] - 1s 3ms/step - loss: 0.5592 - recall: 0.7028 - val_loss: 0.5332 - val_recall: 0.8122\n",
      "Epoch 12/200\n",
      "270/270 [==============================] - 1s 4ms/step - loss: 0.5640 - recall: 0.6907 - val_loss: 0.5029 - val_recall: 0.7735\n",
      "Epoch 13/200\n",
      "270/270 [==============================] - 1s 3ms/step - loss: 0.5492 - recall: 0.7125 - val_loss: 0.5365 - val_recall: 0.8343\n",
      "Epoch 14/200\n",
      "270/270 [==============================] - 1s 3ms/step - loss: 0.5491 - recall: 0.7113 - val_loss: 0.4953 - val_recall: 0.7956\n",
      "Epoch 15/200\n",
      "270/270 [==============================] - 1s 4ms/step - loss: 0.5364 - recall: 0.7337 - val_loss: 0.4620 - val_recall: 0.7735\n",
      "Epoch 16/200\n",
      "270/270 [==============================] - 1s 4ms/step - loss: 0.5370 - recall: 0.7276 - val_loss: 0.4748 - val_recall: 0.8122\n",
      "Epoch 17/200\n",
      "270/270 [==============================] - 1s 4ms/step - loss: 0.5284 - recall: 0.7476 - val_loss: 0.4702 - val_recall: 0.7956\n",
      "Epoch 18/200\n",
      "270/270 [==============================] - 1s 4ms/step - loss: 0.5292 - recall: 0.7373 - val_loss: 0.4573 - val_recall: 0.7956\n",
      "Epoch 19/200\n",
      "270/270 [==============================] - 1s 4ms/step - loss: 0.5209 - recall: 0.7458 - val_loss: 0.4999 - val_recall: 0.8398\n",
      "Epoch 20/200\n",
      "270/270 [==============================] - 1s 4ms/step - loss: 0.5234 - recall: 0.7500 - val_loss: 0.4562 - val_recall: 0.8122\n",
      "Epoch 21/200\n",
      "270/270 [==============================] - 1s 4ms/step - loss: 0.5148 - recall: 0.7494 - val_loss: 0.4580 - val_recall: 0.8177\n",
      "Epoch 22/200\n",
      "270/270 [==============================] - 1s 4ms/step - loss: 0.5172 - recall: 0.7512 - val_loss: 0.4557 - val_recall: 0.8232\n",
      "Epoch 23/200\n",
      "270/270 [==============================] - 1s 4ms/step - loss: 0.5202 - recall: 0.7409 - val_loss: 0.4382 - val_recall: 0.8232\n",
      "Epoch 24/200\n",
      "270/270 [==============================] - 1s 4ms/step - loss: 0.5204 - recall: 0.7397 - val_loss: 0.4948 - val_recall: 0.8508\n",
      "Epoch 25/200\n",
      "270/270 [==============================] - 1s 4ms/step - loss: 0.5117 - recall: 0.7609 - val_loss: 0.4796 - val_recall: 0.8398\n",
      "Epoch 26/200\n",
      "270/270 [==============================] - 1s 4ms/step - loss: 0.5064 - recall: 0.7621 - val_loss: 0.4405 - val_recall: 0.8177\n",
      "Epoch 27/200\n",
      "270/270 [==============================] - 1s 4ms/step - loss: 0.5155 - recall: 0.7452 - val_loss: 0.4829 - val_recall: 0.8398\n",
      "Epoch 28/200\n",
      "270/270 [==============================] - 1s 4ms/step - loss: 0.5070 - recall: 0.7458 - val_loss: 0.4618 - val_recall: 0.8343\n",
      "Epoch 29/200\n",
      "270/270 [==============================] - 1s 4ms/step - loss: 0.5077 - recall: 0.7482 - val_loss: 0.4864 - val_recall: 0.8508\n",
      "Epoch 30/200\n",
      "270/270 [==============================] - 1s 4ms/step - loss: 0.5020 - recall: 0.7536 - val_loss: 0.4812 - val_recall: 0.8453\n",
      "Epoch 31/200\n",
      "270/270 [==============================] - 1s 5ms/step - loss: 0.5076 - recall: 0.7524 - val_loss: 0.4304 - val_recall: 0.8066\n",
      "Epoch 32/200\n",
      "270/270 [==============================] - 1s 4ms/step - loss: 0.5045 - recall: 0.7470 - val_loss: 0.4365 - val_recall: 0.8177\n",
      "Epoch 33/200\n",
      "270/270 [==============================] - 1s 5ms/step - loss: 0.4992 - recall: 0.7548 - val_loss: 0.4220 - val_recall: 0.8232\n",
      "Epoch 34/200\n",
      "270/270 [==============================] - 2s 7ms/step - loss: 0.4997 - recall: 0.7676 - val_loss: 0.4370 - val_recall: 0.8232\n",
      "Epoch 35/200\n",
      "270/270 [==============================] - 2s 6ms/step - loss: 0.5030 - recall: 0.7500 - val_loss: 0.4528 - val_recall: 0.8453\n",
      "Epoch 36/200\n",
      "270/270 [==============================] - 1s 5ms/step - loss: 0.4983 - recall: 0.7579 - val_loss: 0.4302 - val_recall: 0.8232\n",
      "Epoch 37/200\n",
      "270/270 [==============================] - 1s 4ms/step - loss: 0.5005 - recall: 0.7488 - val_loss: 0.4225 - val_recall: 0.8287\n",
      "Epoch 38/200\n",
      "270/270 [==============================] - 1s 4ms/step - loss: 0.5008 - recall: 0.7585 - val_loss: 0.4543 - val_recall: 0.8287\n",
      "Epoch 39/200\n",
      "270/270 [==============================] - 1s 4ms/step - loss: 0.4951 - recall: 0.7506 - val_loss: 0.4183 - val_recall: 0.8232\n",
      "Epoch 40/200\n",
      "270/270 [==============================] - 1s 4ms/step - loss: 0.5052 - recall: 0.7682 - val_loss: 0.4272 - val_recall: 0.8122\n",
      "Epoch 41/200\n",
      "270/270 [==============================] - 1s 4ms/step - loss: 0.4933 - recall: 0.7530 - val_loss: 0.4469 - val_recall: 0.8232\n",
      "Epoch 42/200\n",
      "270/270 [==============================] - 1s 4ms/step - loss: 0.4977 - recall: 0.7554 - val_loss: 0.4275 - val_recall: 0.8011\n",
      "Epoch 43/200\n",
      "270/270 [==============================] - 1s 4ms/step - loss: 0.4979 - recall: 0.7512 - val_loss: 0.4371 - val_recall: 0.8343\n",
      "Epoch 44/200\n",
      "270/270 [==============================] - 1s 4ms/step - loss: 0.5016 - recall: 0.7518 - val_loss: 0.4383 - val_recall: 0.8232\n",
      "Epoch 45/200\n",
      "270/270 [==============================] - 1s 4ms/step - loss: 0.4900 - recall: 0.7518 - val_loss: 0.4509 - val_recall: 0.8287\n",
      "Epoch 46/200\n",
      "270/270 [==============================] - 1s 4ms/step - loss: 0.4904 - recall: 0.7669 - val_loss: 0.4283 - val_recall: 0.8232\n",
      "Epoch 47/200\n",
      "270/270 [==============================] - 1s 4ms/step - loss: 0.4951 - recall: 0.7633 - val_loss: 0.4479 - val_recall: 0.8453\n",
      "Epoch 48/200\n",
      "270/270 [==============================] - 1s 4ms/step - loss: 0.4898 - recall: 0.7809 - val_loss: 0.4327 - val_recall: 0.8398\n",
      "Epoch 49/200\n",
      "270/270 [==============================] - 2s 6ms/step - loss: 0.4913 - recall: 0.7676 - val_loss: 0.4165 - val_recall: 0.7956\n",
      "Epoch 50/200\n",
      "270/270 [==============================] - 1s 4ms/step - loss: 0.4920 - recall: 0.7494 - val_loss: 0.4536 - val_recall: 0.8343\n",
      "Epoch 51/200\n",
      "270/270 [==============================] - 2s 6ms/step - loss: 0.4973 - recall: 0.7615 - val_loss: 0.4415 - val_recall: 0.8343\n",
      "Epoch 52/200\n",
      "270/270 [==============================] - 2s 6ms/step - loss: 0.4923 - recall: 0.7591 - val_loss: 0.4748 - val_recall: 0.8398\n",
      "Epoch 53/200\n",
      "270/270 [==============================] - 1s 4ms/step - loss: 0.4840 - recall: 0.7754 - val_loss: 0.4090 - val_recall: 0.7845\n",
      "Epoch 54/200\n",
      "270/270 [==============================] - 1s 4ms/step - loss: 0.4910 - recall: 0.7621 - val_loss: 0.4054 - val_recall: 0.8177\n",
      "Epoch 55/200\n",
      "270/270 [==============================] - 1s 4ms/step - loss: 0.4873 - recall: 0.7706 - val_loss: 0.4357 - val_recall: 0.8287\n",
      "Epoch 56/200\n",
      "270/270 [==============================] - 1s 5ms/step - loss: 0.4914 - recall: 0.7785 - val_loss: 0.4621 - val_recall: 0.8398\n",
      "Epoch 57/200\n",
      "270/270 [==============================] - 1s 4ms/step - loss: 0.4941 - recall: 0.7597 - val_loss: 0.4516 - val_recall: 0.8287\n",
      "Epoch 58/200\n",
      "270/270 [==============================] - 1s 3ms/step - loss: 0.4897 - recall: 0.7627 - val_loss: 0.4449 - val_recall: 0.8287\n",
      "Epoch 59/200\n"
     ]
    },
    {
     "name": "stdout",
     "output_type": "stream",
     "text": [
      "270/270 [==============================] - 1s 3ms/step - loss: 0.4892 - recall: 0.7669 - val_loss: 0.4452 - val_recall: 0.8343\n",
      "Epoch 60/200\n",
      "270/270 [==============================] - 1s 3ms/step - loss: 0.4944 - recall: 0.7694 - val_loss: 0.4459 - val_recall: 0.8343\n",
      "Epoch 61/200\n",
      "270/270 [==============================] - 1s 3ms/step - loss: 0.4901 - recall: 0.7718 - val_loss: 0.4317 - val_recall: 0.8232\n",
      "Epoch 62/200\n",
      "270/270 [==============================] - 1s 4ms/step - loss: 0.4923 - recall: 0.7615 - val_loss: 0.4686 - val_recall: 0.8508\n",
      "Epoch 63/200\n",
      "270/270 [==============================] - 1s 3ms/step - loss: 0.4860 - recall: 0.7706 - val_loss: 0.4469 - val_recall: 0.8287\n",
      "Epoch 64/200\n",
      "270/270 [==============================] - 1s 5ms/step - loss: 0.4902 - recall: 0.7615 - val_loss: 0.4540 - val_recall: 0.8343\n",
      "Epoch 65/200\n",
      "270/270 [==============================] - 1s 5ms/step - loss: 0.4853 - recall: 0.7766 - val_loss: 0.4090 - val_recall: 0.8122\n",
      "Epoch 66/200\n",
      "270/270 [==============================] - 1s 5ms/step - loss: 0.4952 - recall: 0.7591 - val_loss: 0.4481 - val_recall: 0.8453\n",
      "Epoch 67/200\n",
      "270/270 [==============================] - 1s 4ms/step - loss: 0.4935 - recall: 0.7657 - val_loss: 0.4129 - val_recall: 0.8177\n",
      "Epoch 68/200\n",
      "270/270 [==============================] - 1s 5ms/step - loss: 0.4854 - recall: 0.7669 - val_loss: 0.4330 - val_recall: 0.8232\n",
      "Epoch 69/200\n",
      "270/270 [==============================] - 1s 5ms/step - loss: 0.4846 - recall: 0.7669 - val_loss: 0.4673 - val_recall: 0.8398\n",
      "Epoch 70/200\n",
      "270/270 [==============================] - 1s 5ms/step - loss: 0.4901 - recall: 0.7633 - val_loss: 0.4454 - val_recall: 0.8398\n",
      "Epoch 71/200\n",
      "270/270 [==============================] - 1s 4ms/step - loss: 0.4845 - recall: 0.7694 - val_loss: 0.4149 - val_recall: 0.8122\n",
      "Epoch 72/200\n",
      "270/270 [==============================] - 1s 4ms/step - loss: 0.4846 - recall: 0.7615 - val_loss: 0.4552 - val_recall: 0.8398\n",
      "Epoch 73/200\n",
      "270/270 [==============================] - 1s 6ms/step - loss: 0.4922 - recall: 0.7797 - val_loss: 0.4199 - val_recall: 0.8287\n",
      "Epoch 74/200\n",
      "270/270 [==============================] - 2s 6ms/step - loss: 0.4878 - recall: 0.7645 - val_loss: 0.4618 - val_recall: 0.8398\n",
      "Epoch 75/200\n",
      "270/270 [==============================] - 1s 5ms/step - loss: 0.4843 - recall: 0.7627 - val_loss: 0.4070 - val_recall: 0.8177\n",
      "Epoch 76/200\n",
      "270/270 [==============================] - 2s 6ms/step - loss: 0.4899 - recall: 0.7645 - val_loss: 0.4216 - val_recall: 0.8343\n",
      "Epoch 77/200\n",
      "270/270 [==============================] - 1s 3ms/step - loss: 0.4849 - recall: 0.7627 - val_loss: 0.4064 - val_recall: 0.7845\n",
      "Epoch 78/200\n",
      "270/270 [==============================] - 1s 3ms/step - loss: 0.4919 - recall: 0.7597 - val_loss: 0.4597 - val_recall: 0.8398\n",
      "Epoch 79/200\n",
      "270/270 [==============================] - 1s 3ms/step - loss: 0.4893 - recall: 0.7512 - val_loss: 0.4397 - val_recall: 0.8343\n",
      "Epoch 80/200\n",
      "270/270 [==============================] - 1s 3ms/step - loss: 0.4937 - recall: 0.7591 - val_loss: 0.4213 - val_recall: 0.8177\n",
      "Epoch 81/200\n",
      "270/270 [==============================] - 1s 3ms/step - loss: 0.4864 - recall: 0.7645 - val_loss: 0.4126 - val_recall: 0.7680\n",
      "Epoch 82/200\n",
      "270/270 [==============================] - 1s 3ms/step - loss: 0.4867 - recall: 0.7639 - val_loss: 0.4222 - val_recall: 0.8011\n",
      "Epoch 83/200\n",
      "270/270 [==============================] - 1s 4ms/step - loss: 0.4855 - recall: 0.7524 - val_loss: 0.4154 - val_recall: 0.7845\n",
      "Epoch 84/200\n",
      "270/270 [==============================] - 1s 4ms/step - loss: 0.4897 - recall: 0.7524 - val_loss: 0.4429 - val_recall: 0.8177\n",
      "Epoch 85/200\n",
      "270/270 [==============================] - 1s 4ms/step - loss: 0.4826 - recall: 0.7603 - val_loss: 0.4265 - val_recall: 0.8177\n",
      "Epoch 86/200\n",
      "270/270 [==============================] - 2s 6ms/step - loss: 0.4869 - recall: 0.7609 - val_loss: 0.4440 - val_recall: 0.8177\n",
      "Epoch 87/200\n",
      "270/270 [==============================] - 1s 5ms/step - loss: 0.4814 - recall: 0.7615 - val_loss: 0.4063 - val_recall: 0.7845\n",
      "Epoch 88/200\n",
      "270/270 [==============================] - 1s 4ms/step - loss: 0.4915 - recall: 0.7500 - val_loss: 0.4322 - val_recall: 0.7956\n",
      "Epoch 89/200\n",
      "270/270 [==============================] - 1s 4ms/step - loss: 0.4862 - recall: 0.7530 - val_loss: 0.4210 - val_recall: 0.8122\n",
      "Epoch 90/200\n",
      "270/270 [==============================] - 1s 4ms/step - loss: 0.4802 - recall: 0.7639 - val_loss: 0.4153 - val_recall: 0.8066\n",
      "Epoch 91/200\n",
      "270/270 [==============================] - 1s 4ms/step - loss: 0.4842 - recall: 0.7597 - val_loss: 0.4530 - val_recall: 0.8398\n",
      "Epoch 92/200\n",
      "270/270 [==============================] - 1s 5ms/step - loss: 0.4795 - recall: 0.7657 - val_loss: 0.4655 - val_recall: 0.8619\n",
      "Epoch 93/200\n",
      "270/270 [==============================] - 2s 6ms/step - loss: 0.4888 - recall: 0.7676 - val_loss: 0.4137 - val_recall: 0.8177\n",
      "Epoch 94/200\n",
      "270/270 [==============================] - 1s 5ms/step - loss: 0.4853 - recall: 0.7603 - val_loss: 0.4436 - val_recall: 0.8343\n",
      "Epoch 95/200\n",
      "270/270 [==============================] - 2s 6ms/step - loss: 0.4886 - recall: 0.7712 - val_loss: 0.4471 - val_recall: 0.8232\n",
      "Epoch 96/200\n",
      "270/270 [==============================] - 1s 4ms/step - loss: 0.4811 - recall: 0.7688 - val_loss: 0.4072 - val_recall: 0.8066\n",
      "Epoch 97/200\n",
      "270/270 [==============================] - 1s 4ms/step - loss: 0.4845 - recall: 0.7712 - val_loss: 0.4389 - val_recall: 0.8287\n",
      "Epoch 98/200\n",
      "270/270 [==============================] - 1s 4ms/step - loss: 0.4833 - recall: 0.7688 - val_loss: 0.4174 - val_recall: 0.8122\n",
      "Epoch 99/200\n",
      "270/270 [==============================] - 1s 4ms/step - loss: 0.4806 - recall: 0.7548 - val_loss: 0.4498 - val_recall: 0.8287\n",
      "Epoch 100/200\n",
      "270/270 [==============================] - 1s 4ms/step - loss: 0.4820 - recall: 0.7585 - val_loss: 0.4297 - val_recall: 0.8232\n",
      "Epoch 101/200\n",
      "270/270 [==============================] - 1s 4ms/step - loss: 0.4872 - recall: 0.7718 - val_loss: 0.4000 - val_recall: 0.8066\n",
      "Epoch 102/200\n",
      "270/270 [==============================] - 2s 6ms/step - loss: 0.4929 - recall: 0.7597 - val_loss: 0.4299 - val_recall: 0.8122\n",
      "Epoch 103/200\n",
      "270/270 [==============================] - 1s 4ms/step - loss: 0.4796 - recall: 0.7712 - val_loss: 0.4648 - val_recall: 0.8398\n",
      "Epoch 104/200\n",
      "270/270 [==============================] - 1s 3ms/step - loss: 0.4855 - recall: 0.7682 - val_loss: 0.4640 - val_recall: 0.8564\n",
      "Epoch 105/200\n",
      "270/270 [==============================] - 1s 4ms/step - loss: 0.4801 - recall: 0.7694 - val_loss: 0.4198 - val_recall: 0.8177\n",
      "Epoch 106/200\n",
      "270/270 [==============================] - 1s 3ms/step - loss: 0.4812 - recall: 0.7748 - val_loss: 0.4179 - val_recall: 0.8066\n",
      "Epoch 107/200\n",
      "270/270 [==============================] - 1s 3ms/step - loss: 0.4790 - recall: 0.7736 - val_loss: 0.4362 - val_recall: 0.8232\n",
      "Epoch 108/200\n",
      "270/270 [==============================] - 2s 6ms/step - loss: 0.4841 - recall: 0.7651 - val_loss: 0.4433 - val_recall: 0.8232\n",
      "Epoch 109/200\n",
      "270/270 [==============================] - 2s 6ms/step - loss: 0.4832 - recall: 0.7591 - val_loss: 0.4338 - val_recall: 0.8232\n",
      "Epoch 110/200\n",
      "270/270 [==============================] - 1s 4ms/step - loss: 0.4802 - recall: 0.7730 - val_loss: 0.4458 - val_recall: 0.8177\n",
      "Epoch 111/200\n",
      "270/270 [==============================] - 1s 4ms/step - loss: 0.4829 - recall: 0.7676 - val_loss: 0.4351 - val_recall: 0.8122\n",
      "Epoch 112/200\n",
      "270/270 [==============================] - 1s 4ms/step - loss: 0.4845 - recall: 0.7433 - val_loss: 0.4421 - val_recall: 0.8287\n",
      "Epoch 113/200\n",
      "270/270 [==============================] - 1s 5ms/step - loss: 0.4818 - recall: 0.7718 - val_loss: 0.4496 - val_recall: 0.8453\n",
      "Epoch 114/200\n",
      "270/270 [==============================] - 1s 5ms/step - loss: 0.4793 - recall: 0.7724 - val_loss: 0.4243 - val_recall: 0.8232\n",
      "Epoch 115/200\n",
      "270/270 [==============================] - 2s 6ms/step - loss: 0.4846 - recall: 0.7694 - val_loss: 0.4397 - val_recall: 0.8287\n",
      "Epoch 116/200\n",
      "270/270 [==============================] - 1s 5ms/step - loss: 0.4842 - recall: 0.7748 - val_loss: 0.4320 - val_recall: 0.8177\n",
      "Epoch 117/200\n"
     ]
    },
    {
     "name": "stdout",
     "output_type": "stream",
     "text": [
      "270/270 [==============================] - 1s 5ms/step - loss: 0.4791 - recall: 0.7548 - val_loss: 0.4302 - val_recall: 0.8177\n",
      "Epoch 118/200\n",
      "270/270 [==============================] - 1s 5ms/step - loss: 0.4781 - recall: 0.7500 - val_loss: 0.4236 - val_recall: 0.8177\n",
      "Epoch 119/200\n",
      "270/270 [==============================] - 1s 4ms/step - loss: 0.4783 - recall: 0.7573 - val_loss: 0.4682 - val_recall: 0.8232\n",
      "Epoch 120/200\n",
      "270/270 [==============================] - 1s 4ms/step - loss: 0.4801 - recall: 0.7621 - val_loss: 0.4116 - val_recall: 0.7901\n",
      "Epoch 121/200\n",
      "270/270 [==============================] - 1s 4ms/step - loss: 0.4845 - recall: 0.7567 - val_loss: 0.4570 - val_recall: 0.8343\n",
      "Epoch 122/200\n",
      "270/270 [==============================] - 1s 5ms/step - loss: 0.4822 - recall: 0.7748 - val_loss: 0.4070 - val_recall: 0.8011\n",
      "Epoch 123/200\n",
      "270/270 [==============================] - 1s 4ms/step - loss: 0.4782 - recall: 0.7597 - val_loss: 0.4239 - val_recall: 0.8177\n",
      "Epoch 124/200\n",
      "270/270 [==============================] - 1s 4ms/step - loss: 0.4787 - recall: 0.7609 - val_loss: 0.4327 - val_recall: 0.8122\n",
      "Epoch 125/200\n",
      "270/270 [==============================] - 1s 4ms/step - loss: 0.4789 - recall: 0.7676 - val_loss: 0.4274 - val_recall: 0.8066\n",
      "Epoch 126/200\n",
      "270/270 [==============================] - 1s 3ms/step - loss: 0.4791 - recall: 0.7603 - val_loss: 0.4296 - val_recall: 0.8343\n",
      "Epoch 127/200\n",
      "270/270 [==============================] - 1s 3ms/step - loss: 0.4828 - recall: 0.7682 - val_loss: 0.4264 - val_recall: 0.8232\n",
      "Epoch 128/200\n",
      "270/270 [==============================] - 1s 4ms/step - loss: 0.4807 - recall: 0.7579 - val_loss: 0.4255 - val_recall: 0.8232\n",
      "Epoch 129/200\n",
      "270/270 [==============================] - 1s 3ms/step - loss: 0.4792 - recall: 0.7821 - val_loss: 0.4233 - val_recall: 0.8453\n",
      "Epoch 130/200\n",
      "270/270 [==============================] - 1s 3ms/step - loss: 0.4830 - recall: 0.7730 - val_loss: 0.4325 - val_recall: 0.8177\n",
      "Epoch 131/200\n",
      "270/270 [==============================] - 1s 3ms/step - loss: 0.4815 - recall: 0.7524 - val_loss: 0.4437 - val_recall: 0.8343\n",
      "Epoch 132/200\n",
      "270/270 [==============================] - 1s 3ms/step - loss: 0.4833 - recall: 0.7579 - val_loss: 0.4231 - val_recall: 0.8343\n",
      "Epoch 133/200\n",
      "270/270 [==============================] - 1s 3ms/step - loss: 0.4787 - recall: 0.7772 - val_loss: 0.4100 - val_recall: 0.8011\n",
      "Epoch 134/200\n",
      "270/270 [==============================] - 1s 5ms/step - loss: 0.4823 - recall: 0.7682 - val_loss: 0.4046 - val_recall: 0.8066\n",
      "Epoch 135/200\n",
      "270/270 [==============================] - 1s 3ms/step - loss: 0.4776 - recall: 0.7676 - val_loss: 0.4191 - val_recall: 0.8232\n",
      "Epoch 136/200\n",
      "270/270 [==============================] - 1s 3ms/step - loss: 0.4808 - recall: 0.7766 - val_loss: 0.4011 - val_recall: 0.7901\n",
      "Epoch 137/200\n",
      "270/270 [==============================] - 1s 4ms/step - loss: 0.4832 - recall: 0.7579 - val_loss: 0.4240 - val_recall: 0.8177\n",
      "Epoch 138/200\n",
      "270/270 [==============================] - 1s 3ms/step - loss: 0.4802 - recall: 0.7554 - val_loss: 0.3996 - val_recall: 0.7680\n",
      "Epoch 139/200\n",
      "270/270 [==============================] - 1s 3ms/step - loss: 0.4839 - recall: 0.7627 - val_loss: 0.4239 - val_recall: 0.8232\n",
      "Epoch 140/200\n",
      "270/270 [==============================] - 1s 4ms/step - loss: 0.4780 - recall: 0.7651 - val_loss: 0.4380 - val_recall: 0.8287\n",
      "Epoch 141/200\n",
      "270/270 [==============================] - 1s 5ms/step - loss: 0.4752 - recall: 0.7887 - val_loss: 0.3829 - val_recall: 0.7901\n",
      "Epoch 142/200\n",
      "270/270 [==============================] - 1s 5ms/step - loss: 0.4850 - recall: 0.7488 - val_loss: 0.4013 - val_recall: 0.8011\n",
      "Epoch 143/200\n",
      "270/270 [==============================] - 1s 3ms/step - loss: 0.4770 - recall: 0.7772 - val_loss: 0.4156 - val_recall: 0.8122\n",
      "Epoch 144/200\n",
      "270/270 [==============================] - 1s 4ms/step - loss: 0.4778 - recall: 0.7645 - val_loss: 0.4223 - val_recall: 0.8177\n",
      "Epoch 145/200\n",
      "270/270 [==============================] - 1s 3ms/step - loss: 0.4851 - recall: 0.7542 - val_loss: 0.4125 - val_recall: 0.8343\n",
      "Epoch 146/200\n",
      "270/270 [==============================] - 1s 3ms/step - loss: 0.4838 - recall: 0.7585 - val_loss: 0.4081 - val_recall: 0.8122\n",
      "Epoch 147/200\n",
      "270/270 [==============================] - 1s 3ms/step - loss: 0.4815 - recall: 0.7736 - val_loss: 0.3988 - val_recall: 0.7956\n",
      "Epoch 148/200\n",
      "270/270 [==============================] - 1s 3ms/step - loss: 0.4798 - recall: 0.7591 - val_loss: 0.4330 - val_recall: 0.8398\n",
      "Epoch 149/200\n",
      "270/270 [==============================] - 1s 3ms/step - loss: 0.4799 - recall: 0.7676 - val_loss: 0.4497 - val_recall: 0.8343\n",
      "Epoch 150/200\n",
      "270/270 [==============================] - 1s 3ms/step - loss: 0.4778 - recall: 0.7639 - val_loss: 0.4072 - val_recall: 0.7956\n",
      "Epoch 151/200\n",
      "270/270 [==============================] - 1s 3ms/step - loss: 0.4827 - recall: 0.7488 - val_loss: 0.4615 - val_recall: 0.8343\n",
      "Epoch 152/200\n",
      "270/270 [==============================] - 1s 5ms/step - loss: 0.4814 - recall: 0.7542 - val_loss: 0.4189 - val_recall: 0.7901\n",
      "Epoch 153/200\n",
      "270/270 [==============================] - 1s 4ms/step - loss: 0.4824 - recall: 0.7645 - val_loss: 0.4259 - val_recall: 0.8066\n",
      "Epoch 154/200\n",
      "270/270 [==============================] - 1s 3ms/step - loss: 0.4841 - recall: 0.7573 - val_loss: 0.4381 - val_recall: 0.8343\n",
      "Epoch 155/200\n",
      "270/270 [==============================] - 1s 4ms/step - loss: 0.4733 - recall: 0.7627 - val_loss: 0.4176 - val_recall: 0.8177\n",
      "Epoch 156/200\n",
      "270/270 [==============================] - 1s 4ms/step - loss: 0.4841 - recall: 0.7676 - val_loss: 0.4315 - val_recall: 0.8177\n",
      "Epoch 157/200\n",
      "270/270 [==============================] - 1s 4ms/step - loss: 0.4796 - recall: 0.7597 - val_loss: 0.4115 - val_recall: 0.7956\n",
      "Epoch 158/200\n",
      "270/270 [==============================] - 1s 3ms/step - loss: 0.4769 - recall: 0.7579 - val_loss: 0.4055 - val_recall: 0.7956\n",
      "Epoch 159/200\n",
      "270/270 [==============================] - 1s 3ms/step - loss: 0.4792 - recall: 0.7536 - val_loss: 0.4388 - val_recall: 0.8564\n",
      "Epoch 160/200\n",
      "270/270 [==============================] - 1s 5ms/step - loss: 0.4756 - recall: 0.7694 - val_loss: 0.4092 - val_recall: 0.8398\n",
      "Epoch 161/200\n",
      "270/270 [==============================] - 1s 4ms/step - loss: 0.4767 - recall: 0.7736 - val_loss: 0.4148 - val_recall: 0.8232\n",
      "Epoch 162/200\n",
      "270/270 [==============================] - 1s 4ms/step - loss: 0.4782 - recall: 0.7845 - val_loss: 0.4155 - val_recall: 0.8122\n",
      "Epoch 163/200\n",
      "270/270 [==============================] - 1s 3ms/step - loss: 0.4749 - recall: 0.7657 - val_loss: 0.3948 - val_recall: 0.8066\n",
      "Epoch 164/200\n",
      "270/270 [==============================] - 1s 4ms/step - loss: 0.4785 - recall: 0.7524 - val_loss: 0.4694 - val_recall: 0.8453\n",
      "Epoch 165/200\n",
      "270/270 [==============================] - 1s 3ms/step - loss: 0.4830 - recall: 0.7778 - val_loss: 0.4551 - val_recall: 0.8398\n",
      "Epoch 166/200\n",
      "270/270 [==============================] - 1s 3ms/step - loss: 0.4801 - recall: 0.7718 - val_loss: 0.4132 - val_recall: 0.8011\n",
      "Epoch 167/200\n",
      "270/270 [==============================] - 1s 4ms/step - loss: 0.4750 - recall: 0.7609 - val_loss: 0.4400 - val_recall: 0.8122\n",
      "Epoch 168/200\n",
      "270/270 [==============================] - 1s 3ms/step - loss: 0.4788 - recall: 0.7688 - val_loss: 0.4154 - val_recall: 0.7901\n",
      "Epoch 169/200\n",
      "270/270 [==============================] - 1s 3ms/step - loss: 0.4761 - recall: 0.7730 - val_loss: 0.4315 - val_recall: 0.8343\n",
      "Epoch 170/200\n",
      "270/270 [==============================] - 1s 3ms/step - loss: 0.4800 - recall: 0.7676 - val_loss: 0.4514 - val_recall: 0.8287\n",
      "Epoch 171/200\n",
      "270/270 [==============================] - 1s 3ms/step - loss: 0.4779 - recall: 0.7615 - val_loss: 0.4072 - val_recall: 0.7735\n",
      "Epoch 172/200\n",
      "270/270 [==============================] - 1s 3ms/step - loss: 0.4719 - recall: 0.7676 - val_loss: 0.4305 - val_recall: 0.8122\n",
      "Epoch 173/200\n",
      "270/270 [==============================] - 1s 3ms/step - loss: 0.4766 - recall: 0.7603 - val_loss: 0.4072 - val_recall: 0.7956\n",
      "Epoch 174/200\n",
      "270/270 [==============================] - 1s 3ms/step - loss: 0.4810 - recall: 0.7627 - val_loss: 0.4110 - val_recall: 0.8011\n",
      "Epoch 175/200\n"
     ]
    },
    {
     "name": "stdout",
     "output_type": "stream",
     "text": [
      "270/270 [==============================] - 1s 3ms/step - loss: 0.4758 - recall: 0.7615 - val_loss: 0.4255 - val_recall: 0.8122\n",
      "Epoch 176/200\n",
      "270/270 [==============================] - 1s 3ms/step - loss: 0.4778 - recall: 0.7815 - val_loss: 0.4087 - val_recall: 0.7956\n",
      "Epoch 177/200\n",
      "270/270 [==============================] - 1s 3ms/step - loss: 0.4734 - recall: 0.7657 - val_loss: 0.4468 - val_recall: 0.8453\n",
      "Epoch 178/200\n",
      "270/270 [==============================] - 1s 3ms/step - loss: 0.4742 - recall: 0.7573 - val_loss: 0.4336 - val_recall: 0.8122\n",
      "Epoch 179/200\n",
      "270/270 [==============================] - 1s 4ms/step - loss: 0.4751 - recall: 0.7748 - val_loss: 0.4179 - val_recall: 0.7956\n",
      "Epoch 180/200\n",
      "270/270 [==============================] - 1s 4ms/step - loss: 0.4785 - recall: 0.7682 - val_loss: 0.4081 - val_recall: 0.8066\n",
      "Epoch 181/200\n",
      "270/270 [==============================] - 1s 4ms/step - loss: 0.4761 - recall: 0.7700 - val_loss: 0.4353 - val_recall: 0.8232\n",
      "Epoch 182/200\n",
      "270/270 [==============================] - 1s 3ms/step - loss: 0.4761 - recall: 0.7621 - val_loss: 0.4215 - val_recall: 0.7680\n",
      "Epoch 183/200\n",
      "270/270 [==============================] - 1s 3ms/step - loss: 0.4733 - recall: 0.7621 - val_loss: 0.4041 - val_recall: 0.7845\n",
      "Epoch 184/200\n",
      "270/270 [==============================] - 1s 3ms/step - loss: 0.4757 - recall: 0.7754 - val_loss: 0.4185 - val_recall: 0.8122\n",
      "Epoch 185/200\n",
      "270/270 [==============================] - 1s 4ms/step - loss: 0.4838 - recall: 0.7742 - val_loss: 0.4274 - val_recall: 0.8177\n",
      "Epoch 186/200\n",
      "270/270 [==============================] - 1s 3ms/step - loss: 0.4790 - recall: 0.7603 - val_loss: 0.4206 - val_recall: 0.8011\n",
      "Epoch 187/200\n",
      "270/270 [==============================] - 1s 3ms/step - loss: 0.4722 - recall: 0.7772 - val_loss: 0.4239 - val_recall: 0.7901\n",
      "Epoch 188/200\n",
      "270/270 [==============================] - 1s 5ms/step - loss: 0.4796 - recall: 0.7530 - val_loss: 0.4065 - val_recall: 0.7735\n",
      "Epoch 189/200\n",
      "270/270 [==============================] - 1s 4ms/step - loss: 0.4779 - recall: 0.7530 - val_loss: 0.4143 - val_recall: 0.7901\n",
      "Epoch 190/200\n",
      "270/270 [==============================] - 1s 4ms/step - loss: 0.4769 - recall: 0.7688 - val_loss: 0.4257 - val_recall: 0.8122\n",
      "Epoch 191/200\n",
      "270/270 [==============================] - 1s 4ms/step - loss: 0.4764 - recall: 0.7452 - val_loss: 0.4206 - val_recall: 0.8011\n",
      "Epoch 192/200\n",
      "270/270 [==============================] - 1s 4ms/step - loss: 0.4722 - recall: 0.7530 - val_loss: 0.4205 - val_recall: 0.8122\n",
      "Epoch 193/200\n",
      "270/270 [==============================] - 1s 4ms/step - loss: 0.4714 - recall: 0.7803 - val_loss: 0.4233 - val_recall: 0.8232\n",
      "Epoch 194/200\n",
      "270/270 [==============================] - 1s 3ms/step - loss: 0.4696 - recall: 0.7736 - val_loss: 0.4374 - val_recall: 0.8343\n",
      "Epoch 195/200\n",
      "270/270 [==============================] - 1s 4ms/step - loss: 0.4770 - recall: 0.7700 - val_loss: 0.4134 - val_recall: 0.8011\n",
      "Epoch 196/200\n",
      "270/270 [==============================] - 1s 4ms/step - loss: 0.4770 - recall: 0.7700 - val_loss: 0.4352 - val_recall: 0.8398\n",
      "Epoch 197/200\n",
      "270/270 [==============================] - 1s 4ms/step - loss: 0.4820 - recall: 0.7524 - val_loss: 0.4378 - val_recall: 0.8122\n",
      "Epoch 198/200\n",
      "270/270 [==============================] - 1s 3ms/step - loss: 0.4764 - recall: 0.7688 - val_loss: 0.4543 - val_recall: 0.8508\n",
      "Epoch 199/200\n",
      "270/270 [==============================] - 1s 4ms/step - loss: 0.4750 - recall: 0.7663 - val_loss: 0.4153 - val_recall: 0.8066\n",
      "Epoch 200/200\n",
      "270/270 [==============================] - 1s 5ms/step - loss: 0.4791 - recall: 0.7609 - val_loss: 0.4214 - val_recall: 0.8232\n"
     ]
    },
    {
     "data": {
      "text/plain": [
       "<keras.callbacks.History at 0x20c80896ca0>"
      ]
     },
     "execution_count": 256,
     "metadata": {},
     "output_type": "execute_result"
    }
   ],
   "source": [
    "tf.random.set_seed(seed)\n",
    "\n",
    "model = Sequential()\n",
    "model.add(Dense(20, activation=\"relu\", input_dim = X_train.shape[1]))\n",
    "model.add(Dropout(0.2))\n",
    "\n",
    "model.add(Dense(15, activation=\"relu\"))\n",
    "model.add(Dropout(0.2))\n",
    "\n",
    "model.add(Dense(10, activation=\"relu\"))\n",
    "model.add(Dropout(0.2))\n",
    "model.add(Dense(1, activation=\"sigmoid\"))\n",
    "\n",
    "opt = Adam(learning_rate=0.001)\n",
    "model.compile(optimizer=opt, loss=\"binary_crossentropy\", metrics=[\"Recall\"])\n",
    "\n",
    "model.fit(x = X_train, y = y_train, validation_split = 0.1, batch_size = 30, epochs = 200, verbose=1, class_weight=class_weights)"
   ]
  },
  {
   "cell_type": "code",
   "execution_count": 257,
   "metadata": {
    "ExecuteTime": {
     "end_time": "2022-10-04T18:03:02.009125Z",
     "start_time": "2022-10-04T18:03:01.939164Z"
    }
   },
   "outputs": [
    {
     "name": "stdout",
     "output_type": "stream",
     "text": [
      "Model: \"sequential_6\"\n",
      "_________________________________________________________________\n",
      " Layer (type)                Output Shape              Param #   \n",
      "=================================================================\n",
      " dense_24 (Dense)            (None, 20)                240       \n",
      "                                                                 \n",
      " dropout (Dropout)           (None, 20)                0         \n",
      "                                                                 \n",
      " dense_25 (Dense)            (None, 15)                315       \n",
      "                                                                 \n",
      " dropout_1 (Dropout)         (None, 15)                0         \n",
      "                                                                 \n",
      " dense_26 (Dense)            (None, 10)                160       \n",
      "                                                                 \n",
      " dropout_2 (Dropout)         (None, 10)                0         \n",
      "                                                                 \n",
      " dense_27 (Dense)            (None, 1)                 11        \n",
      "                                                                 \n",
      "=================================================================\n",
      "Total params: 726\n",
      "Trainable params: 726\n",
      "Non-trainable params: 0\n",
      "_________________________________________________________________\n"
     ]
    }
   ],
   "source": [
    "print(model.summary())"
   ]
  },
  {
   "cell_type": "code",
   "execution_count": 258,
   "metadata": {
    "ExecuteTime": {
     "end_time": "2022-10-04T18:03:02.974695Z",
     "start_time": "2022-10-04T18:03:02.015124Z"
    }
   },
   "outputs": [
    {
     "data": {
      "image/png": "[encoded data removed]",
      "text/plain": [
       "<Figure size 720x432 with 1 Axes>"
      ]
     },
     "metadata": {},
     "output_type": "display_data"
    }
   ],
   "source": [
    "loss_df = pd.DataFrame(model.history.history)\n",
    "loss_df.plot()\n",
    "plt.show()"
   ]
  },
  {
   "cell_type": "code",
   "execution_count": 259,
   "metadata": {
    "ExecuteTime": {
     "end_time": "2022-10-04T18:03:04.124200Z",
     "start_time": "2022-10-04T18:03:02.979692Z"
    }
   },
   "outputs": [
    {
     "name": "stdout",
     "output_type": "stream",
     "text": [
      "loss :  0.4640037715435028\n",
      "recall :  0.7598039507865906\n",
      "----------------------------------------------------------------------------------------------------\n",
      "32/32 [==============================] - 0s 4ms/step\n",
      "[[618 178]\n",
      " [ 49 155]]\n",
      "              precision    recall  f1-score   support\n",
      "\n",
      "           0       0.93      0.78      0.84       796\n",
      "           1       0.47      0.76      0.58       204\n",
      "\n",
      "    accuracy                           0.77      1000\n",
      "   macro avg       0.70      0.77      0.71      1000\n",
      "weighted avg       0.83      0.77      0.79      1000\n",
      "\n"
     ]
    }
   ],
   "source": [
    "loss, recall = model.evaluate(X_test, y_test, verbose=0)\n",
    "print(\"loss : \", loss)\n",
    "print(\"recall : \", recall)\n",
    "print(\"-----\"*20)\n",
    "y_pred = model.predict(X_test) > 0.5\n",
    "print(confusion_matrix(y_test, y_pred))\n",
    "print(classification_report(y_test, y_pred))"
   ]
  },
  {
   "cell_type": "code",
   "execution_count": 260,
   "metadata": {
    "ExecuteTime": {
     "end_time": "2022-10-04T18:03:05.168693Z",
     "start_time": "2022-10-04T18:03:04.130194Z"
    }
   },
   "outputs": [
    {
     "name": "stdout",
     "output_type": "stream",
     "text": [
      "32/32 [==============================] - 0s 4ms/step\n"
     ]
    },
    {
     "data": {
      "image/png": "[encoded data removed]",
      "text/plain": [
       "<Figure size 720x432 with 1 Axes>"
      ]
     },
     "metadata": {},
     "output_type": "display_data"
    }
   ],
   "source": [
    "y_pred_proba = model.predict(X_test)\n",
    "precisions, recalls, thresholds = precision_recall_curve(y_test, y_pred_proba)\n",
    "plt.plot(recalls, precisions, label='ANN')\n",
    "plt.xlabel('recalls')\n",
    "plt.ylabel('precisions')\n",
    "plt.title('Precision-Recall curve')\n",
    "plt.show()"
   ]
  },
  {
   "cell_type": "code",
   "execution_count": 261,
   "metadata": {
    "ExecuteTime": {
     "end_time": "2022-10-04T18:03:05.198678Z",
     "start_time": "2022-10-04T18:03:05.174691Z"
    }
   },
   "outputs": [
    {
     "data": {
      "text/plain": [
       "0.6717355672877149"
      ]
     },
     "execution_count": 261,
     "metadata": {},
     "output_type": "execute_result"
    }
   ],
   "source": [
    "average_precision_score(y_test, y_pred_proba)"
   ]
  },
  {
   "cell_type": "markdown",
   "metadata": {},
   "source": [
    "### Add Early Stop"
   ]
  },
  {
   "cell_type": "markdown",
   "metadata": {},
   "source": [
    "#### Monitor the \"val_loss\" as metric"
   ]
  },
  {
   "cell_type": "code",
   "execution_count": 269,
   "metadata": {
    "ExecuteTime": {
     "end_time": "2022-10-04T18:05:55.950388Z",
     "start_time": "2022-10-04T18:05:28.686278Z"
    }
   },
   "outputs": [
    {
     "name": "stdout",
     "output_type": "stream",
     "text": [
      "Epoch 1/200\n",
      "270/270 [==============================] - 2s 4ms/step - loss: 0.6274 - recall: 0.6495 - val_loss: 0.4659 - val_recall: 0.5249\n",
      "Epoch 2/200\n",
      "270/270 [==============================] - 1s 3ms/step - loss: 0.5549 - recall: 0.7149 - val_loss: 0.4246 - val_recall: 0.6851\n",
      "Epoch 3/200\n",
      "270/270 [==============================] - 1s 3ms/step - loss: 0.5210 - recall: 0.7458 - val_loss: 0.4908 - val_recall: 0.8287\n",
      "Epoch 4/200\n",
      "270/270 [==============================] - 1s 3ms/step - loss: 0.5075 - recall: 0.7615 - val_loss: 0.4380 - val_recall: 0.7845\n",
      "Epoch 5/200\n",
      "270/270 [==============================] - 1s 3ms/step - loss: 0.5021 - recall: 0.7476 - val_loss: 0.4592 - val_recall: 0.8122\n",
      "Epoch 6/200\n",
      "270/270 [==============================] - 1s 3ms/step - loss: 0.4953 - recall: 0.7573 - val_loss: 0.3910 - val_recall: 0.7403\n",
      "Epoch 7/200\n",
      "270/270 [==============================] - 1s 3ms/step - loss: 0.4890 - recall: 0.7615 - val_loss: 0.4225 - val_recall: 0.7956\n",
      "Epoch 8/200\n",
      "270/270 [==============================] - 1s 4ms/step - loss: 0.4901 - recall: 0.7567 - val_loss: 0.5164 - val_recall: 0.8564\n",
      "Epoch 9/200\n",
      "270/270 [==============================] - 1s 3ms/step - loss: 0.4878 - recall: 0.7530 - val_loss: 0.3674 - val_recall: 0.7182\n",
      "Epoch 10/200\n",
      "270/270 [==============================] - 1s 3ms/step - loss: 0.4860 - recall: 0.7573 - val_loss: 0.4413 - val_recall: 0.7956\n",
      "Epoch 11/200\n",
      "270/270 [==============================] - 1s 3ms/step - loss: 0.4788 - recall: 0.7530 - val_loss: 0.4488 - val_recall: 0.8343\n",
      "Epoch 12/200\n",
      "270/270 [==============================] - 1s 3ms/step - loss: 0.4815 - recall: 0.7415 - val_loss: 0.4267 - val_recall: 0.7901\n",
      "Epoch 13/200\n",
      "270/270 [==============================] - 1s 3ms/step - loss: 0.4760 - recall: 0.7318 - val_loss: 0.4629 - val_recall: 0.8232\n",
      "Epoch 14/200\n",
      "270/270 [==============================] - 1s 3ms/step - loss: 0.4715 - recall: 0.7391 - val_loss: 0.5972 - val_recall: 0.9061\n",
      "Epoch 15/200\n",
      "270/270 [==============================] - 1s 3ms/step - loss: 0.4708 - recall: 0.7367 - val_loss: 0.4210 - val_recall: 0.7514\n",
      "Epoch 16/200\n",
      "270/270 [==============================] - 1s 3ms/step - loss: 0.4712 - recall: 0.7409 - val_loss: 0.3922 - val_recall: 0.7569\n",
      "Epoch 17/200\n",
      "270/270 [==============================] - 1s 3ms/step - loss: 0.4667 - recall: 0.7373 - val_loss: 0.4139 - val_recall: 0.8177\n",
      "Epoch 18/200\n",
      "270/270 [==============================] - 1s 3ms/step - loss: 0.4693 - recall: 0.7482 - val_loss: 0.4374 - val_recall: 0.8122\n",
      "Epoch 19/200\n",
      "270/270 [==============================] - 1s 3ms/step - loss: 0.4655 - recall: 0.7488 - val_loss: 0.3791 - val_recall: 0.7680\n",
      "Epoch 20/200\n",
      "270/270 [==============================] - 1s 3ms/step - loss: 0.4661 - recall: 0.7603 - val_loss: 0.3735 - val_recall: 0.7569\n",
      "Epoch 21/200\n",
      "270/270 [==============================] - 1s 3ms/step - loss: 0.4655 - recall: 0.7524 - val_loss: 0.4642 - val_recall: 0.8232\n",
      "Epoch 22/200\n",
      "270/270 [==============================] - 1s 3ms/step - loss: 0.4644 - recall: 0.7500 - val_loss: 0.4652 - val_recall: 0.8398\n",
      "Epoch 23/200\n",
      "270/270 [==============================] - 1s 3ms/step - loss: 0.4644 - recall: 0.7494 - val_loss: 0.3852 - val_recall: 0.7569\n",
      "Epoch 24/200\n",
      "270/270 [==============================] - 1s 3ms/step - loss: 0.4611 - recall: 0.7506 - val_loss: 0.4631 - val_recall: 0.8287\n",
      "Epoch 25/200\n",
      "270/270 [==============================] - 1s 3ms/step - loss: 0.4615 - recall: 0.7536 - val_loss: 0.4149 - val_recall: 0.7845\n",
      "Epoch 26/200\n",
      "270/270 [==============================] - 1s 3ms/step - loss: 0.4591 - recall: 0.7542 - val_loss: 0.4903 - val_recall: 0.8619\n",
      "Epoch 27/200\n",
      "270/270 [==============================] - 1s 3ms/step - loss: 0.4622 - recall: 0.7603 - val_loss: 0.4544 - val_recall: 0.8508\n",
      "Epoch 28/200\n",
      "270/270 [==============================] - 1s 5ms/step - loss: 0.4573 - recall: 0.7530 - val_loss: 0.4183 - val_recall: 0.7956\n",
      "Epoch 29/200\n",
      "250/270 [==========================>...] - ETA: 0s - loss: 0.4530 - recall: 0.7549Restoring model weights from the end of the best epoch: 9.\n",
      "270/270 [==============================] - 1s 4ms/step - loss: 0.4547 - recall: 0.7573 - val_loss: 0.4251 - val_recall: 0.7790\n",
      "Epoch 29: early stopping\n"
     ]
    },
    {
     "data": {
      "text/plain": [
       "<keras.callbacks.History at 0x20c748b6970>"
      ]
     },
     "execution_count": 269,
     "metadata": {},
     "output_type": "execute_result"
    }
   ],
   "source": [
    "tf.random.set_seed(seed)\n",
    "\n",
    "model = Sequential()\n",
    "model.add(Dense(20, activation=\"relu\", input_dim = X_train.shape[1]))\n",
    "model.add(Dense(15, activation=\"relu\"))\n",
    "model.add(Dense(10, activation=\"relu\"))\n",
    "model.add(Dense(1, activation=\"sigmoid\"))\n",
    "\n",
    "opt = Adam(learning_rate=0.005)\n",
    "model.compile(optimizer=opt, loss=\"binary_crossentropy\", metrics=[\"Recall\"])\n",
    "\n",
    "early_stop = EarlyStopping(monitor = \"val_loss\", mode = \"min\", verbose = 1, patience = 20, restore_best_weights = True)\n",
    "\n",
    "model.fit(x = X_train, y = y_train, validation_split = 0.1, batch_size = 30, epochs = 200, verbose=1, class_weight=class_weights, callbacks = [early_stop])\n",
    "\n"
   ]
  },
  {
   "cell_type": "code",
   "execution_count": 270,
   "metadata": {
    "ExecuteTime": {
     "end_time": "2022-10-04T18:05:56.482104Z",
     "start_time": "2022-10-04T18:05:55.954383Z"
    }
   },
   "outputs": [
    {
     "name": "stdout",
     "output_type": "stream",
     "text": [
      "Model: \"sequential_10\"\n",
      "_________________________________________________________________\n",
      " Layer (type)                Output Shape              Param #   \n",
      "=================================================================\n",
      " dense_40 (Dense)            (None, 20)                240       \n",
      "                                                                 \n",
      " dense_41 (Dense)            (None, 15)                315       \n",
      "                                                                 \n",
      " dense_42 (Dense)            (None, 10)                160       \n",
      "                                                                 \n",
      " dense_43 (Dense)            (None, 1)                 11        \n",
      "                                                                 \n",
      "=================================================================\n",
      "Total params: 726\n",
      "Trainable params: 726\n",
      "Non-trainable params: 0\n",
      "_________________________________________________________________\n",
      "None\n"
     ]
    },
    {
     "data": {
      "image/png": "[encoded data removed]",
      "text/plain": [
       "<Figure size 720x432 with 1 Axes>"
      ]
     },
     "metadata": {},
     "output_type": "display_data"
    }
   ],
   "source": [
    "print(model.summary())\n",
    "loss_df = pd.DataFrame(model.history.history)\n",
    "loss_df.plot()\n",
    "plt.show()"
   ]
  },
  {
   "cell_type": "code",
   "execution_count": 271,
   "metadata": {
    "ExecuteTime": {
     "end_time": "2022-10-04T18:05:57.108111Z",
     "start_time": "2022-10-04T18:05:56.488101Z"
    }
   },
   "outputs": [
    {
     "name": "stdout",
     "output_type": "stream",
     "text": [
      "loss :  0.4006643295288086\n",
      "recall :  0.6029411554336548\n",
      "----------------------------------------------------------------------------------------------------\n",
      "32/32 [==============================] - 0s 2ms/step\n",
      "[[681 115]\n",
      " [ 81 123]]\n",
      "              precision    recall  f1-score   support\n",
      "\n",
      "           0       0.89      0.86      0.87       796\n",
      "           1       0.52      0.60      0.56       204\n",
      "\n",
      "    accuracy                           0.80      1000\n",
      "   macro avg       0.71      0.73      0.72      1000\n",
      "weighted avg       0.82      0.80      0.81      1000\n",
      "\n"
     ]
    }
   ],
   "source": [
    "loss, recall = model.evaluate(X_test, y_test, verbose=0)\n",
    "print(\"loss : \", loss)\n",
    "print(\"recall : \", recall)\n",
    "print(\"-----\"*20)\n",
    "y_pred = model.predict(X_test) > 0.5\n",
    "print(confusion_matrix(y_test, y_pred))\n",
    "print(classification_report(y_test, y_pred))"
   ]
  },
  {
   "cell_type": "markdown",
   "metadata": {},
   "source": [
    "#### Monitor the \"val_recall\" as metric"
   ]
  },
  {
   "cell_type": "code",
   "execution_count": 272,
   "metadata": {
    "ExecuteTime": {
     "end_time": "2022-10-04T18:06:33.549443Z",
     "start_time": "2022-10-04T18:05:57.111117Z"
    }
   },
   "outputs": [
    {
     "name": "stdout",
     "output_type": "stream",
     "text": [
      "Epoch 1/200\n",
      "270/270 [==============================] - 3s 5ms/step - loss: 0.6274 - recall: 0.6495 - val_loss: 0.4659 - val_recall: 0.5249\n",
      "Epoch 2/200\n",
      "270/270 [==============================] - 1s 3ms/step - loss: 0.5549 - recall: 0.7149 - val_loss: 0.4246 - val_recall: 0.6851\n",
      "Epoch 3/200\n",
      "270/270 [==============================] - 1s 3ms/step - loss: 0.5210 - recall: 0.7458 - val_loss: 0.4908 - val_recall: 0.8287\n",
      "Epoch 4/200\n",
      "270/270 [==============================] - 1s 5ms/step - loss: 0.5075 - recall: 0.7615 - val_loss: 0.4380 - val_recall: 0.7845\n",
      "Epoch 5/200\n",
      "270/270 [==============================] - 1s 4ms/step - loss: 0.5021 - recall: 0.7476 - val_loss: 0.4592 - val_recall: 0.8122\n",
      "Epoch 6/200\n",
      "270/270 [==============================] - 1s 4ms/step - loss: 0.4953 - recall: 0.7573 - val_loss: 0.3910 - val_recall: 0.7403\n",
      "Epoch 7/200\n",
      "270/270 [==============================] - 1s 3ms/step - loss: 0.4890 - recall: 0.7615 - val_loss: 0.4225 - val_recall: 0.7956\n",
      "Epoch 8/200\n",
      "270/270 [==============================] - 1s 3ms/step - loss: 0.4901 - recall: 0.7567 - val_loss: 0.5164 - val_recall: 0.8564\n",
      "Epoch 9/200\n",
      "270/270 [==============================] - 1s 4ms/step - loss: 0.4878 - recall: 0.7530 - val_loss: 0.3674 - val_recall: 0.7182\n",
      "Epoch 10/200\n",
      "270/270 [==============================] - 1s 3ms/step - loss: 0.4860 - recall: 0.7573 - val_loss: 0.4413 - val_recall: 0.7956\n",
      "Epoch 11/200\n",
      "270/270 [==============================] - 1s 3ms/step - loss: 0.4788 - recall: 0.7530 - val_loss: 0.4488 - val_recall: 0.8343\n",
      "Epoch 12/200\n",
      "270/270 [==============================] - 1s 3ms/step - loss: 0.4815 - recall: 0.7415 - val_loss: 0.4267 - val_recall: 0.7901\n",
      "Epoch 13/200\n",
      "270/270 [==============================] - 1s 3ms/step - loss: 0.4760 - recall: 0.7318 - val_loss: 0.4629 - val_recall: 0.8232\n",
      "Epoch 14/200\n",
      "270/270 [==============================] - 1s 3ms/step - loss: 0.4715 - recall: 0.7391 - val_loss: 0.5972 - val_recall: 0.9061\n",
      "Epoch 15/200\n",
      "270/270 [==============================] - 1s 3ms/step - loss: 0.4708 - recall: 0.7367 - val_loss: 0.4210 - val_recall: 0.7514\n",
      "Epoch 16/200\n",
      "270/270 [==============================] - 1s 3ms/step - loss: 0.4712 - recall: 0.7409 - val_loss: 0.3922 - val_recall: 0.7569\n",
      "Epoch 17/200\n",
      "270/270 [==============================] - 1s 3ms/step - loss: 0.4667 - recall: 0.7373 - val_loss: 0.4139 - val_recall: 0.8177\n",
      "Epoch 18/200\n",
      "270/270 [==============================] - 1s 3ms/step - loss: 0.4693 - recall: 0.7482 - val_loss: 0.4374 - val_recall: 0.8122\n",
      "Epoch 19/200\n",
      "270/270 [==============================] - 1s 4ms/step - loss: 0.4655 - recall: 0.7488 - val_loss: 0.3791 - val_recall: 0.7680\n",
      "Epoch 20/200\n",
      "270/270 [==============================] - 1s 3ms/step - loss: 0.4661 - recall: 0.7603 - val_loss: 0.3735 - val_recall: 0.7569\n",
      "Epoch 21/200\n",
      "270/270 [==============================] - 1s 3ms/step - loss: 0.4655 - recall: 0.7524 - val_loss: 0.4642 - val_recall: 0.8232\n",
      "Epoch 22/200\n",
      "270/270 [==============================] - 1s 3ms/step - loss: 0.4644 - recall: 0.7500 - val_loss: 0.4652 - val_recall: 0.8398\n",
      "Epoch 23/200\n",
      "270/270 [==============================] - 1s 3ms/step - loss: 0.4644 - recall: 0.7494 - val_loss: 0.3852 - val_recall: 0.7569\n",
      "Epoch 24/200\n",
      "270/270 [==============================] - 1s 4ms/step - loss: 0.4611 - recall: 0.7506 - val_loss: 0.4631 - val_recall: 0.8287\n",
      "Epoch 25/200\n",
      "270/270 [==============================] - 1s 5ms/step - loss: 0.4615 - recall: 0.7536 - val_loss: 0.4149 - val_recall: 0.7845\n",
      "Epoch 26/200\n",
      "270/270 [==============================] - 2s 6ms/step - loss: 0.4591 - recall: 0.7542 - val_loss: 0.4903 - val_recall: 0.8619\n",
      "Epoch 27/200\n",
      "270/270 [==============================] - 1s 4ms/step - loss: 0.4622 - recall: 0.7603 - val_loss: 0.4544 - val_recall: 0.8508\n",
      "Epoch 28/200\n",
      "270/270 [==============================] - 1s 4ms/step - loss: 0.4573 - recall: 0.7530 - val_loss: 0.4183 - val_recall: 0.7956\n",
      "Epoch 29/200\n",
      "270/270 [==============================] - 1s 4ms/step - loss: 0.4547 - recall: 0.7573 - val_loss: 0.4251 - val_recall: 0.7790\n",
      "Epoch 30/200\n",
      "270/270 [==============================] - 1s 4ms/step - loss: 0.4553 - recall: 0.7512 - val_loss: 0.3966 - val_recall: 0.7956\n",
      "Epoch 31/200\n",
      "270/270 [==============================] - 2s 6ms/step - loss: 0.4562 - recall: 0.7536 - val_loss: 0.4437 - val_recall: 0.8011\n",
      "Epoch 32/200\n",
      "270/270 [==============================] - 1s 5ms/step - loss: 0.4544 - recall: 0.7542 - val_loss: 0.3754 - val_recall: 0.7514\n",
      "Epoch 33/200\n",
      "270/270 [==============================] - 1s 4ms/step - loss: 0.4540 - recall: 0.7488 - val_loss: 0.3783 - val_recall: 0.7790\n",
      "Epoch 34/200\n",
      "263/270 [============================>.] - ETA: 0s - loss: 0.4566 - recall: 0.7523Restoring model weights from the end of the best epoch: 14.\n",
      "270/270 [==============================] - 2s 6ms/step - loss: 0.4551 - recall: 0.7554 - val_loss: 0.4389 - val_recall: 0.8066\n",
      "Epoch 34: early stopping\n"
     ]
    },
    {
     "data": {
      "text/plain": [
       "<keras.callbacks.History at 0x20c8daef670>"
      ]
     },
     "execution_count": 272,
     "metadata": {},
     "output_type": "execute_result"
    }
   ],
   "source": [
    "tf.random.set_seed(seed)\n",
    "\n",
    "model = Sequential()\n",
    "model.add(Dense(20, activation=\"relu\", input_dim = X_train.shape[1]))\n",
    "model.add(Dense(15, activation=\"relu\"))\n",
    "model.add(Dense(10, activation=\"relu\"))\n",
    "model.add(Dense(1, activation=\"sigmoid\"))\n",
    "\n",
    "opt = Adam(learning_rate=0.005)\n",
    "model.compile(optimizer=opt, loss=\"binary_crossentropy\", metrics=[\"Recall\"])\n",
    "\n",
    "early_stop = EarlyStopping(monitor = \"val_recall\", mode = \"max\", verbose = 1, patience = 20, restore_best_weights = True)\n",
    "\n",
    "model.fit(x = X_train, y = y_train, validation_split = 0.1, batch_size = 30, epochs = 200, verbose=1, class_weight=class_weights, callbacks = [early_stop])"
   ]
  },
  {
   "cell_type": "code",
   "execution_count": 273,
   "metadata": {
    "ExecuteTime": {
     "end_time": "2022-10-04T18:06:34.329042Z",
     "start_time": "2022-10-04T18:06:33.566443Z"
    }
   },
   "outputs": [
    {
     "name": "stdout",
     "output_type": "stream",
     "text": [
      "Model: \"sequential_11\"\n",
      "_________________________________________________________________\n",
      " Layer (type)                Output Shape              Param #   \n",
      "=================================================================\n",
      " dense_44 (Dense)            (None, 20)                240       \n",
      "                                                                 \n",
      " dense_45 (Dense)            (None, 15)                315       \n",
      "                                                                 \n",
      " dense_46 (Dense)            (None, 10)                160       \n",
      "                                                                 \n",
      " dense_47 (Dense)            (None, 1)                 11        \n",
      "                                                                 \n",
      "=================================================================\n",
      "Total params: 726\n",
      "Trainable params: 726\n",
      "Non-trainable params: 0\n",
      "_________________________________________________________________\n",
      "None\n"
     ]
    },
    {
     "data": {
      "image/png": "[encoded data removed]",
      "text/plain": [
       "<Figure size 720x432 with 1 Axes>"
      ]
     },
     "metadata": {},
     "output_type": "display_data"
    }
   ],
   "source": [
    "print(model.summary())\n",
    "loss_df = pd.DataFrame(model.history.history)\n",
    "loss_df.plot()\n",
    "plt.show()"
   ]
  },
  {
   "cell_type": "code",
   "execution_count": 275,
   "metadata": {
    "ExecuteTime": {
     "end_time": "2022-10-04T18:06:36.107623Z",
     "start_time": "2022-10-04T18:06:35.143136Z"
    }
   },
   "outputs": [
    {
     "name": "stdout",
     "output_type": "stream",
     "text": [
      "loss :  0.6279158592224121\n",
      "recall :  0.8676470518112183\n",
      "----------------------------------------------------------------------------------------------------\n",
      "32/32 [==============================] - 0s 4ms/step\n",
      "[[483 313]\n",
      " [ 27 177]]\n",
      "              precision    recall  f1-score   support\n",
      "\n",
      "           0       0.95      0.61      0.74       796\n",
      "           1       0.36      0.87      0.51       204\n",
      "\n",
      "    accuracy                           0.66      1000\n",
      "   macro avg       0.65      0.74      0.62      1000\n",
      "weighted avg       0.83      0.66      0.69      1000\n",
      "\n"
     ]
    }
   ],
   "source": [
    "loss, recall = model.evaluate(X_test, y_test, verbose=0)\n",
    "print(\"loss : \", loss)\n",
    "print(\"recall : \", recall)\n",
    "print(\"-----\"*20)\n",
    "y_pred = model.predict(X_test) > 0.5\n",
    "print(confusion_matrix(y_test, y_pred))\n",
    "print(classification_report(y_test, y_pred))"
   ]
  },
  {
   "cell_type": "markdown",
   "metadata": {},
   "source": [
    "## GridSearchCV"
   ]
  },
  {
   "cell_type": "code",
   "execution_count": 287,
   "metadata": {
    "ExecuteTime": {
     "end_time": "2022-10-04T18:25:22.185931Z",
     "start_time": "2022-10-04T18:25:22.172938Z"
    }
   },
   "outputs": [],
   "source": [
    "from tensorflow.keras.optimizers import Adam, Adadelta, RMSprop, Nadam\n",
    "from tensorflow.keras.wrappers.scikit_learn import KerasClassifier\n",
    "\n",
    "def build_classifier(optimizer, learn_rate):\n",
    "    classifier = Sequential()\n",
    "    classifier.add(Dense(20, activation=\"relu\", input_dim = X_train.shape[1]))\n",
    "    classifier.add(Dropout(0.2))\n",
    "    classifier.add(Dense(15, activation=\"relu\"))\n",
    "    classifier.add(Dropout(0.2))\n",
    "    classifier.add(Dense(10, activation=\"relu\"))\n",
    "    classifier.add(Dropout(0.2))\n",
    "    classifier.add(Dense(1, activation=\"sigmoid\"))\n",
    "    classifier.compile(optimizer = optimizer(learn_rate), loss = 'binary_crossentropy', metrics = ['Recall'])\n",
    "    return classifier"
   ]
  },
  {
   "cell_type": "code",
   "execution_count": 288,
   "metadata": {
    "ExecuteTime": {
     "end_time": "2022-10-04T18:38:04.550480Z",
     "start_time": "2022-10-04T18:25:25.462571Z"
    }
   },
   "outputs": [
    {
     "name": "stdout",
     "output_type": "stream",
     "text": [
      "Fitting 5 folds for each of 12 candidates, totalling 60 fits\n",
      "Epoch 1/200\n",
      "270/270 [==============================] - 2s 4ms/step - loss: 0.6489 - recall: 0.6253 - val_loss: 0.5368 - val_recall: 0.5691\n",
      "Epoch 2/200\n",
      "270/270 [==============================] - 1s 3ms/step - loss: 0.5996 - recall: 0.6640 - val_loss: 0.5007 - val_recall: 0.7238\n",
      "Epoch 3/200\n",
      "270/270 [==============================] - 1s 3ms/step - loss: 0.5667 - recall: 0.6877 - val_loss: 0.5263 - val_recall: 0.8564\n",
      "Epoch 4/200\n",
      "270/270 [==============================] - 1s 3ms/step - loss: 0.5414 - recall: 0.7125 - val_loss: 0.4613 - val_recall: 0.7901\n",
      "Epoch 5/200\n",
      "270/270 [==============================] - 1s 3ms/step - loss: 0.5434 - recall: 0.7028 - val_loss: 0.4364 - val_recall: 0.7735\n",
      "Epoch 6/200\n",
      "270/270 [==============================] - 1s 4ms/step - loss: 0.5423 - recall: 0.7149 - val_loss: 0.4933 - val_recall: 0.8453\n",
      "Epoch 7/200\n",
      "270/270 [==============================] - 1s 4ms/step - loss: 0.5312 - recall: 0.7173 - val_loss: 0.4252 - val_recall: 0.8011\n",
      "Epoch 8/200\n",
      "270/270 [==============================] - 1s 4ms/step - loss: 0.5278 - recall: 0.7312 - val_loss: 0.5064 - val_recall: 0.8508\n",
      "Epoch 9/200\n",
      "270/270 [==============================] - 1s 4ms/step - loss: 0.5379 - recall: 0.7258 - val_loss: 0.4207 - val_recall: 0.7901\n",
      "Epoch 10/200\n",
      "270/270 [==============================] - 1s 4ms/step - loss: 0.5303 - recall: 0.7439 - val_loss: 0.4394 - val_recall: 0.8066\n",
      "Epoch 11/200\n",
      "270/270 [==============================] - 1s 5ms/step - loss: 0.5244 - recall: 0.7252 - val_loss: 0.4667 - val_recall: 0.8287\n",
      "Epoch 12/200\n",
      "270/270 [==============================] - 2s 7ms/step - loss: 0.5300 - recall: 0.7240 - val_loss: 0.4340 - val_recall: 0.7956\n",
      "Epoch 13/200\n",
      "270/270 [==============================] - 1s 5ms/step - loss: 0.5241 - recall: 0.7264 - val_loss: 0.4927 - val_recall: 0.8453\n",
      "Epoch 14/200\n",
      "270/270 [==============================] - 2s 6ms/step - loss: 0.5234 - recall: 0.7373 - val_loss: 0.5615 - val_recall: 0.8508\n",
      "Epoch 15/200\n",
      "270/270 [==============================] - 1s 4ms/step - loss: 0.5168 - recall: 0.7131 - val_loss: 0.4436 - val_recall: 0.7956\n",
      "Epoch 16/200\n",
      "270/270 [==============================] - 1s 4ms/step - loss: 0.5172 - recall: 0.7318 - val_loss: 0.4723 - val_recall: 0.8122\n",
      "Epoch 17/200\n",
      "270/270 [==============================] - 1s 4ms/step - loss: 0.5102 - recall: 0.7464 - val_loss: 0.4140 - val_recall: 0.8453\n",
      "Epoch 18/200\n",
      "270/270 [==============================] - 1s 4ms/step - loss: 0.5187 - recall: 0.7391 - val_loss: 0.4188 - val_recall: 0.7901\n",
      "Epoch 19/200\n",
      "270/270 [==============================] - 1s 4ms/step - loss: 0.5175 - recall: 0.7294 - val_loss: 0.4232 - val_recall: 0.8066\n",
      "Epoch 20/200\n",
      "270/270 [==============================] - 1s 5ms/step - loss: 0.5215 - recall: 0.7373 - val_loss: 0.3942 - val_recall: 0.7459\n",
      "Epoch 21/200\n",
      "270/270 [==============================] - 1s 5ms/step - loss: 0.5178 - recall: 0.7258 - val_loss: 0.4195 - val_recall: 0.7956\n",
      "Epoch 22/200\n",
      "270/270 [==============================] - 1s 5ms/step - loss: 0.5194 - recall: 0.7494 - val_loss: 0.4626 - val_recall: 0.8398\n",
      "Epoch 23/200\n",
      "255/270 [===========================>..] - ETA: 0s - loss: 0.5201 - recall: 0.7382Restoring model weights from the end of the best epoch: 3.\n",
      "270/270 [==============================] - 1s 5ms/step - loss: 0.5186 - recall: 0.7349 - val_loss: 0.4102 - val_recall: 0.7845\n",
      "Epoch 23: early stopping\n"
     ]
    },
    {
     "data": {
      "text/plain": [
       "GridSearchCV(cv=5,\n",
       "             estimator=<keras.wrappers.scikit_learn.KerasClassifier object at 0x0000020C914BAA90>,\n",
       "             n_jobs=-1,\n",
       "             param_grid={'batch_size': [30, 60],\n",
       "                         'learn_rate': [0.001, 0.005, 0.01],\n",
       "                         'optimizer': [<class 'keras.optimizers.optimizer_v2.adam.Adam'>,\n",
       "                                       <class 'keras.optimizers.optimizer_v2.rmsprop.RMSprop'>]},\n",
       "             scoring='recall', verbose=1)"
      ]
     },
     "execution_count": 288,
     "metadata": {},
     "output_type": "execute_result"
    }
   ],
   "source": [
    "early_stop = EarlyStopping(monitor = \"val_recall\", mode = \"max\", verbose = 1, patience = 20, restore_best_weights = True)\n",
    "tf.random.set_seed(seed)\n",
    "classifier_model = KerasClassifier(build_fn = build_classifier, validation_split = 0.1, epochs = 200)\n",
    "\n",
    "parameters = {'batch_size': [30, 60],\n",
    "              'optimizer': [Adam, RMSprop],\n",
    "              'learn_rate': [0.001, 0.005, 0.01]}\n",
    "\n",
    "grid_model = GridSearchCV(estimator = classifier_model, param_grid = parameters, scoring = 'recall',\n",
    "                          cv = 5, n_jobs = -1, verbose = 1)\n",
    "\n",
    "grid_model.fit(X_train, y_train, callbacks = [early_stop], class_weight=class_weights)"
   ]
  },
  {
   "cell_type": "code",
   "execution_count": 289,
   "metadata": {
    "ExecuteTime": {
     "end_time": "2022-10-04T18:38:04.583458Z",
     "start_time": "2022-10-04T18:38:04.562470Z"
    }
   },
   "outputs": [
    {
     "name": "stdout",
     "output_type": "stream",
     "text": [
      "0.860154541136682\n",
      "{'batch_size': 30, 'learn_rate': 0.01, 'optimizer': <class 'keras.optimizers.optimizer_v2.adam.Adam'>}\n"
     ]
    }
   ],
   "source": [
    "print(grid_model.best_score_)\n",
    "print(grid_model.best_params_)\n"
   ]
  },
  {
   "cell_type": "code",
   "execution_count": null,
   "metadata": {},
   "outputs": [],
   "source": []
  },
  {
   "cell_type": "markdown",
   "metadata": {},
   "source": [
    "### Evaluate The Model\n",
    "\n",
    "- Plot the model history to observe the changing of metrics\n",
    "- Make prediction to see \"confusion matrix\" and \"classification report\"\n",
    "- Check ROC (Receiver Operating Curve) and AUC (Area Under Curve) for the model"
   ]
  },
  {
   "cell_type": "code",
   "execution_count": 290,
   "metadata": {
    "ExecuteTime": {
     "end_time": "2022-10-04T18:38:18.990688Z",
     "start_time": "2022-10-04T18:38:04.588457Z"
    }
   },
   "outputs": [
    {
     "name": "stdout",
     "output_type": "stream",
     "text": [
      "32/32 [==============================] - 0s 5ms/step\n",
      "[[538 258]\n",
      " [ 41 163]]\n",
      "              precision    recall  f1-score   support\n",
      "\n",
      "           0       0.93      0.68      0.78       796\n",
      "           1       0.39      0.80      0.52       204\n",
      "\n",
      "    accuracy                           0.70      1000\n",
      "   macro avg       0.66      0.74      0.65      1000\n",
      "weighted avg       0.82      0.70      0.73      1000\n",
      "\n"
     ]
    }
   ],
   "source": [
    "y_pred = grid_model.predict(X_test) > 0.5\n",
    "print(confusion_matrix(y_test, y_pred))\n",
    "print(classification_report(y_test, y_pred))"
   ]
  },
  {
   "cell_type": "code",
   "execution_count": 291,
   "metadata": {
    "ExecuteTime": {
     "end_time": "2022-10-04T18:38:19.874475Z",
     "start_time": "2022-10-04T18:38:19.005679Z"
    }
   },
   "outputs": [
    {
     "name": "stdout",
     "output_type": "stream",
     "text": [
      "32/32 [==============================] - 0s 4ms/step\n"
     ]
    },
    {
     "data": {
      "image/png": "[encoded data removed]",
      "text/plain": [
       "<Figure size 720x432 with 1 Axes>"
      ]
     },
     "metadata": {},
     "output_type": "display_data"
    }
   ],
   "source": [
    "y_pred_proba = grid_model.predict(X_test)\n",
    "precisions, recalls, thresholds = precision_recall_curve(y_test, y_pred_proba)\n",
    "plt.plot(recalls, precisions, label='ANN')\n",
    "plt.xlabel('recalls')\n",
    "plt.ylabel('precisions')\n",
    "plt.title('Precision-Recall curve')\n",
    "plt.show()"
   ]
  },
  {
   "cell_type": "code",
   "execution_count": 292,
   "metadata": {
    "ExecuteTime": {
     "end_time": "2022-10-04T18:38:19.907455Z",
     "start_time": "2022-10-04T18:38:19.879470Z"
    }
   },
   "outputs": [
    {
     "data": {
      "text/plain": [
       "0.3503591355782218"
      ]
     },
     "execution_count": 292,
     "metadata": {},
     "output_type": "execute_result"
    }
   ],
   "source": [
    "average_precision_score(y_test, y_pred_proba)"
   ]
  },
  {
   "cell_type": "markdown",
   "metadata": {},
   "source": [
    "# Final Model and Model Deployment"
   ]
  },
  {
   "cell_type": "code",
   "execution_count": 293,
   "metadata": {
    "ExecuteTime": {
     "end_time": "2022-10-04T18:40:01.672773Z",
     "start_time": "2022-10-04T18:40:01.655785Z"
    }
   },
   "outputs": [],
   "source": [
    "import pickle\n",
    "\n",
    "pickle.dump(column_trans, open(\"column_transformation_churn\", 'wb'))"
   ]
  },
  {
   "cell_type": "code",
   "execution_count": 294,
   "metadata": {
    "ExecuteTime": {
     "end_time": "2022-10-04T18:43:29.434634Z",
     "start_time": "2022-10-04T18:42:41.491795Z"
    }
   },
   "outputs": [
    {
     "name": "stdout",
     "output_type": "stream",
     "text": [
      "Epoch 1/200\n",
      "300/300 [==============================] - 3s 6ms/step - loss: 0.6099 - recall: 0.6672 - val_loss: 0.5429 - val_recall: 0.6667\n",
      "Epoch 2/200\n",
      "300/300 [==============================] - 1s 4ms/step - loss: 0.5415 - recall: 0.7441 - val_loss: 0.5196 - val_recall: 0.7892\n",
      "Epoch 3/200\n",
      "300/300 [==============================] - 1s 4ms/step - loss: 0.5058 - recall: 0.7414 - val_loss: 0.5032 - val_recall: 0.7500\n",
      "Epoch 4/200\n",
      "300/300 [==============================] - 1s 4ms/step - loss: 0.4997 - recall: 0.7409 - val_loss: 0.5250 - val_recall: 0.7696\n",
      "Epoch 5/200\n",
      "300/300 [==============================] - 1s 4ms/step - loss: 0.4951 - recall: 0.7349 - val_loss: 0.4093 - val_recall: 0.6422\n",
      "Epoch 6/200\n",
      "300/300 [==============================] - 1s 4ms/step - loss: 0.4913 - recall: 0.7278 - val_loss: 0.4635 - val_recall: 0.7206\n",
      "Epoch 7/200\n",
      "300/300 [==============================] - 1s 4ms/step - loss: 0.4883 - recall: 0.7289 - val_loss: 0.4586 - val_recall: 0.7059\n",
      "Epoch 8/200\n",
      "300/300 [==============================] - 1s 5ms/step - loss: 0.4838 - recall: 0.7403 - val_loss: 0.5156 - val_recall: 0.7745\n",
      "Epoch 9/200\n",
      "300/300 [==============================] - 1s 4ms/step - loss: 0.4803 - recall: 0.7474 - val_loss: 0.4556 - val_recall: 0.7353\n",
      "Epoch 10/200\n",
      "300/300 [==============================] - 1s 4ms/step - loss: 0.4819 - recall: 0.7496 - val_loss: 0.4831 - val_recall: 0.7402\n",
      "Epoch 11/200\n",
      "300/300 [==============================] - 1s 4ms/step - loss: 0.4801 - recall: 0.7354 - val_loss: 0.5017 - val_recall: 0.7353\n",
      "Epoch 12/200\n",
      "300/300 [==============================] - 1s 4ms/step - loss: 0.4783 - recall: 0.7480 - val_loss: 0.5148 - val_recall: 0.7745\n",
      "Epoch 13/200\n",
      "300/300 [==============================] - 1s 4ms/step - loss: 0.4784 - recall: 0.7490 - val_loss: 0.4248 - val_recall: 0.7010\n",
      "Epoch 14/200\n",
      "300/300 [==============================] - 1s 4ms/step - loss: 0.4749 - recall: 0.7458 - val_loss: 0.4502 - val_recall: 0.7206\n",
      "Epoch 15/200\n",
      "300/300 [==============================] - 1s 5ms/step - loss: 0.4754 - recall: 0.7474 - val_loss: 0.4667 - val_recall: 0.7402\n",
      "Epoch 16/200\n",
      "300/300 [==============================] - 1s 4ms/step - loss: 0.4763 - recall: 0.7300 - val_loss: 0.4665 - val_recall: 0.7206\n",
      "Epoch 17/200\n",
      "300/300 [==============================] - 1s 4ms/step - loss: 0.4755 - recall: 0.7403 - val_loss: 0.4520 - val_recall: 0.7696\n",
      "Epoch 18/200\n",
      "300/300 [==============================] - 1s 4ms/step - loss: 0.4742 - recall: 0.7409 - val_loss: 0.5611 - val_recall: 0.8088\n",
      "Epoch 19/200\n",
      "300/300 [==============================] - 1s 4ms/step - loss: 0.4753 - recall: 0.7370 - val_loss: 0.5055 - val_recall: 0.7549\n",
      "Epoch 20/200\n",
      "300/300 [==============================] - 1s 4ms/step - loss: 0.4725 - recall: 0.7370 - val_loss: 0.5195 - val_recall: 0.7990\n",
      "Epoch 21/200\n",
      "300/300 [==============================] - 1s 4ms/step - loss: 0.4732 - recall: 0.7529 - val_loss: 0.4973 - val_recall: 0.7745\n",
      "Epoch 22/200\n",
      "300/300 [==============================] - 1s 4ms/step - loss: 0.4720 - recall: 0.7387 - val_loss: 0.4186 - val_recall: 0.6716\n",
      "Epoch 23/200\n",
      "300/300 [==============================] - 1s 4ms/step - loss: 0.4726 - recall: 0.7420 - val_loss: 0.4178 - val_recall: 0.7255\n",
      "Epoch 24/200\n",
      "300/300 [==============================] - 1s 4ms/step - loss: 0.4693 - recall: 0.7567 - val_loss: 0.4721 - val_recall: 0.7696\n",
      "Epoch 25/200\n",
      "300/300 [==============================] - 1s 4ms/step - loss: 0.4714 - recall: 0.7567 - val_loss: 0.4515 - val_recall: 0.7304\n",
      "Epoch 26/200\n",
      "300/300 [==============================] - 1s 4ms/step - loss: 0.4682 - recall: 0.7534 - val_loss: 0.4190 - val_recall: 0.7304\n",
      "Epoch 27/200\n",
      "300/300 [==============================] - 1s 4ms/step - loss: 0.4730 - recall: 0.7458 - val_loss: 0.4898 - val_recall: 0.7304\n",
      "Epoch 28/200\n",
      "300/300 [==============================] - 1s 4ms/step - loss: 0.4713 - recall: 0.7474 - val_loss: 0.4243 - val_recall: 0.7059\n",
      "Epoch 29/200\n",
      "300/300 [==============================] - 1s 4ms/step - loss: 0.4696 - recall: 0.7605 - val_loss: 0.4267 - val_recall: 0.7255\n",
      "Epoch 30/200\n",
      "300/300 [==============================] - 1s 4ms/step - loss: 0.4692 - recall: 0.7398 - val_loss: 0.4811 - val_recall: 0.7745\n",
      "Epoch 31/200\n",
      "300/300 [==============================] - 1s 4ms/step - loss: 0.4693 - recall: 0.7376 - val_loss: 0.4521 - val_recall: 0.7353\n",
      "Epoch 32/200\n",
      "300/300 [==============================] - 1s 4ms/step - loss: 0.4724 - recall: 0.7398 - val_loss: 0.4504 - val_recall: 0.7500\n",
      "Epoch 33/200\n",
      "300/300 [==============================] - 1s 4ms/step - loss: 0.4662 - recall: 0.7474 - val_loss: 0.5019 - val_recall: 0.7647\n",
      "Epoch 34/200\n",
      "300/300 [==============================] - 1s 4ms/step - loss: 0.4656 - recall: 0.7343 - val_loss: 0.4413 - val_recall: 0.7304\n",
      "Epoch 35/200\n",
      "300/300 [==============================] - 1s 4ms/step - loss: 0.4659 - recall: 0.7436 - val_loss: 0.5490 - val_recall: 0.7745\n",
      "Epoch 36/200\n",
      "300/300 [==============================] - 1s 4ms/step - loss: 0.4681 - recall: 0.7398 - val_loss: 0.4727 - val_recall: 0.7647\n",
      "Epoch 37/200\n",
      "300/300 [==============================] - 1s 4ms/step - loss: 0.4692 - recall: 0.7365 - val_loss: 0.4079 - val_recall: 0.6716\n",
      "Epoch 38/200\n",
      "291/300 [============================>.] - ETA: 0s - loss: 0.4679 - recall: 0.7435Restoring model weights from the end of the best epoch: 18.\n",
      "300/300 [==============================] - 1s 4ms/step - loss: 0.4676 - recall: 0.7430 - val_loss: 0.4522 - val_recall: 0.7451\n",
      "Epoch 38: early stopping\n"
     ]
    },
    {
     "data": {
      "text/plain": [
       "<keras.callbacks.History at 0x20c926f3310>"
      ]
     },
     "execution_count": 294,
     "metadata": {},
     "output_type": "execute_result"
    }
   ],
   "source": [
    "tf.random.set_seed(seed)\n",
    "\n",
    "model = Sequential()\n",
    "model.add(Dense(20, activation=\"relu\", input_dim = X_train.shape[1]))\n",
    "model.add(Dense(15, activation=\"relu\"))\n",
    "model.add(Dense(10, activation=\"relu\"))\n",
    "model.add(Dense(1, activation=\"sigmoid\"))\n",
    "opt = RMSprop(lr=0.01)\n",
    "\n",
    "model.compile(optimizer=opt, loss=\"binary_crossentropy\", metrics=[\"Recall\"])\n",
    "\n",
    "early_stop = EarlyStopping(monitor=\"val_recall\", mode=\"max\", verbose=1, patience=20,restore_best_weights = True)\n",
    "model.fit(x=X_train, y=y_train, validation_data=(X_test, y_test), callbacks=[early_stop], batch_size=30,\n",
    "          epochs=200, verbose=1, class_weight=class_weights)"
   ]
  },
  {
   "cell_type": "code",
   "execution_count": 295,
   "metadata": {
    "ExecuteTime": {
     "end_time": "2022-10-04T18:43:29.854405Z",
     "start_time": "2022-10-04T18:43:29.443630Z"
    }
   },
   "outputs": [
    {
     "name": "stdout",
     "output_type": "stream",
     "text": [
      "32/32 [==============================] - 0s 4ms/step\n",
      "[[553 243]\n",
      " [ 39 165]]\n",
      "              precision    recall  f1-score   support\n",
      "\n",
      "           0       0.93      0.69      0.80       796\n",
      "           1       0.40      0.81      0.54       204\n",
      "\n",
      "    accuracy                           0.72      1000\n",
      "   macro avg       0.67      0.75      0.67      1000\n",
      "weighted avg       0.83      0.72      0.74      1000\n",
      "\n"
     ]
    }
   ],
   "source": [
    "y_pred = model.predict(X_test) > 0.5\n",
    "print(confusion_matrix(y_test, y_pred))\n",
    "print(classification_report(y_test, y_pred))"
   ]
  },
  {
   "cell_type": "code",
   "execution_count": 296,
   "metadata": {
    "ExecuteTime": {
     "end_time": "2022-10-04T18:43:29.960343Z",
     "start_time": "2022-10-04T18:43:29.865400Z"
    }
   },
   "outputs": [],
   "source": [
    "model.save('model_churn.h5')"
   ]
  },
  {
   "cell_type": "markdown",
   "metadata": {
    "id": "Cq10ovAX6daY"
   },
   "source": [
    "## Prediction"
   ]
  },
  {
   "cell_type": "code",
   "execution_count": 312,
   "metadata": {
    "ExecuteTime": {
     "end_time": "2022-10-04T18:50:30.004767Z",
     "start_time": "2022-10-04T18:50:29.630974Z"
    }
   },
   "outputs": [
    {
     "name": "stdout",
     "output_type": "stream",
     "text": [
      "1/1 [==============================] - 0s 114ms/step\n"
     ]
    },
    {
     "data": {
      "text/plain": [
       "array([[1]])"
      ]
     },
     "execution_count": 312,
     "metadata": {},
     "output_type": "execute_result"
    }
   ],
   "source": [
    "from tensorflow.keras.models import load_model\n",
    "\n",
    "model_churn = load_model('model_churn.h5')\n",
    "\n",
    "customer1 = X_test[0].reshape(1,11)\n",
    "y_pred = (model_churn.predict(customer1) > 0.5).astype(\"int32\")\n",
    "y_pred"
   ]
  },
  {
   "cell_type": "code",
   "execution_count": 313,
   "metadata": {
    "ExecuteTime": {
     "end_time": "2022-10-04T18:50:42.273061Z",
     "start_time": "2022-10-04T18:50:42.259067Z"
    }
   },
   "outputs": [
    {
     "data": {
      "text/plain": [
       "1"
      ]
     },
     "execution_count": 313,
     "metadata": {},
     "output_type": "execute_result"
    }
   ],
   "source": [
    "y.iloc[0]"
   ]
  }
 ],
 "metadata": {
  "colab": {
   "authorship_tag": "ABX9TyPKBWWuNpSuP7DHsa+Zpo3l",
   "collapsed_sections": [],
   "name": "Untitled0.ipynb",
   "provenance": []
  },
  "hide_input": false,
  "kernelspec": {
   "display_name": "Python 3 (ipykernel)",
   "language": "python",
   "name": "python3"
  },
  "language_info": {
   "codemirror_mode": {
    "name": "ipython",
    "version": 3
   },
   "file_extension": ".py",
   "mimetype": "text/x-python",
   "name": "python",
   "nbconvert_exporter": "python",
   "pygments_lexer": "ipython3",
   "version": "3.8.12"
  },
  "toc": {
   "base_numbering": 1,
   "nav_menu": {},
   "number_sections": false,
   "sideBar": true,
   "skip_h1_title": false,
   "title_cell": "Table of Contents",
   "title_sidebar": "Contents",
   "toc_cell": false,
   "toc_position": {
    "height": "calc(100% - 180px)",
    "left": "10px",
    "top": "150px",
    "width": "384px"
   },
   "toc_section_display": true,
   "toc_window_display": true
  }
 },
 "nbformat": 4,
 "nbformat_minor": 1
}
